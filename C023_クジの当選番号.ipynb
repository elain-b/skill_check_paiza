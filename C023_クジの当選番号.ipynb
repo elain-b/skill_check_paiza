{
  "nbformat": 4,
  "nbformat_minor": 0,
  "metadata": {
    "colab": {
      "name": "C023:クジの当選番号.ipynb",
      "provenance": [],
      "collapsed_sections": [],
      "authorship_tag": "ABX9TyPlMpi87VEaoSqvbkMez3xq",
      "include_colab_link": true
    },
    "kernelspec": {
      "name": "python3",
      "display_name": "Python 3"
    }
  },
  "cells": [
    {
      "cell_type": "markdown",
      "metadata": {
        "id": "view-in-github",
        "colab_type": "text"
      },
      "source": [
        "<a href=\"https://colab.research.google.com/github/elain-b/skill_check_paiza/blob/master/C023_%E3%82%AF%E3%82%B8%E3%81%AE%E5%BD%93%E9%81%B8%E7%95%AA%E5%8F%B7.ipynb\" target=\"_parent\"><img src=\"https://colab.research.google.com/assets/colab-badge.svg\" alt=\"Open In Colab\"/></a>"
      ]
    },
    {
      "cell_type": "code",
      "metadata": {
        "id": "W-77MguUdC0M",
        "colab_type": "code",
        "colab": {}
      },
      "source": [
        "import sys\n",
        "a = [int(s) for s in sys.stdin.readline().split()]\n",
        "N=int(input())\n",
        "b = [[int(s) for s in line.split()] for line in sys.stdin]\n",
        "for j in range(N):\n",
        "    c=0\n",
        "    for i in range(len(b[0])):\n",
        "        if a[i] in b[j]:\n",
        "            c += 1\n",
        "    print(c)"
      ],
      "execution_count": 0,
      "outputs": []
    }
  ]
}