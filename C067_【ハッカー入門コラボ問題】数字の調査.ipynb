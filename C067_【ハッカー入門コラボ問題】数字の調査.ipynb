{
  "nbformat": 4,
  "nbformat_minor": 0,
  "metadata": {
    "colab": {
      "name": "C067:【ハッカー入門コラボ問題】数字の調査.ipynb",
      "provenance": [],
      "collapsed_sections": [],
      "include_colab_link": true
    },
    "kernelspec": {
      "name": "python3",
      "display_name": "Python 3"
    }
  },
  "cells": [
    {
      "cell_type": "markdown",
      "metadata": {
        "id": "view-in-github",
        "colab_type": "text"
      },
      "source": [
        "<a href=\"https://colab.research.google.com/github/elain-b/skill_check_paiza/blob/master/C067_%E3%80%90%E3%83%8F%E3%83%83%E3%82%AB%E3%83%BC%E5%85%A5%E9%96%80%E3%82%B3%E3%83%A9%E3%83%9C%E5%95%8F%E9%A1%8C%E3%80%91%E6%95%B0%E5%AD%97%E3%81%AE%E8%AA%BF%E6%9F%BB.ipynb\" target=\"_parent\"><img src=\"https://colab.research.google.com/assets/colab-badge.svg\" alt=\"Open In Colab\"/></a>"
      ]
    },
    {
      "cell_type": "code",
      "metadata": {
        "id": "HBo4MDIZekcw",
        "colab_type": "code",
        "colab": {}
      },
      "source": [
        "N, X=map(int,input().split())\n",
        "bin_num = format(X, 'b')\n",
        "for i in range(N):\n",
        "    k = int(input())\n",
        "    print(bin_num[-k])"
      ],
      "execution_count": 0,
      "outputs": []
    }
  ]
}