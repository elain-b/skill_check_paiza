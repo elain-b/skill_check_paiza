{
  "nbformat": 4,
  "nbformat_minor": 0,
  "metadata": {
    "colab": {
      "name": "B050:【ぱいじょ！コラボ問題】有効なチケット.ipynb",
      "provenance": [],
      "collapsed_sections": [],
      "authorship_tag": "ABX9TyPDp2mVAlIAWJmXXW7nDPp7",
      "include_colab_link": true
    },
    "kernelspec": {
      "name": "python3",
      "display_name": "Python 3"
    }
  },
  "cells": [
    {
      "cell_type": "markdown",
      "metadata": {
        "id": "view-in-github",
        "colab_type": "text"
      },
      "source": [
        "<a href=\"https://colab.research.google.com/github/elain-b/skill_check_paiza/blob/master/B050_%E3%80%90%E3%81%B1%E3%81%84%E3%81%98%E3%82%87%EF%BC%81%E3%82%B3%E3%83%A9%E3%83%9C%E5%95%8F%E9%A1%8C%E3%80%91%E6%9C%89%E5%8A%B9%E3%81%AA%E3%83%81%E3%82%B1%E3%83%83%E3%83%88.ipynb\" target=\"_parent\"><img src=\"https://colab.research.google.com/assets/colab-badge.svg\" alt=\"Open In Colab\"/></a>"
      ]
    },
    {
      "cell_type": "code",
      "metadata": {
        "id": "JzN5TIpobVac"
      },
      "source": [
        "N=int(input())\n",
        "S=input()\n",
        "for i in range(N):\n",
        "    s=input()\n",
        "    if len(S)>len(s):\n",
        "        print('invalid')\n",
        "        continue\n",
        "    if S in s:\n",
        "        print('valid')\n",
        "        continue\n",
        "    ss=0\n",
        "    ss=s.find(S[0],ss)\n",
        "    flag=False\n",
        "    while ss!=-1:\n",
        "        s3=s[ss:ss+len(S)+1]\n",
        "        if s3[-1]==S[-1]:\n",
        "            k=1\n",
        "            for j in s3[1:-1]:\n",
        "                if S[k]==j:\n",
        "                    k+=1\n",
        "            if k==len(S)-1:\n",
        "                print('valid')\n",
        "                flag=True\n",
        "                break\n",
        "        ss=s.find(S[0],ss+1)\n",
        "    if flag:\n",
        "        continue\n",
        "    else:\n",
        "        print('invalid')"
      ],
      "execution_count": null,
      "outputs": []
    }
  ]
}