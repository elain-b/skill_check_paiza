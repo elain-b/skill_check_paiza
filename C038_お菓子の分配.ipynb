{
  "nbformat": 4,
  "nbformat_minor": 0,
  "metadata": {
    "colab": {
      "name": "C038:お菓子の分配.ipynb",
      "provenance": [],
      "collapsed_sections": [],
      "authorship_tag": "ABX9TyOpZjsE+pjL9i/NtROUkVMt",
      "include_colab_link": true
    },
    "kernelspec": {
      "name": "python3",
      "display_name": "Python 3"
    }
  },
  "cells": [
    {
      "cell_type": "markdown",
      "metadata": {
        "id": "view-in-github",
        "colab_type": "text"
      },
      "source": [
        "<a href=\"https://colab.research.google.com/github/elain-b/skill_check_paiza/blob/master/C038_%E3%81%8A%E8%8F%93%E5%AD%90%E3%81%AE%E5%88%86%E9%85%8D.ipynb\" target=\"_parent\"><img src=\"https://colab.research.google.com/assets/colab-badge.svg\" alt=\"Open In Colab\"/></a>"
      ]
    },
    {
      "cell_type": "code",
      "metadata": {
        "id": "dcksJD-4dX3Q",
        "colab_type": "code",
        "colab": {}
      },
      "source": [
        "m,n=map(int, input().split())\n",
        "a=n\n",
        "b=0\n",
        "c=0\n",
        "for i in range(m):\n",
        "    M=int(input())\n",
        "    if n%M<a:\n",
        "        a=n%M\n",
        "        b=M\n",
        "        c=i+1\n",
        "    elif n%M==a and b<M:\n",
        "        b=M\n",
        "        c=i+1\n",
        "print(c)"
      ],
      "execution_count": null,
      "outputs": []
    }
  ]
}