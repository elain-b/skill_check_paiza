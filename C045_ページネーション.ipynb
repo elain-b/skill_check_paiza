{
  "nbformat": 4,
  "nbformat_minor": 0,
  "metadata": {
    "colab": {
      "name": "C045:ページネーション.ipynb",
      "provenance": [],
      "collapsed_sections": [],
      "authorship_tag": "ABX9TyM5kJf+uF4glbR6MOSEuIkd",
      "include_colab_link": true
    },
    "kernelspec": {
      "name": "python3",
      "display_name": "Python 3"
    }
  },
  "cells": [
    {
      "cell_type": "markdown",
      "metadata": {
        "id": "view-in-github",
        "colab_type": "text"
      },
      "source": [
        "<a href=\"https://colab.research.google.com/github/elain-b/skill_check_paiza/blob/master/C045_%E3%83%9A%E3%83%BC%E3%82%B8%E3%83%8D%E3%83%BC%E3%82%B7%E3%83%A7%E3%83%B3.ipynb\" target=\"_parent\"><img src=\"https://colab.research.google.com/assets/colab-badge.svg\" alt=\"Open In Colab\"/></a>"
      ]
    },
    {
      "cell_type": "code",
      "metadata": {
        "id": "F82MBfhldwdZ",
        "colab_type": "code",
        "colab": {}
      },
      "source": [
        "n,s,p=map(int, input().split())\n",
        "lst=[_ for _ in range(1,n+1)]\n",
        "lst=lst[s*(p-1):s*(p-1)+s]\n",
        "if len(lst)>0:\n",
        "    l=map(str,lst)\n",
        "    s=' '.join(l)\n",
        "    print(s)\n",
        "elif len(lst)==0:\n",
        "    print('none')"
      ],
      "execution_count": null,
      "outputs": []
    }
  ]
}