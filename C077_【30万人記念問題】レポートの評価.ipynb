{
  "nbformat": 4,
  "nbformat_minor": 0,
  "metadata": {
    "colab": {
      "name": "C077:【30万人記念問題】レポートの評価.ipynb",
      "provenance": [],
      "collapsed_sections": [],
      "authorship_tag": "ABX9TyPgVRh+5xhxcXdXF2LVLj+a",
      "include_colab_link": true
    },
    "kernelspec": {
      "name": "python3",
      "display_name": "Python 3"
    }
  },
  "cells": [
    {
      "cell_type": "markdown",
      "metadata": {
        "id": "view-in-github",
        "colab_type": "text"
      },
      "source": [
        "<a href=\"https://colab.research.google.com/github/elain-b/skill_check_paiza/blob/master/C077_%E3%80%9030%E4%B8%87%E4%BA%BA%E8%A8%98%E5%BF%B5%E5%95%8F%E9%A1%8C%E3%80%91%E3%83%AC%E3%83%9D%E3%83%BC%E3%83%88%E3%81%AE%E8%A9%95%E4%BE%A1.ipynb\" target=\"_parent\"><img src=\"https://colab.research.google.com/assets/colab-badge.svg\" alt=\"Open In Colab\"/></a>"
      ]
    },
    {
      "cell_type": "code",
      "metadata": {
        "id": "TPLW2TlAXPcP",
        "colab_type": "code",
        "colab": {}
      },
      "source": [
        "import math\n",
        "k,n = map(int, input().split())\n",
        "d = [list(map(int, input().split())) for _ in range(k)]\n",
        "for i in range(k):\n",
        "    a=(100//n)*d[i][1]\n",
        "    if 1<=d[i][0]<=9:\n",
        "        a=math.floor(0.8*a)\n",
        "    elif 10<=d[i][0]:\n",
        "        a=0\n",
        "    if 80 <= a <= 100:\n",
        "        print('A')\n",
        "    elif 70 <= a < 80:\n",
        "        print('B')\n",
        "    elif 60 <= a < 70:\n",
        "        print('C')\n",
        "    else:\n",
        "        print('D')"
      ],
      "execution_count": null,
      "outputs": []
    }
  ]
}