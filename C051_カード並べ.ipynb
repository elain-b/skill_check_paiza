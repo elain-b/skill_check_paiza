{
  "nbformat": 4,
  "nbformat_minor": 0,
  "metadata": {
    "colab": {
      "name": "C051:カード並べ.ipynb",
      "provenance": [],
      "collapsed_sections": [],
      "include_colab_link": true
    },
    "kernelspec": {
      "name": "python3",
      "display_name": "Python 3"
    }
  },
  "cells": [
    {
      "cell_type": "markdown",
      "metadata": {
        "id": "view-in-github",
        "colab_type": "text"
      },
      "source": [
        "<a href=\"https://colab.research.google.com/github/elain-b/skill_check_paiza/blob/master/C051_%E3%82%AB%E3%83%BC%E3%83%89%E4%B8%A6%E3%81%B9.ipynb\" target=\"_parent\"><img src=\"https://colab.research.google.com/assets/colab-badge.svg\" alt=\"Open In Colab\"/></a>"
      ]
    },
    {
      "cell_type": "code",
      "metadata": {
        "id": "uAe_rhm8w9HL",
        "colab_type": "code",
        "colab": {}
      },
      "source": [
        "import itertools\n",
        "j = []\n",
        "for i in itertools.permutations(input().split()):\n",
        "    j.append(int(i[0]+i[1]) + int(i[2]+i[3]))\n",
        "print(max(j))"
      ],
      "execution_count": 0,
      "outputs": []
    }
  ]
}