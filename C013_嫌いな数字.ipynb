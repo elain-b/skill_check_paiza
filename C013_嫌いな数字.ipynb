{
  "nbformat": 4,
  "nbformat_minor": 0,
  "metadata": {
    "colab": {
      "name": "C013:嫌いな数字.ipynb",
      "provenance": [],
      "collapsed_sections": [],
      "authorship_tag": "ABX9TyM9qJDyTHkG7vA61eEPMCns",
      "include_colab_link": true
    },
    "kernelspec": {
      "name": "python3",
      "display_name": "Python 3"
    }
  },
  "cells": [
    {
      "cell_type": "markdown",
      "metadata": {
        "id": "view-in-github",
        "colab_type": "text"
      },
      "source": [
        "<a href=\"https://colab.research.google.com/github/elain-b/skill_check_paiza/blob/master/C013_%E5%AB%8C%E3%81%84%E3%81%AA%E6%95%B0%E5%AD%97.ipynb\" target=\"_parent\"><img src=\"https://colab.research.google.com/assets/colab-badge.svg\" alt=\"Open In Colab\"/></a>"
      ]
    },
    {
      "cell_type": "code",
      "metadata": {
        "id": "N8rQ8HT9C_pU",
        "colab_type": "code",
        "colab": {}
      },
      "source": [
        "n=str(input())\n",
        "m=int(input())\n",
        "r=[]\n",
        "flag=False\n",
        "for i in range(m):\n",
        "    r.append(input())\n",
        "for i in r:\n",
        "    if (n in i) == False:\n",
        "        print(i)\n",
        "        flag=True\n",
        "if flag==False:\n",
        "    print('none')"
      ],
      "execution_count": null,
      "outputs": []
    }
  ]
}