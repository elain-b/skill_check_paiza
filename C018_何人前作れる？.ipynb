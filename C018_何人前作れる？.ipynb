{
  "nbformat": 4,
  "nbformat_minor": 0,
  "metadata": {
    "colab": {
      "name": "C018:何人前作れる？",
      "provenance": [],
      "authorship_tag": "ABX9TyOwXyF/9QvFdUi0TyKWcNfo",
      "include_colab_link": true
    },
    "kernelspec": {
      "name": "python3",
      "display_name": "Python 3"
    }
  },
  "cells": [
    {
      "cell_type": "markdown",
      "metadata": {
        "id": "view-in-github",
        "colab_type": "text"
      },
      "source": [
        "<a href=\"https://colab.research.google.com/github/elain-b/skill_check_paiza/blob/master/C018_%E4%BD%95%E4%BA%BA%E5%89%8D%E4%BD%9C%E3%82%8C%E3%82%8B%EF%BC%9F.ipynb\" target=\"_parent\"><img src=\"https://colab.research.google.com/assets/colab-badge.svg\" alt=\"Open In Colab\"/></a>"
      ]
    },
    {
      "cell_type": "code",
      "metadata": {
        "id": "5X1ls19bs6dn",
        "colab_type": "code",
        "colab": {}
      },
      "source": [
        "n=int(input())\n",
        "a={}\n",
        "for i in range(n):\n",
        "    x=input()\n",
        "    key, value = x.split()\n",
        "    a[key] = int(value)\n",
        "b=0\n",
        "m=int(input())\n",
        "e=99999\n",
        "f=0\n",
        "for i in range(m):\n",
        "    c,d=input().split()\n",
        "    if c in a:\n",
        "        b+=1\n",
        "        f=int(d)//a[c]\n",
        "        if e>f:\n",
        "            e=f\n",
        "if b!=n:\n",
        "    print('0')\n",
        "else:\n",
        "    print(e)"
      ],
      "execution_count": null,
      "outputs": []
    }
  ]
}