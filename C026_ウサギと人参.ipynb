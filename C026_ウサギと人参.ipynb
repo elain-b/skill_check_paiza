{
  "nbformat": 4,
  "nbformat_minor": 0,
  "metadata": {
    "colab": {
      "name": "C026:ウサギと人参.ipynb",
      "provenance": [],
      "collapsed_sections": [],
      "authorship_tag": "ABX9TyPZ060RXgxwTUwbKPZiLVUL",
      "include_colab_link": true
    },
    "kernelspec": {
      "name": "python3",
      "display_name": "Python 3"
    }
  },
  "cells": [
    {
      "cell_type": "markdown",
      "metadata": {
        "id": "view-in-github",
        "colab_type": "text"
      },
      "source": [
        "<a href=\"https://colab.research.google.com/github/elain-b/skill_check_paiza/blob/master/C026_%E3%82%A6%E3%82%B5%E3%82%AE%E3%81%A8%E4%BA%BA%E5%8F%82.ipynb\" target=\"_parent\"><img src=\"https://colab.research.google.com/assets/colab-badge.svg\" alt=\"Open In Colab\"/></a>"
      ]
    },
    {
      "cell_type": "code",
      "metadata": {
        "id": "D3ahFt1X22VA",
        "colab_type": "code",
        "colab": {}
      },
      "source": [
        "n,S,p=map(int, input().split())\n",
        "mm=0\n",
        "ii=0\n",
        "for i in range(n):\n",
        "    m,s=map(int, input().split())\n",
        "    if S-p<=s<=S+p:\n",
        "        if mm<m:\n",
        "            mm=m\n",
        "            ii=i+1\n",
        "if mm>0:\n",
        "    print(ii)\n",
        "else:\n",
        "    print('not found')"
      ],
      "execution_count": null,
      "outputs": []
    }
  ]
}