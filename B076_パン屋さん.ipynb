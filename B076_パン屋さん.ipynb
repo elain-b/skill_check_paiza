{
  "nbformat": 4,
  "nbformat_minor": 0,
  "metadata": {
    "colab": {
      "name": "B076:パン屋さん.ipynb",
      "provenance": [],
      "authorship_tag": "ABX9TyOI1KGH/dzOQpgpEt+IBs2H",
      "include_colab_link": true
    },
    "kernelspec": {
      "name": "python3",
      "display_name": "Python 3"
    }
  },
  "cells": [
    {
      "cell_type": "markdown",
      "metadata": {
        "id": "view-in-github",
        "colab_type": "text"
      },
      "source": [
        "<a href=\"https://colab.research.google.com/github/elain-b/skill_check_paiza/blob/master/B076_%E3%83%91%E3%83%B3%E5%B1%8B%E3%81%95%E3%82%93.ipynb\" target=\"_parent\"><img src=\"https://colab.research.google.com/assets/colab-badge.svg\" alt=\"Open In Colab\"/></a>"
      ]
    },
    {
      "cell_type": "code",
      "metadata": {
        "id": "Vx7nE1WcChIn",
        "colab_type": "code",
        "colab": {}
      },
      "source": [
        "N,Q=list(map(int,input().split()))\n",
        "r=[list(map(int,input().split())) for i in range(N)]\n",
        "q=[list(input().split()) for i in range(Q)]\n",
        "for i in range(Q):\n",
        "    for j in range(N):\n",
        "        q[i][j+1]=int(q[i][j+1])\n",
        "for i in range(Q):\n",
        "    if q[i][0]=='bake':\n",
        "        for j in range(N):\n",
        "            r[j][1]+=q[i][j+1]\n",
        "    if q[i][0]=='buy':\n",
        "        flag=True\n",
        "        for j in range(N):\n",
        "            if q[i][j+1]>r[j][1]:\n",
        "                flag=False\n",
        "        if flag:\n",
        "            money=0\n",
        "            for j in range(N):\n",
        "                r[j][1]-=q[i][j+1]\n",
        "                money+=r[j][0]*q[i][j+1]\n",
        "            print(money)\n",
        "        else:\n",
        "            print(-1)"
      ],
      "execution_count": null,
      "outputs": []
    }
  ]
}