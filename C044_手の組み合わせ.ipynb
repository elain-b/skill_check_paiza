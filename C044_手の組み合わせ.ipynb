{
  "nbformat": 4,
  "nbformat_minor": 0,
  "metadata": {
    "colab": {
      "name": "C044:手の組み合わせ.ipynb",
      "provenance": [],
      "collapsed_sections": [],
      "authorship_tag": "ABX9TyOqhKJuoyH/HVS+eL0EQhYp",
      "include_colab_link": true
    },
    "kernelspec": {
      "name": "python3",
      "display_name": "Python 3"
    }
  },
  "cells": [
    {
      "cell_type": "markdown",
      "metadata": {
        "id": "view-in-github",
        "colab_type": "text"
      },
      "source": [
        "<a href=\"https://colab.research.google.com/github/elain-b/skill_check_paiza/blob/master/C044_%E6%89%8B%E3%81%AE%E7%B5%84%E3%81%BF%E5%90%88%E3%82%8F%E3%81%9B.ipynb\" target=\"_parent\"><img src=\"https://colab.research.google.com/assets/colab-badge.svg\" alt=\"Open In Colab\"/></a>"
      ]
    },
    {
      "cell_type": "code",
      "metadata": {
        "id": "rRX34kcLg5XP",
        "colab_type": "code",
        "colab": {}
      },
      "source": [
        "n=int(input())\n",
        "a=[input() for _ in range(n)]\n",
        "p,r,s=a.count('paper'),a.count('rock'),a.count('scissors')\n",
        "if p>0 and r>0 and s>0 or p==n or r==n or s==n:\n",
        "    print('draw')\n",
        "elif 'scissors' not in a:\n",
        "    print('paper')\n",
        "elif 'rock' not in a:\n",
        "    print('scissors')\n",
        "elif 'paper' not in a:\n",
        "    print('rock')"
      ],
      "execution_count": null,
      "outputs": []
    }
  ]
}