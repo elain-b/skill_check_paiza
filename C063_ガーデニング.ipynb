{
  "nbformat": 4,
  "nbformat_minor": 0,
  "metadata": {
    "colab": {
      "name": "C063:ガーデニング.ipynb",
      "provenance": [],
      "collapsed_sections": [],
      "authorship_tag": "ABX9TyPPHali36c+qtvBW0EA7rkG",
      "include_colab_link": true
    },
    "kernelspec": {
      "name": "python3",
      "display_name": "Python 3"
    }
  },
  "cells": [
    {
      "cell_type": "markdown",
      "metadata": {
        "id": "view-in-github",
        "colab_type": "text"
      },
      "source": [
        "<a href=\"https://colab.research.google.com/github/elain-b/skill_check_paiza/blob/master/C063_%E3%82%AC%E3%83%BC%E3%83%87%E3%83%8B%E3%83%B3%E3%82%B0.ipynb\" target=\"_parent\"><img src=\"https://colab.research.google.com/assets/colab-badge.svg\" alt=\"Open In Colab\"/></a>"
      ]
    },
    {
      "cell_type": "code",
      "metadata": {
        "id": "BgdpHOSOxFnt",
        "colab_type": "code",
        "colab": {}
      },
      "source": [
        "n=int(input())\n",
        "box=[0]*60\n",
        "for i in range(n):\n",
        "    a,b = input().split()\n",
        "    box[(int(b)+int(a))-1]+=1\n",
        "print(box.index(max(box))+1)"
      ],
      "execution_count": null,
      "outputs": []
    }
  ]
}