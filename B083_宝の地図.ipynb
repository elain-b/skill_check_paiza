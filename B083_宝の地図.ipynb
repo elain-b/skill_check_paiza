{
  "nbformat": 4,
  "nbformat_minor": 0,
  "metadata": {
    "colab": {
      "name": "B083:宝の地図.ipynb",
      "provenance": [],
      "collapsed_sections": [],
      "authorship_tag": "ABX9TyNyWsXa3jUK5VGxyBX5fBK8",
      "include_colab_link": true
    },
    "kernelspec": {
      "name": "python3",
      "display_name": "Python 3"
    },
    "language_info": {
      "name": "python"
    }
  },
  "cells": [
    {
      "cell_type": "markdown",
      "metadata": {
        "id": "view-in-github",
        "colab_type": "text"
      },
      "source": [
        "<a href=\"https://colab.research.google.com/github/elain-b/skill_check_paiza/blob/master/B083_%E5%AE%9D%E3%81%AE%E5%9C%B0%E5%9B%B3.ipynb\" target=\"_parent\"><img src=\"https://colab.research.google.com/assets/colab-badge.svg\" alt=\"Open In Colab\"/></a>"
      ]
    },
    {
      "cell_type": "code",
      "metadata": {
        "id": "uLlzCTven3xT"
      },
      "source": [
        "N=int(input())\n",
        "s=[]\n",
        "yoko=[]\n",
        "tate=[]\n",
        "ans=900*100\n",
        "for i in range(N):\n",
        "    # a,b,c,d=map(int,input().split())\n",
        "    # print(a,b,c,d)\n",
        "    s.append(list(map(int,input().split())))\n",
        "# print(s)\n",
        "for senn in s:\n",
        "    # print(senn)\n",
        "    if senn[1]==senn[3]:\n",
        "        # print('yoko')\n",
        "        yoko.append(senn)\n",
        "    else:\n",
        "        # print('tate')\n",
        "        tate.append(senn)\n",
        "# print(yoko)\n",
        "# print(tate)\n",
        "for i in range(len(yoko)-1):\n",
        "    tAte=[]\n",
        "    for Tate in tate:\n",
        "        if yoko[i][0]<=Tate[0]<=yoko[i][2] and Tate[1]<=yoko[i][1]<=Tate[3]:\n",
        "            # print(Tate)\n",
        "            tAte.append(Tate)\n",
        "    if len(tAte)<2:\n",
        "        continue\n",
        "    for j in range(len(yoko)):\n",
        "        if j==i:\n",
        "            continue\n",
        "        for k in range(len(tAte)-1):\n",
        "            if yoko[j][0]<=tAte[k][0]<=yoko[j][2] and tAte[k][1]<=yoko[j][1]<=tAte[k][3]:\n",
        "                # print(yoko[j])\n",
        "                for l in range(len(tAte)):\n",
        "                    if l==k:\n",
        "                        continue\n",
        "                    if yoko[j][0]<=tAte[l][0]<=yoko[j][2] and tAte[l][1]<=yoko[j][1]<=tAte[l][3]:\n",
        "                        # print(tAte[l])\n",
        "                        a=max(tAte[l][0],tAte[k][0])-min(tAte[l][0],tAte[k][0])\n",
        "                        b=max(yoko[j][1],yoko[i][1])-min((yoko[j][1],yoko[i][1]))\n",
        "                        s=a*b\n",
        "                        if s<ans:\n",
        "                            ans=s\n",
        "print(s)"
      ],
      "execution_count": null,
      "outputs": []
    }
  ]
}