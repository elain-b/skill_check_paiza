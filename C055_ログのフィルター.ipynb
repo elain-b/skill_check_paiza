{
  "nbformat": 4,
  "nbformat_minor": 0,
  "metadata": {
    "colab": {
      "name": "C055:ログのフィルター.ipynb",
      "provenance": [],
      "collapsed_sections": [],
      "include_colab_link": true
    },
    "kernelspec": {
      "name": "python3",
      "display_name": "Python 3"
    }
  },
  "cells": [
    {
      "cell_type": "markdown",
      "metadata": {
        "id": "view-in-github",
        "colab_type": "text"
      },
      "source": [
        "<a href=\"https://colab.research.google.com/github/elain-b/skill_check_paiza/blob/master/C055_%E3%83%AD%E3%82%B0%E3%81%AE%E3%83%95%E3%82%A3%E3%83%AB%E3%82%BF%E3%83%BC.ipynb\" target=\"_parent\"><img src=\"https://colab.research.google.com/assets/colab-badge.svg\" alt=\"Open In Colab\"/></a>"
      ]
    },
    {
      "cell_type": "code",
      "metadata": {
        "id": "6rCF9kGbT_Cb",
        "colab_type": "code",
        "outputId": "4d22c7ed-f171-4691-b77e-01c78362abf6",
        "colab": {
          "base_uri": "https://localhost:8080/",
          "height": 187
        }
      },
      "source": [
        "N = int(input())\n",
        "G = input()\n",
        "s = \"\"\n",
        "c = 0\n",
        "import re\n",
        "for i in range(N):\n",
        "    s = input()\n",
        "    if s.find(G)>=0:\n",
        "        print(s)\n",
        "        c += 1\n",
        "if c == 0:\n",
        "    print('None')"
      ],
      "execution_count": 0,
      "outputs": [
        {
          "output_type": "stream",
          "text": [
            "5\n",
            "ai\n",
            "pizza\n",
            "paiza\n",
            "paiza\n",
            "pizu\n",
            "ai\n",
            "ai\n",
            "sai\n",
            "sai\n"
          ],
          "name": "stdout"
        }
      ]
    }
  ]
}