{
  "nbformat": 4,
  "nbformat_minor": 0,
  "metadata": {
    "colab": {
      "name": "C042:リーグ表の作成.ipynb",
      "provenance": [],
      "collapsed_sections": [],
      "authorship_tag": "ABX9TyOxq/QjR6zTUhqWLr1bYoPU",
      "include_colab_link": true
    },
    "kernelspec": {
      "name": "python3",
      "display_name": "Python 3"
    }
  },
  "cells": [
    {
      "cell_type": "markdown",
      "metadata": {
        "id": "view-in-github",
        "colab_type": "text"
      },
      "source": [
        "<a href=\"https://colab.research.google.com/github/elain-b/skill_check_paiza/blob/master/C042_%E3%83%AA%E3%83%BC%E3%82%B0%E8%A1%A8%E3%81%AE%E4%BD%9C%E6%88%90.ipynb\" target=\"_parent\"><img src=\"https://colab.research.google.com/assets/colab-badge.svg\" alt=\"Open In Colab\"/></a>"
      ]
    },
    {
      "cell_type": "code",
      "metadata": {
        "id": "SfC2nSIUmhbd",
        "colab_type": "code",
        "colab": {}
      },
      "source": [
        "import sys\n",
        "N=int(input())\n",
        "f=[[int(s) for s in line.split()] for line in sys.stdin]\n",
        "ff=[['-'] * N for i in range(N)]\n",
        "for i in range(len(f)):\n",
        "    ff[f[i][0]-1][f[i][1]-1]='W'\n",
        "    ff[f[i][1]-1][f[i][0]-1]='L'\n",
        "for y in ff:\n",
        "    print(' '.join(map(str, y)))"
      ],
      "execution_count": 0,
      "outputs": []
    }
  ]
}