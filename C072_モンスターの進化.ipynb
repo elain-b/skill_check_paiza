{
  "nbformat": 4,
  "nbformat_minor": 0,
  "metadata": {
    "colab": {
      "name": "C072:モンスターの進化.ipynb",
      "provenance": [],
      "collapsed_sections": [],
      "authorship_tag": "ABX9TyMvy4oc7y1jxlwRSSVVJTTp",
      "include_colab_link": true
    },
    "kernelspec": {
      "name": "python3",
      "display_name": "Python 3"
    }
  },
  "cells": [
    {
      "cell_type": "markdown",
      "metadata": {
        "id": "view-in-github",
        "colab_type": "text"
      },
      "source": [
        "<a href=\"https://colab.research.google.com/github/elain-b/skill_check_paiza/blob/master/C072_%E3%83%A2%E3%83%B3%E3%82%B9%E3%82%BF%E3%83%BC%E3%81%AE%E9%80%B2%E5%8C%96.ipynb\" target=\"_parent\"><img src=\"https://colab.research.google.com/assets/colab-badge.svg\" alt=\"Open In Colab\"/></a>"
      ]
    },
    {
      "cell_type": "code",
      "metadata": {
        "id": "Ggu3QayhzYuM",
        "colab_type": "code",
        "colab": {}
      },
      "source": [
        "import sys\n",
        "ATK, DEF, AGI= map(int,input().split())\n",
        "N=int(input())\n",
        "s=[[s for s in line.split()] for line in sys.stdin]\n",
        "j=0\n",
        "for i in range(N):\n",
        "    if int(s[i][1]) <= ATK <= int(s[i][2]) and int(s[i][3]) <= DEF <= int(s[i][4]) and int(s[i][5]) <= AGI <= int(s[i][6]):\n",
        "        j += 1\n",
        "        print(s[i][0])\n",
        "if j == 0:\n",
        "    print('no evolution')"
      ],
      "execution_count": 0,
      "outputs": []
    }
  ]
}