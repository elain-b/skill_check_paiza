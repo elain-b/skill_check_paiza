{
  "nbformat": 4,
  "nbformat_minor": 0,
  "metadata": {
    "colab": {
      "name": "C070:簡易カードゲーム.ipynb",
      "provenance": [],
      "collapsed_sections": [],
      "include_colab_link": true
    },
    "kernelspec": {
      "name": "python3",
      "display_name": "Python 3"
    }
  },
  "cells": [
    {
      "cell_type": "markdown",
      "metadata": {
        "id": "view-in-github",
        "colab_type": "text"
      },
      "source": [
        "<a href=\"https://colab.research.google.com/github/elain-b/skill_check_paiza/blob/master/C070_%E7%B0%A1%E6%98%93%E3%82%AB%E3%83%BC%E3%83%89%E3%82%B2%E3%83%BC%E3%83%A0.ipynb\" target=\"_parent\"><img src=\"https://colab.research.google.com/assets/colab-badge.svg\" alt=\"Open In Colab\"/></a>"
      ]
    },
    {
      "cell_type": "code",
      "metadata": {
        "id": "V8n3Xq85a63m",
        "colab_type": "code",
        "colab": {}
      },
      "source": [
        "N = int(input())\n",
        "for i in range(N):\n",
        "    k = input()\n",
        "    pair = 0\n",
        "    for j in range(9):\n",
        "        kazu = k.count(str(j+1))\n",
        "        if kazu == 4:\n",
        "            print('Four Card')\n",
        "            pair = -1\n",
        "            break\n",
        "        elif kazu == 3:\n",
        "            print('Three Card')\n",
        "            pair = -1\n",
        "            break\n",
        "        elif kazu == 2:\n",
        "            pair += 1\n",
        "    if pair == 2:\n",
        "        print('Two Pair')\n",
        "    elif pair == 1:\n",
        "        print('One Pair')\n",
        "    elif pair == 0:\n",
        "        print('No Pair')"
      ],
      "execution_count": 0,
      "outputs": []
    }
  ]
}