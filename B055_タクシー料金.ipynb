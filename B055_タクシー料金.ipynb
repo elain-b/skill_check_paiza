{
  "nbformat": 4,
  "nbformat_minor": 0,
  "metadata": {
    "colab": {
      "name": "B055:タクシー料金.ipynb",
      "provenance": [],
      "authorship_tag": "ABX9TyOQRS6TBhquyErYtuh7YEme",
      "include_colab_link": true
    },
    "kernelspec": {
      "name": "python3",
      "display_name": "Python 3"
    }
  },
  "cells": [
    {
      "cell_type": "markdown",
      "metadata": {
        "id": "view-in-github",
        "colab_type": "text"
      },
      "source": [
        "<a href=\"https://colab.research.google.com/github/elain-b/skill_check_paiza/blob/master/B055_%E3%82%BF%E3%82%AF%E3%82%B7%E3%83%BC%E6%96%99%E9%87%91.ipynb\" target=\"_parent\"><img src=\"https://colab.research.google.com/assets/colab-badge.svg\" alt=\"Open In Colab\"/></a>"
      ]
    },
    {
      "cell_type": "code",
      "metadata": {
        "id": "GX5VBnbQMoxD",
        "colab_type": "code",
        "colab": {}
      },
      "source": [
        "N,X=list(map(int,input().split()))\n",
        "p=[]\n",
        "for i in range(N):\n",
        "    a,b,c,d=list(map(int,input().split()))\n",
        "    if a>X:\n",
        "        p.append(b)\n",
        "    if X>=a:\n",
        "        p.append(b+d*((X-a)//c+1))\n",
        "print(min(p),max(p))"
      ],
      "execution_count": null,
      "outputs": []
    }
  ]
}