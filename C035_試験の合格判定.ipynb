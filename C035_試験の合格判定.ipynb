{
  "nbformat": 4,
  "nbformat_minor": 0,
  "metadata": {
    "colab": {
      "name": "C035:試験の合格判定.ipynb",
      "provenance": [],
      "collapsed_sections": [],
      "authorship_tag": "ABX9TyOURwVpwY3zG40ShOSFT8C0",
      "include_colab_link": true
    },
    "kernelspec": {
      "name": "python3",
      "display_name": "Python 3"
    }
  },
  "cells": [
    {
      "cell_type": "markdown",
      "metadata": {
        "id": "view-in-github",
        "colab_type": "text"
      },
      "source": [
        "<a href=\"https://colab.research.google.com/github/elain-b/skill_check_paiza/blob/master/C035_%E8%A9%A6%E9%A8%93%E3%81%AE%E5%90%88%E6%A0%BC%E5%88%A4%E5%AE%9A.ipynb\" target=\"_parent\"><img src=\"https://colab.research.google.com/assets/colab-badge.svg\" alt=\"Open In Colab\"/></a>"
      ]
    },
    {
      "cell_type": "code",
      "metadata": {
        "id": "YcBdTCPHdkme",
        "colab_type": "code",
        "colab": {}
      },
      "source": [
        "N = int(input())\n",
        "flag = 0\n",
        "for i in range(N):\n",
        "    s = input().split()\n",
        "    if int(s[1]) + int(s[2]) + int(s[3]) + int(s[4]) + int(s[5]) >= 350:\n",
        "        if (int(s[2]) + int(s[3])) >= 160 and s[0] == 's':\n",
        "            flag += 1\n",
        "        elif (int(s[4]) + int(s[5])) >= 160 and s[0] == 'l':\n",
        "            flag += 1\n",
        "print(flag)"
      ],
      "execution_count": 0,
      "outputs": []
    }
  ]
}