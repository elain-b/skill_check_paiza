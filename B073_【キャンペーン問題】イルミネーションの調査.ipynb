{
  "nbformat": 4,
  "nbformat_minor": 0,
  "metadata": {
    "colab": {
      "name": "B073:【キャンペーン問題】イルミネーションの調査.ipynb",
      "provenance": [],
      "collapsed_sections": [],
      "include_colab_link": true
    },
    "kernelspec": {
      "name": "python3",
      "display_name": "Python 3"
    }
  },
  "cells": [
    {
      "cell_type": "markdown",
      "metadata": {
        "id": "view-in-github",
        "colab_type": "text"
      },
      "source": [
        "<a href=\"https://colab.research.google.com/github/elain-b/skill_check_paiza/blob/master/B073_%E3%80%90%E3%82%AD%E3%83%A3%E3%83%B3%E3%83%9A%E3%83%BC%E3%83%B3%E5%95%8F%E9%A1%8C%E3%80%91%E3%82%A4%E3%83%AB%E3%83%9F%E3%83%8D%E3%83%BC%E3%82%B7%E3%83%A7%E3%83%B3%E3%81%AE%E8%AA%BF%E6%9F%BB.ipynb\" target=\"_parent\"><img src=\"https://colab.research.google.com/assets/colab-badge.svg\" alt=\"Open In Colab\"/></a>"
      ]
    },
    {
      "cell_type": "markdown",
      "metadata": {
        "id": "562HDkJC_eI0",
        "colab_type": "text"
      },
      "source": [
        "https://paiza.jp/challenges/350/show"
      ]
    },
    {
      "cell_type": "code",
      "metadata": {
        "id": "9ZeEhoS0_cpL",
        "colab_type": "code",
        "colab": {}
      },
      "source": [
        "N, M=map(int,input().split())\n",
        "A = list(map(int, input().split()))\n",
        "Q = int(input())\n",
        "for j in range(Q):\n",
        "    S, E = map(int,input().split())\n",
        "# 木の本数\n",
        "    light = M - int(sum(A[S - 1:E]) / (E - S + 1))\n",
        "    if light > 0:\n",
        "        for i in range(S-1, E):\n",
        "            A[i] += light\n",
        "# print(A)\n",
        "fuga = [\"\".join(map(str, str(i)))  for i in A]\n",
        "# print(fuga)\n",
        "print(' '.join(map(str, fuga)))"
      ],
      "execution_count": 0,
      "outputs": []
    },
    {
      "cell_type": "markdown",
      "metadata": {
        "id": "oqtUwvyf_svy",
        "colab_type": "text"
      },
      "source": [
        "5 6\n",
        "4 3 6 1 3\n",
        "3\n",
        "1 3\n",
        "1 5\n",
        "2 3"
      ]
    }
  ]
}