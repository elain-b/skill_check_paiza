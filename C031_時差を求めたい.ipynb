{
  "nbformat": 4,
  "nbformat_minor": 0,
  "metadata": {
    "colab": {
      "name": "C031:時差を求めたい.ipynb",
      "provenance": [],
      "collapsed_sections": [],
      "authorship_tag": "ABX9TyOj0xit8c9wkG20YCXT6ynw",
      "include_colab_link": true
    },
    "kernelspec": {
      "name": "python3",
      "display_name": "Python 3"
    }
  },
  "cells": [
    {
      "cell_type": "markdown",
      "metadata": {
        "id": "view-in-github",
        "colab_type": "text"
      },
      "source": [
        "<a href=\"https://colab.research.google.com/github/elain-b/skill_check_paiza/blob/master/C031_%E6%99%82%E5%B7%AE%E3%82%92%E6%B1%82%E3%82%81%E3%81%9F%E3%81%84.ipynb\" target=\"_parent\"><img src=\"https://colab.research.google.com/assets/colab-badge.svg\" alt=\"Open In Colab\"/></a>"
      ]
    },
    {
      "cell_type": "code",
      "metadata": {
        "id": "h2xCLQAKr2Qi",
        "colab_type": "code",
        "colab": {}
      },
      "source": [
        "# python 書式"
      ],
      "execution_count": null,
      "outputs": []
    },
    {
      "cell_type": "code",
      "metadata": {
        "id": "KfhatXCnrw_j",
        "colab_type": "code",
        "colab": {}
      },
      "source": [
        "n=int(input())\n",
        "a=[list(input().split()) for _ in range(n)]\n",
        "q,t=input().split()\n",
        "b=0\n",
        "c=[]\n",
        "for i in a:\n",
        "    if q==i[0]:\n",
        "        b=int(i[1])\n",
        "for i in a:\n",
        "    c.append(int(i[1])-b)\n",
        "for i in c:\n",
        "    print(str((int(t[0:2])+i)%24).zfill(2)+ ':'+t[3:])"
      ],
      "execution_count": null,
      "outputs": []
    }
  ]
}