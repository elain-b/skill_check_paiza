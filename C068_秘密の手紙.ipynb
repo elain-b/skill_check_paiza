{
  "nbformat": 4,
  "nbformat_minor": 0,
  "metadata": {
    "colab": {
      "name": "C068:秘密の手紙.ipynb",
      "provenance": [],
      "collapsed_sections": [],
      "authorship_tag": "ABX9TyOS927o2qVN17PR7LxK5ws0",
      "include_colab_link": true
    },
    "kernelspec": {
      "name": "python3",
      "display_name": "Python 3"
    }
  },
  "cells": [
    {
      "cell_type": "markdown",
      "metadata": {
        "id": "view-in-github",
        "colab_type": "text"
      },
      "source": [
        "<a href=\"https://colab.research.google.com/github/elain-b/skill_check_paiza/blob/master/C068_%E7%A7%98%E5%AF%86%E3%81%AE%E6%89%8B%E7%B4%99.ipynb\" target=\"_parent\"><img src=\"https://colab.research.google.com/assets/colab-badge.svg\" alt=\"Open In Colab\"/></a>"
      ]
    },
    {
      "cell_type": "markdown",
      "metadata": {
        "id": "2OSKAA4Dkpva",
        "colab_type": "text"
      },
      "source": [
        "文字コード計算\n",
        "アスキーコード"
      ]
    },
    {
      "cell_type": "code",
      "metadata": {
        "id": "B55fX5tkWeca",
        "colab_type": "code",
        "colab": {}
      },
      "source": [
        "import numpy as np\n",
        "N=int(input())\n",
        "S=list(input())\n",
        "abc=[chr(ord('A') + i) for i in range(26)]\n",
        "# abc2='ABCDEFGHIJKLMNOPQRSTUVWXYZ'\n",
        "x1 = np.roll(abc, N)\n",
        "x2 = np.roll(abc, -N)\n",
        "for i in range(0, len(S), 2):\n",
        "    # S[i]=x1[abc2.index(S[i])]\n",
        "    S[i]=x1[ord(S[i])-ord('A')]\n",
        "for i in range(1, len(S), 2):\n",
        "    # S[i]=x2[abc2.index(S[i])]\n",
        "    S[i]=x2[ord(S[i])-ord('A')]\n",
        "print(\"\".join(S))"
      ],
      "execution_count": 0,
      "outputs": []
    },
    {
      "cell_type": "code",
      "metadata": {
        "id": "asQh5C_tkk2F",
        "colab_type": "code",
        "colab": {}
      },
      "source": [
        "import numpy as np\n",
        "N=int(input())\n",
        "S=list(input())\n",
        "abc=[chr(ord('A') + i) for i in range(26)]\n",
        "abc2='ABCDEFGHIJKLMNOPQRSTUVWXYZ'\n",
        "x1 = np.roll(abc, N)\n",
        "x2 = np.roll(abc, -N)\n",
        "for i in range(0, len(S), 2):\n",
        "    S[i]=x1[abc2.index(S[i])]\n",
        "    # S[i]=x1[ord(S[i])-ord('A')]\n",
        "for i in range(1, len(S), 2):\n",
        "    S[i]=x2[abc2.index(S[i])]\n",
        "    # S[i]=x2[ord(S[i])-ord('A')]\n",
        "print(\"\".join(S))"
      ],
      "execution_count": 0,
      "outputs": []
    }
  ]
}