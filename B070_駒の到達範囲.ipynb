{
  "nbformat": 4,
  "nbformat_minor": 0,
  "metadata": {
    "colab": {
      "name": "B070:駒の到達範囲.ipynb",
      "provenance": [],
      "collapsed_sections": [],
      "authorship_tag": "ABX9TyN4GTGJlgJh0pmeAUb6C/Vp",
      "include_colab_link": true
    },
    "kernelspec": {
      "name": "python3",
      "display_name": "Python 3"
    }
  },
  "cells": [
    {
      "cell_type": "markdown",
      "metadata": {
        "id": "view-in-github",
        "colab_type": "text"
      },
      "source": [
        "<a href=\"https://colab.research.google.com/github/elain-b/skill_check_paiza/blob/master/B070_%E9%A7%92%E3%81%AE%E5%88%B0%E9%81%94%E7%AF%84%E5%9B%B2.ipynb\" target=\"_parent\"><img src=\"https://colab.research.google.com/assets/colab-badge.svg\" alt=\"Open In Colab\"/></a>"
      ]
    },
    {
      "cell_type": "code",
      "metadata": {
        "id": "DTMxIcWGBGYw"
      },
      "source": [
        "N, H, W, K=list(map(int, input().split()))\n",
        "plot = [[0 for i in range(N)] for j in range(N)]\n",
        "\n",
        "def King(h,w,k):\n",
        "    plot[h-1][w-1]=1\n",
        "    if h>1:\n",
        "        plot[(h-1)-1][(w-1)]=1\n",
        "        queen(h-1,w,k-1)\n",
        "    if w>1:\n",
        "        plot[(h-1)][(w-1)-1]=1\n",
        "        queen(h,w-1,k-1)\n",
        "    if w<N:\n",
        "        plot[(h-1)][(w-1)+1]=1\n",
        "        queen(h,w+1,k-1)\n",
        "    if h<N:\n",
        "        plot[(h-1)+1][(w-1)]=1\n",
        "        queen(h+1,w,k-1)\n",
        "\n",
        "def Bishop(h,w,k):\n",
        "    num=1\n",
        "    while h-num>=1 and w-num>= 1:\n",
        "        plot[(h-1)-num][(w-1)-num]=1\n",
        "        queen(h-num,w-num,k-1)\n",
        "        num+=1\n",
        "    num=1\n",
        "    while h-num>=1 and w+num<=N:\n",
        "        plot[(h-1)-num][(w-1)+num]=1\n",
        "        queen(h-num,w+num,k-1)\n",
        "        num+=1\n",
        "    num=1\n",
        "    while h+num<=N and w-num>=1:\n",
        "        plot[(h-1)+num][(w-1)-num]=1\n",
        "        queen(h+num,w-num,k-1)\n",
        "        num+=1\n",
        "    num=1\n",
        "    while h+num<=N and w+num<=N:\n",
        "        plot[(h-1)+num][(w-1)+num]=1\n",
        "        queen(h+num,w+num,k-1)\n",
        "        num+=1\n",
        "\n",
        "def queen(h,w,k):\n",
        "    if k<=0:\n",
        "        return\n",
        "    King(h,w,k)\n",
        "    Bishop(h,w,k)\n",
        "\n",
        "queen(H,W,K)\n",
        "\n",
        "ans=0\n",
        "for i in plot:\n",
        "    ans+=sum(i)\n",
        "print(ans)    "
      ],
      "execution_count": null,
      "outputs": []
    }
  ]
}