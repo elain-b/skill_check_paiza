{
  "nbformat": 4,
  "nbformat_minor": 0,
  "metadata": {
    "colab": {
      "name": "B014:3Dプリンタ.ipynb",
      "provenance": [],
      "collapsed_sections": [],
      "authorship_tag": "ABX9TyOA2XC4p7nYHzIJbK+OQnnF",
      "include_colab_link": true
    },
    "kernelspec": {
      "name": "python3",
      "display_name": "Python 3"
    }
  },
  "cells": [
    {
      "cell_type": "markdown",
      "metadata": {
        "id": "view-in-github",
        "colab_type": "text"
      },
      "source": [
        "<a href=\"https://colab.research.google.com/github/elain-b/skill_check_paiza/blob/master/B014_3D%E3%83%97%E3%83%AA%E3%83%B3%E3%82%BF.ipynb\" target=\"_parent\"><img src=\"https://colab.research.google.com/assets/colab-badge.svg\" alt=\"Open In Colab\"/></a>"
      ]
    },
    {
      "cell_type": "code",
      "metadata": {
        "id": "4SQ3fNxRcP7L"
      },
      "source": [
        "X,Y,Z=list(map(int,input().split()))\n",
        "m=[['.' for j in range(Y)] for i in range(Z)]\n",
        "for k in range(Z):\n",
        "    for i in range(X):\n",
        "        n=input()\n",
        "        for j in range(Y):\n",
        "            if n[j]=='#':\n",
        "                m[k][j]='#'\n",
        "    l=input()\n",
        "for i in reversed(range(Z)):\n",
        "    l=map(str,m[i])\n",
        "    s=''.join(l)\n",
        "    print(s)"
      ],
      "execution_count": null,
      "outputs": []
    }
  ]
}