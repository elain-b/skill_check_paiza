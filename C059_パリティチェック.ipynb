{
  "nbformat": 4,
  "nbformat_minor": 0,
  "metadata": {
    "colab": {
      "name": "C059:パリティチェック.ipynb",
      "provenance": [],
      "collapsed_sections": [],
      "authorship_tag": "ABX9TyMNLgpjhg+bTfaT6VtCBC+U",
      "include_colab_link": true
    },
    "kernelspec": {
      "name": "python3",
      "display_name": "Python 3"
    }
  },
  "cells": [
    {
      "cell_type": "markdown",
      "metadata": {
        "id": "view-in-github",
        "colab_type": "text"
      },
      "source": [
        "<a href=\"https://colab.research.google.com/github/elain-b/skill_check_paiza/blob/master/C059_%E3%83%91%E3%83%AA%E3%83%86%E3%82%A3%E3%83%81%E3%82%A7%E3%83%83%E3%82%AF.ipynb\" target=\"_parent\"><img src=\"https://colab.research.google.com/assets/colab-badge.svg\" alt=\"Open In Colab\"/></a>"
      ]
    },
    {
      "cell_type": "code",
      "metadata": {
        "id": "LUoHVegrMQMd",
        "colab_type": "code",
        "colab": {}
      },
      "source": [
        "n=int(input())\n",
        "a=[0 for _ in range(4)]\n",
        "for i in range(n):\n",
        "    b=input()\n",
        "    for j in range(4):\n",
        "        if b[j]=='1':\n",
        "            a[j]+=1\n",
        "for i in range(4):\n",
        "    if a[i]%2==1:\n",
        "        a[i]=1\n",
        "    else:\n",
        "        a[i]=0\n",
        "l=map(str,a)\n",
        "s=''.join(l)\n",
        "print(s)"
      ],
      "execution_count": null,
      "outputs": []
    }
  ]
}