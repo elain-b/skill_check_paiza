{
  "nbformat": 4,
  "nbformat_minor": 0,
  "metadata": {
    "colab": {
      "name": "C062:回転寿司のメロン.ipynb",
      "provenance": [],
      "collapsed_sections": [],
      "authorship_tag": "ABX9TyM6a5RC3qF/RFaeBR3sjWWS",
      "include_colab_link": true
    },
    "kernelspec": {
      "name": "python3",
      "display_name": "Python 3"
    }
  },
  "cells": [
    {
      "cell_type": "markdown",
      "metadata": {
        "id": "view-in-github",
        "colab_type": "text"
      },
      "source": [
        "<a href=\"https://colab.research.google.com/github/elain-b/skill_check_paiza/blob/master/C062_%E5%9B%9E%E8%BB%A2%E5%AF%BF%E5%8F%B8%E3%81%AE%E3%83%A1%E3%83%AD%E3%83%B3.ipynb\" target=\"_parent\"><img src=\"https://colab.research.google.com/assets/colab-badge.svg\" alt=\"Open In Colab\"/></a>"
      ]
    },
    {
      "cell_type": "code",
      "metadata": {
        "id": "uFMg4DR-w3cV",
        "colab_type": "code",
        "colab": {}
      },
      "source": [
        "t=int(input())\n",
        "a=0\n",
        "b=10\n",
        "for i in range(t):\n",
        "    n=input()\n",
        "    b+=1\n",
        "    if n=='melon' and b>10:\n",
        "        a+=1\n",
        "        b=0\n",
        "print(a)"
      ],
      "execution_count": null,
      "outputs": []
    }
  ]
}