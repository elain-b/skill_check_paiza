{
  "nbformat": 4,
  "nbformat_minor": 0,
  "metadata": {
    "colab": {
      "name": "C060:辞書の作成.ipynb",
      "provenance": [],
      "collapsed_sections": [],
      "authorship_tag": "ABX9TyPzWlHUFM+ahCuK2OnZ9yq5",
      "include_colab_link": true
    },
    "kernelspec": {
      "name": "python3",
      "display_name": "Python 3"
    }
  },
  "cells": [
    {
      "cell_type": "markdown",
      "metadata": {
        "id": "view-in-github",
        "colab_type": "text"
      },
      "source": [
        "<a href=\"https://colab.research.google.com/github/elain-b/skill_check_paiza/blob/master/C060_%E8%BE%9E%E6%9B%B8%E3%81%AE%E4%BD%9C%E6%88%90.ipynb\" target=\"_parent\"><img src=\"https://colab.research.google.com/assets/colab-badge.svg\" alt=\"Open In Colab\"/></a>"
      ]
    },
    {
      "cell_type": "code",
      "metadata": {
        "id": "kcSNl9nX7ha-",
        "colab_type": "code",
        "colab": {}
      },
      "source": [
        "N, K, P = map(int,input().split())\n",
        "s = input().split()\n",
        "s.sort()\n",
        "j = []\n",
        "for i in range(0, N, K):\n",
        "    j.append(s[i:i+K])\n",
        "for k in j[P-1]:\n",
        "    print(k)"
      ],
      "execution_count": 0,
      "outputs": []
    }
  ]
}