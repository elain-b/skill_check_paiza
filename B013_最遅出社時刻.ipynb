{
  "nbformat": 4,
  "nbformat_minor": 0,
  "metadata": {
    "colab": {
      "name": "B013:最遅出社時刻.ipynb",
      "provenance": [],
      "collapsed_sections": [],
      "include_colab_link": true
    },
    "kernelspec": {
      "name": "python3",
      "display_name": "Python 3"
    }
  },
  "cells": [
    {
      "cell_type": "markdown",
      "metadata": {
        "id": "view-in-github",
        "colab_type": "text"
      },
      "source": [
        "<a href=\"https://colab.research.google.com/github/elain-b/skill_check_paiza/blob/master/B013_%E6%9C%80%E9%81%85%E5%87%BA%E7%A4%BE%E6%99%82%E5%88%BB.ipynb\" target=\"_parent\"><img src=\"https://colab.research.google.com/assets/colab-badge.svg\" alt=\"Open In Colab\"/></a>"
      ]
    },
    {
      "cell_type": "markdown",
      "metadata": {
        "id": "WWvsxPm9wa6y",
        "colab_type": "text"
      },
      "source": [
        "https://paiza.jp/challenges/49/show"
      ]
    },
    {
      "cell_type": "code",
      "metadata": {
        "id": "0ixW8Q8zwHhk",
        "colab_type": "code",
        "outputId": "d5ee386b-36d9-4b60-efec-3ccfa73e2373",
        "colab": {
          "base_uri": "https://localhost:8080/",
          "height": 119
        }
      },
      "source": [
        "a, b, c=map(int,input().split())\n",
        "N = int(input())\n",
        "s = [list(map(int, input().split())) for _ in range(N)]\n",
        "bc = []\n",
        "time = 8 * 60 + 59\n",
        "for i in range(N):\n",
        "    d = s[i][0] * 60 + s[i][1] + b + c\n",
        "    if d <= time:\n",
        "        bc.append(d)\n",
        "t = max(bc) - (a+b+c)\n",
        "print('{hour:02}:{minute:02}'.format(hour=t // 60, minute=t % 60))"
      ],
      "execution_count": 3,
      "outputs": [
        {
          "output_type": "stream",
          "text": [
            "30 30 10\n",
            "3\n",
            "6 0\n",
            "7 0\n",
            "8 0\n",
            "07:30\n"
          ],
          "name": "stdout"
        }
      ]
    },
    {
      "cell_type": "code",
      "metadata": {
        "id": "-ZtyZZzlwNmO",
        "colab_type": "code",
        "colab": {}
      },
      "source": [
        ""
      ],
      "execution_count": 0,
      "outputs": []
    }
  ]
}