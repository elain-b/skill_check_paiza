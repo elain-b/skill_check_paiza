{
  "nbformat": 4,
  "nbformat_minor": 0,
  "metadata": {
    "colab": {
      "name": "B024:格子を円で切り取る.ipynb",
      "provenance": [],
      "authorship_tag": "ABX9TyOKvUt8s0BCMvd/wxUDR9lP",
      "include_colab_link": true
    },
    "kernelspec": {
      "name": "python3",
      "display_name": "Python 3"
    }
  },
  "cells": [
    {
      "cell_type": "markdown",
      "metadata": {
        "id": "view-in-github",
        "colab_type": "text"
      },
      "source": [
        "<a href=\"https://colab.research.google.com/github/elain-b/skill_check_paiza/blob/master/B024_%E6%A0%BC%E5%AD%90%E3%82%92%E5%86%86%E3%81%A7%E5%88%87%E3%82%8A%E5%8F%96%E3%82%8B.ipynb\" target=\"_parent\"><img src=\"https://colab.research.google.com/assets/colab-badge.svg\" alt=\"Open In Colab\"/></a>"
      ]
    },
    {
      "cell_type": "code",
      "metadata": {
        "id": "msgCz4_B-JxI",
        "colab_type": "code",
        "colab": {}
      },
      "source": [
        "import math\n",
        "r=float(input())\n",
        "y=0\n",
        "for i in range(math.ceil(r)):\n",
        "    y+=math.ceil((r**2-i**2)**0.5)\n",
        "print(y*4)"
      ],
      "execution_count": null,
      "outputs": []
    }
  ]
}