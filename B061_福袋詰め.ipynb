{
  "nbformat": 4,
  "nbformat_minor": 0,
  "metadata": {
    "colab": {
      "name": "B061:福袋詰め.ipynb",
      "provenance": [],
      "authorship_tag": "ABX9TyPbPMw2Ym17mEPnFIQSb8P8",
      "include_colab_link": true
    },
    "kernelspec": {
      "name": "python3",
      "display_name": "Python 3"
    }
  },
  "cells": [
    {
      "cell_type": "markdown",
      "metadata": {
        "id": "view-in-github",
        "colab_type": "text"
      },
      "source": [
        "<a href=\"https://colab.research.google.com/github/elain-b/skill_check_paiza/blob/master/B061_%E7%A6%8F%E8%A2%8B%E8%A9%B0%E3%82%81.ipynb\" target=\"_parent\"><img src=\"https://colab.research.google.com/assets/colab-badge.svg\" alt=\"Open In Colab\"/></a>"
      ]
    },
    {
      "cell_type": "code",
      "metadata": {
        "id": "nL_HEaDBkx0W",
        "colab_type": "code",
        "colab": {}
      },
      "source": [
        "import itertools\n",
        "S=int(input())\n",
        "N=int(input())\n",
        "v=[int(input()) for i in range(N)]\n",
        "p=[]\n",
        "for i in range(1,N+1):\n",
        "    for pair in itertools.combinations(v, i):\n",
        "        if sum(pair)>=S:\n",
        "            if i>1:\n",
        "                q=True\n",
        "                for j in pair:\n",
        "                    if sum(pair)-j>=S:\n",
        "                        q=False\n",
        "                        break\n",
        "                if q:\n",
        "                    p.append(sum(pair))\n",
        "            else:\n",
        "                if sum(pair)>=S:\n",
        "                    p.append(sum(pair))\n",
        "print(len(p))"
      ],
      "execution_count": null,
      "outputs": []
    }
  ]
}