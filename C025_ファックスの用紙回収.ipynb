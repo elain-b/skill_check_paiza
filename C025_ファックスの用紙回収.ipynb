{
  "nbformat": 4,
  "nbformat_minor": 0,
  "metadata": {
    "colab": {
      "name": "C025:ファックスの用紙回収.ipynb",
      "provenance": [],
      "collapsed_sections": [],
      "authorship_tag": "ABX9TyMq7nok/1z51TWV6knbXmXC",
      "include_colab_link": true
    },
    "kernelspec": {
      "name": "python3",
      "display_name": "Python 3"
    }
  },
  "cells": [
    {
      "cell_type": "markdown",
      "metadata": {
        "id": "view-in-github",
        "colab_type": "text"
      },
      "source": [
        "<a href=\"https://colab.research.google.com/github/elain-b/skill_check_paiza/blob/master/C025_%E3%83%95%E3%82%A1%E3%83%83%E3%82%AF%E3%82%B9%E3%81%AE%E7%94%A8%E7%B4%99%E5%9B%9E%E5%8F%8E.ipynb\" target=\"_parent\"><img src=\"https://colab.research.google.com/assets/colab-badge.svg\" alt=\"Open In Colab\"/></a>"
      ]
    },
    {
      "cell_type": "code",
      "metadata": {
        "id": "s3Qbhv5uY9OR",
        "colab_type": "code",
        "colab": {}
      },
      "source": [
        "import math\n",
        "m=int(input())\n",
        "n=int(input())\n",
        "a=0\n",
        "h=0\n",
        "b=0\n",
        "for i in range(n):\n",
        "    x,y,c=map(int, input().split())\n",
        "    if x!=h:\n",
        "        b=b+(math.ceil(a/m))\n",
        "        h=x\n",
        "        a=c\n",
        "    else:\n",
        "        a=a+c\n",
        "print(b+(math.ceil(a/m)))"
      ],
      "execution_count": null,
      "outputs": []
    }
  ]
}