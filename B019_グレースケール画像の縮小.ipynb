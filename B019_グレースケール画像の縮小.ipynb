{
  "nbformat": 4,
  "nbformat_minor": 0,
  "metadata": {
    "colab": {
      "name": "B019:グレースケール画像の縮小.ipynb",
      "provenance": [],
      "authorship_tag": "ABX9TyPDja3syP+Zo5YGAmSXmRtO",
      "include_colab_link": true
    },
    "kernelspec": {
      "name": "python3",
      "display_name": "Python 3"
    }
  },
  "cells": [
    {
      "cell_type": "markdown",
      "metadata": {
        "id": "view-in-github",
        "colab_type": "text"
      },
      "source": [
        "<a href=\"https://colab.research.google.com/github/elain-b/skill_check_paiza/blob/master/B019_%E3%82%B0%E3%83%AC%E3%83%BC%E3%82%B9%E3%82%B1%E3%83%BC%E3%83%AB%E7%94%BB%E5%83%8F%E3%81%AE%E7%B8%AE%E5%B0%8F.ipynb\" target=\"_parent\"><img src=\"https://colab.research.google.com/assets/colab-badge.svg\" alt=\"Open In Colab\"/></a>"
      ]
    },
    {
      "cell_type": "code",
      "metadata": {
        "id": "hh5ev5Rqts4n",
        "colab_type": "code",
        "colab": {}
      },
      "source": [
        "n,k=list(map(int,input().split()))\n",
        "a=[list(map(int,input().split())) for i in range(n)]\n",
        "b,c=[[0 for i in range(n//k)] for j in range(n)],[[0 for i in range(n//k)] for j in range(n//k)]\n",
        "    \n",
        "# 横の足し算\n",
        "for i in range(n):\n",
        "    for j in range(0,n,k):\n",
        "        b[i][j//k]=sum(a[i][j:j+k])\n",
        "\n",
        "# 縦の足し算 + 平均の計算\n",
        "for i in range(n//k):\n",
        "    for j in range(n//k):\n",
        "        for h in range(k):\n",
        "            c[j][i]+=(b[j*k+h][i])\n",
        "        c[j][i]=c[j][i]//(k**2)\n",
        "\n",
        "for i in c:\n",
        "    c=' '.join([str(j) for j in i])\n",
        "    print(c)"
      ],
      "execution_count": null,
      "outputs": []
    }
  ]
}