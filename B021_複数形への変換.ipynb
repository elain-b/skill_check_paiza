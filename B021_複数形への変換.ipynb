{
  "nbformat": 4,
  "nbformat_minor": 0,
  "metadata": {
    "colab": {
      "name": "B021:複数形への変換.ipynb",
      "provenance": [],
      "include_colab_link": true
    },
    "kernelspec": {
      "name": "python3",
      "display_name": "Python 3"
    }
  },
  "cells": [
    {
      "cell_type": "markdown",
      "metadata": {
        "id": "view-in-github",
        "colab_type": "text"
      },
      "source": [
        "<a href=\"https://colab.research.google.com/github/elain-b/skill_check_paiza/blob/master/B021_%E8%A4%87%E6%95%B0%E5%BD%A2%E3%81%B8%E3%81%AE%E5%A4%89%E6%8F%9B.ipynb\" target=\"_parent\"><img src=\"https://colab.research.google.com/assets/colab-badge.svg\" alt=\"Open In Colab\"/></a>"
      ]
    },
    {
      "cell_type": "code",
      "metadata": {
        "id": "M_2PGwK4p3zK",
        "colab_type": "code",
        "outputId": "75370efc-2b15-41ee-bd76-5b6bb94ac207",
        "colab": {
          "base_uri": "https://localhost:8080/",
          "height": 34
        }
      },
      "source": [
        "s = 'fizh'\n",
        "es=['s','h','o','x']\n",
        "ves=['f']\n",
        "ies=['a','i','u','e','o']\n",
        "if s[-1] in es:\n",
        "    print(s + 'es')\n",
        "    if s[-1] == 'h' and s[-2] in ['s','c']:\n",
        "        print(s[-2])\n",
        "elif s[-1] in ves:\n",
        "    print('ves')\n",
        "elif s[-1] in ies:\n",
        "    print('ies')\n",
        "else:\n",
        "    print(s + 's')"
      ],
      "execution_count": 0,
      "outputs": [
        {
          "output_type": "stream",
          "text": [
            "fizhes\n"
          ],
          "name": "stdout"
        }
      ]
    },
    {
      "cell_type": "code",
      "metadata": {
        "id": "wxthowUYLXUR",
        "colab_type": "code",
        "outputId": "a7ecaa65-8331-4afb-a44f-b2d6e85274e2",
        "colab": {
          "base_uri": "https://localhost:8080/",
          "height": 136
        }
      },
      "source": [
        "j = int(input())\n",
        "k = [input() for i in range(j)]\n",
        "es=['s','h','o','x']\n",
        "ves=['f','e']\n",
        "ies=['a','i','u','e','o']\n",
        "for s in k:\n",
        "    if s[-1] in es:\n",
        "        # print(s + 'es')\n",
        "        if s[-1] == 'h' and s[-2] in ['s','c']:\n",
        "            # print(s[-2])\n",
        "            print(s + 'es')\n",
        "    elif s[-1] in ves:\n",
        "        if (s[-1] == 'e' and s[-2] == 'f'):\n",
        "            print(s.replace('fe','ves'))\n",
        "        elif s[-1] == 'f':\n",
        "            print(s.replace('f','ves'))\n",
        "    elif s[-1] == 'y':\n",
        "        if s[-2] != ies:\n",
        "            print(s.replace('y','ies'))\n",
        "    else:\n",
        "        print(s + 's')"
      ],
      "execution_count": 0,
      "outputs": [
        {
          "output_type": "stream",
          "text": [
            "3\n",
            "dog\n",
            "cat\n",
            "pig\n",
            "dogs\n",
            "cats\n",
            "pigs\n"
          ],
          "name": "stdout"
        }
      ]
    },
    {
      "cell_type": "markdown",
      "metadata": {
        "id": "QQzp3b8LX0LI",
        "colab_type": "text"
      },
      "source": [
        "https://paiza.jp/challenges/77/show"
      ]
    }
  ]
}