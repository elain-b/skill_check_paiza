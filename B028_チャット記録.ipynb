{
  "nbformat": 4,
  "nbformat_minor": 0,
  "metadata": {
    "colab": {
      "name": "B028:チャット記録.ipynb",
      "provenance": [],
      "authorship_tag": "ABX9TyO/JYT3goeuWyMtcEFBS6r/",
      "include_colab_link": true
    },
    "kernelspec": {
      "name": "python3",
      "display_name": "Python 3"
    }
  },
  "cells": [
    {
      "cell_type": "markdown",
      "metadata": {
        "id": "view-in-github",
        "colab_type": "text"
      },
      "source": [
        "<a href=\"https://colab.research.google.com/github/elain-b/skill_check_paiza/blob/master/B028_%E3%83%81%E3%83%A3%E3%83%83%E3%83%88%E8%A8%98%E9%8C%B2.ipynb\" target=\"_parent\"><img src=\"https://colab.research.google.com/assets/colab-badge.svg\" alt=\"Open In Colab\"/></a>"
      ]
    },
    {
      "cell_type": "code",
      "metadata": {
        "id": "xtt_Ox8H0sx8",
        "colab_type": "code",
        "colab": {}
      },
      "source": [
        "n,g,m=list(map(int,input().split()))\n",
        "k=[list(map(int,input().split())) for i in range(g)]\n",
        "N=[[] for i in range(n)]\n",
        "for i in range(m):\n",
        "    s=input().split()\n",
        "    if s[1]=='0' and s[0]!=s[2]:\n",
        "        N[int(s[0])-1]+=s[3:]\n",
        "        N[int(s[2])-1]+=s[3:]\n",
        "    if s[1]=='1':\n",
        "        for j in range(1,k[int(s[2])-1][0]+1):\n",
        "            N[int(k[int(s[2])-1][j])-1]+=s[3:]\n",
        "    \n",
        "for i in range(n-1):\n",
        "    print('\\n'.join(N[i]))\n",
        "    print('--')\n",
        "print('\\n'.join(N[-1]))"
      ],
      "execution_count": null,
      "outputs": []
    }
  ]
}