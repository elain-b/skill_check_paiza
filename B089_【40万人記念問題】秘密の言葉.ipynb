{
  "nbformat": 4,
  "nbformat_minor": 0,
  "metadata": {
    "colab": {
      "name": "B089:【40万人記念問題】秘密の言葉.ipynb",
      "provenance": [],
      "collapsed_sections": [],
      "authorship_tag": "ABX9TyMxr8c7ovjnqe0MehCK5acW",
      "include_colab_link": true
    },
    "kernelspec": {
      "name": "python3",
      "display_name": "Python 3"
    },
    "language_info": {
      "name": "python"
    }
  },
  "cells": [
    {
      "cell_type": "markdown",
      "metadata": {
        "id": "view-in-github",
        "colab_type": "text"
      },
      "source": [
        "<a href=\"https://colab.research.google.com/github/elain-b/skill_check_paiza/blob/master/B089_%E3%80%9040%E4%B8%87%E4%BA%BA%E8%A8%98%E5%BF%B5%E5%95%8F%E9%A1%8C%E3%80%91%E7%A7%98%E5%AF%86%E3%81%AE%E8%A8%80%E8%91%89.ipynb\" target=\"_parent\"><img src=\"https://colab.research.google.com/assets/colab-badge.svg\" alt=\"Open In Colab\"/></a>"
      ]
    },
    {
      "cell_type": "code",
      "metadata": {
        "id": "mld_IfVDUKjM"
      },
      "source": [
        "N,M=map(int,input().split())\n",
        "s=[]\n",
        "for n in range(N):\n",
        "    s.append(list(input()))\n",
        "w=[]\n",
        "for m in range(M):\n",
        "    w.append(list(input()))\n",
        "for o in range(len(w)):\n",
        "    for i in range(N):\n",
        "        for j in range(N):\n",
        "            if s[i][j]==w[o][0]:\n",
        "                flag=True\n",
        "                for k in range(1,len(w[o])):\n",
        "                    if i+k>=N or j+k>=N:\n",
        "                        flag=False\n",
        "                        break\n",
        "                    if s[i+k][j+k]!=w[o][k]:\n",
        "                        flag=False\n",
        "                        break\n",
        "                if flag:\n",
        "                        print(j+1,i+1)"
      ],
      "execution_count": null,
      "outputs": []
    }
  ]
}