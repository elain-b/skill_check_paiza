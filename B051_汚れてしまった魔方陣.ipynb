{
  "nbformat": 4,
  "nbformat_minor": 0,
  "metadata": {
    "colab": {
      "name": "B051:汚れてしまった魔方陣.ipynb",
      "provenance": [],
      "collapsed_sections": [],
      "include_colab_link": true
    },
    "kernelspec": {
      "name": "python3",
      "display_name": "Python 3"
    }
  },
  "cells": [
    {
      "cell_type": "markdown",
      "metadata": {
        "id": "view-in-github",
        "colab_type": "text"
      },
      "source": [
        "<a href=\"https://colab.research.google.com/github/elain-b/skill_check_paiza/blob/master/B051_%E6%B1%9A%E3%82%8C%E3%81%A6%E3%81%97%E3%81%BE%E3%81%A3%E3%81%9F%E9%AD%94%E6%96%B9%E9%99%A3.ipynb\" target=\"_parent\"><img src=\"https://colab.research.google.com/assets/colab-badge.svg\" alt=\"Open In Colab\"/></a>"
      ]
    },
    {
      "cell_type": "markdown",
      "metadata": {
        "id": "8XvWv7tXPyxo",
        "colab_type": "text"
      },
      "source": [
        "https://paiza.jp/challenges/227/show"
      ]
    },
    {
      "cell_type": "code",
      "metadata": {
        "id": "ZnoSlOws6Uzh",
        "colab_type": "code",
        "outputId": "aa15048c-a829-4d43-a10f-c1f1ca028cb2",
        "colab": {
          "base_uri": "https://localhost:8080/",
          "height": 119
        }
      },
      "source": [
        "m=[] #入力された数字の配列\n",
        "n=int(input())\n",
        "for i in range(n):\n",
        "    m.append(list(map(int, input().split())))\n",
        "\n",
        "k=[] #0がある行\n",
        "l=[] #0がある列\n",
        "s=[] #縦の合計値の配列\n",
        "r=[] #0を置き換える数字の配列\n",
        "\n",
        "for colum in range(n):\n",
        "    j=0\n",
        "    # 縦の足し算\n",
        "    for row in range(n):\n",
        "        # jは縦の合計値\n",
        "        j += m[row][colum]\n",
        "\n",
        "        # 0の座標をkとlに記録\n",
        "        if m[row][colum] == 0:\n",
        "            # print(row)\n",
        "            k.append(row)\n",
        "            l.append(colum)\n",
        "            \n",
        "    s.append(j)\n",
        "\n",
        "#0を置き換える数字\n",
        "for u in s:\n",
        "    if max(s) - u != 0:\n",
        "        r.append(max(s) - u)\n",
        "        # print(len(r))\n",
        "print(len(k))\n",
        "\n",
        "if len(r) == 1:\n",
        "    k=[]\n",
        "    l=[]\n",
        "    s=[]\n",
        "    r=[]\n",
        "    for row in range(n):\n",
        "        j=0\n",
        "        # 横の足し算\n",
        "        for colum in range(n):\n",
        "            # jは縦の合計値\n",
        "            j += m[row][colum]\n",
        "    \n",
        "            # 0の座標をkとlに記録\n",
        "            if m[row][colum] == 0:\n",
        "                # print(row)\n",
        "                k.append(row)\n",
        "                l.append(colum)\n",
        "                \n",
        "        s.append(j)\n",
        "    \n",
        "    #0を置き換える数字\n",
        "    for u in s:\n",
        "        if max(s) - u != 0:\n",
        "            r.append(max(s) - u)\n",
        "            # print(len(r))\n",
        "    print(len(k))\n",
        "\n",
        "# 差し替え\n",
        "for e in range(len(r)):\n",
        "    m[k[e]][l[e]] = r[e]\n",
        "\n",
        "for y in m:\n",
        "    print(' '.join(map(str, y)))"
      ],
      "execution_count": 0,
      "outputs": [
        {
          "output_type": "stream",
          "text": [
            "3\n",
            "6 1 8\n",
            "7 5 3\n",
            "2 0 0\n",
            "15\n",
            "9\n"
          ],
          "name": "stdout"
        }
      ]
    },
    {
      "cell_type": "code",
      "metadata": {
        "id": "L_2Nbue_F3sW",
        "colab_type": "code",
        "colab": {}
      },
      "source": [
        "S = int((n * n) * (n * n + 1) / n /2)\n",
        "print(S)\n",
        "\n",
        "print(sum(m[0]))\n",
        "print(m[0][:2])"
      ],
      "execution_count": 0,
      "outputs": []
    }
  ]
}