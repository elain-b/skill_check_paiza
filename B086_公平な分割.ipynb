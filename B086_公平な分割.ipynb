{
  "nbformat": 4,
  "nbformat_minor": 0,
  "metadata": {
    "colab": {
      "name": "B086:公平な分割.ipynb",
      "provenance": [],
      "authorship_tag": "ABX9TyMOcR7pqs0NokonjNEZRVXG",
      "include_colab_link": true
    },
    "kernelspec": {
      "name": "python3",
      "display_name": "Python 3"
    }
  },
  "cells": [
    {
      "cell_type": "markdown",
      "metadata": {
        "id": "view-in-github",
        "colab_type": "text"
      },
      "source": [
        "<a href=\"https://colab.research.google.com/github/elain-b/skill_check_paiza/blob/master/B086_%E5%85%AC%E5%B9%B3%E3%81%AA%E5%88%86%E5%89%B2.ipynb\" target=\"_parent\"><img src=\"https://colab.research.google.com/assets/colab-badge.svg\" alt=\"Open In Colab\"/></a>"
      ]
    },
    {
      "cell_type": "code",
      "metadata": {
        "id": "PMDwkMdhMyMp"
      },
      "source": [
        "H,W=list(map(int,input().split()))\n",
        "C=[]\n",
        "sx,sy=0,0\n",
        "f=99999\n",
        "for i in range(H):\n",
        "    C.append(input())\n",
        "for j in range(1,H):\n",
        "    for k in range(1,W):\n",
        "        x,y=j,k\n",
        "        a,b,c,d=0,0,0,0\n",
        "        e=[]\n",
        "        for i in range(x):\n",
        "            a+=C[i][:y].count('@')\n",
        "        e.append(x*y+a**2)\n",
        "        for i in range(x):\n",
        "            b+=C[i][y:].count('@')\n",
        "        e.append(x*y+b**2)\n",
        "        for i in range(H-x):\n",
        "            c+=C[x+i][:y].count('@')\n",
        "        e.append(((H-x)*(W-y))+c**2)\n",
        "        for i in range(H-x):\n",
        "            d+=C[x+i][y:].count('@')\n",
        "        e.append(((H-x)*(W-y))+d**2)\n",
        "        g=max(e)-min(e)\n",
        "        print(e)\n",
        "        print(g)\n",
        "        if f>g:\n",
        "            f=max(e)-min(e)\n",
        "            sx,sy=x,y\n",
        "        elif f==g:\n",
        "            if x==sx:\n",
        "                if y<sy:\n",
        "                    sx,sy=x,y\n",
        "            elif x<sx:\n",
        "                sx,sy=x,y\n",
        "print(str(sx)+' '+str(sy))"
      ],
      "execution_count": null,
      "outputs": []
    }
  ]
}