{
  "nbformat": 4,
  "nbformat_minor": 0,
  "metadata": {
    "colab": {
      "name": "C040:【ロジサマコラボ問題】背比べ.ipynb",
      "provenance": [],
      "collapsed_sections": [],
      "authorship_tag": "ABX9TyME5SebuazUV5TtTRWEFGbV",
      "include_colab_link": true
    },
    "kernelspec": {
      "name": "python3",
      "display_name": "Python 3"
    }
  },
  "cells": [
    {
      "cell_type": "markdown",
      "metadata": {
        "id": "view-in-github",
        "colab_type": "text"
      },
      "source": [
        "<a href=\"https://colab.research.google.com/github/elain-b/skill_check_paiza/blob/master/C040_%E3%80%90%E3%83%AD%E3%82%B8%E3%82%B5%E3%83%9E%E3%82%B3%E3%83%A9%E3%83%9C%E5%95%8F%E9%A1%8C%E3%80%91%E8%83%8C%E6%AF%94%E3%81%B9.ipynb\" target=\"_parent\"><img src=\"https://colab.research.google.com/assets/colab-badge.svg\" alt=\"Open In Colab\"/></a>"
      ]
    },
    {
      "cell_type": "code",
      "metadata": {
        "id": "ZMm8O-eJdlMr",
        "colab_type": "code",
        "colab": {}
      },
      "source": [
        "n=int(input())\n",
        "le,ge=[],[]\n",
        "for i in range(n):\n",
        "    c,h=input().split()\n",
        "    if c=='le':\n",
        "        le.append(h)\n",
        "    elif c=='ge':\n",
        "        ge.append(h)\n",
        "print(max(ge),min(le))"
      ],
      "execution_count": null,
      "outputs": []
    }
  ]
}