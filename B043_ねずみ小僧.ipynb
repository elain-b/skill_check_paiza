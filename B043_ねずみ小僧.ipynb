{
  "nbformat": 4,
  "nbformat_minor": 0,
  "metadata": {
    "colab": {
      "name": "B043:ねずみ小僧.ipynb",
      "provenance": [],
      "authorship_tag": "ABX9TyMo2ssPwhW07KtntWmVLsUm",
      "include_colab_link": true
    },
    "kernelspec": {
      "name": "python3",
      "display_name": "Python 3"
    }
  },
  "cells": [
    {
      "cell_type": "markdown",
      "metadata": {
        "id": "view-in-github",
        "colab_type": "text"
      },
      "source": [
        "<a href=\"https://colab.research.google.com/github/elain-b/skill_check_paiza/blob/master/B043_%E3%81%AD%E3%81%9A%E3%81%BF%E5%B0%8F%E5%83%A7.ipynb\" target=\"_parent\"><img src=\"https://colab.research.google.com/assets/colab-badge.svg\" alt=\"Open In Colab\"/></a>"
      ]
    },
    {
      "cell_type": "code",
      "metadata": {
        "id": "3TAyKzyo6aQD",
        "colab_type": "code",
        "colab": {}
      },
      "source": [
        "h,w=map(int,input().split())\n",
        "x,y=map(int,input().split())\n",
        "s=[list(input()) for i in range(h)]\n",
        "axis=1\n",
        "num=1\n",
        "x,y=x-1,y-1\n",
        "while num<=2000 and 0<=x<h and 0<=y<w:\n",
        "    num+=1\n",
        "    if s[x][y]=='.':\n",
        "        s[x][y]='*'\n",
        "        if axis==1:\n",
        "            axis=2\n",
        "            y+=1\n",
        "        elif axis==2:\n",
        "            axis=3\n",
        "            x+=1\n",
        "        elif axis==3:\n",
        "            axis=4\n",
        "            y-=1\n",
        "        elif axis==4:\n",
        "            axis=1\n",
        "            x-=1\n",
        "    else:\n",
        "        s[x][y]='.'\n",
        "        if axis==1:\n",
        "            axis=4\n",
        "            y-=1\n",
        "        elif axis==2:\n",
        "            axis=1\n",
        "            x-=1\n",
        "        elif axis==3:\n",
        "            axis=2\n",
        "            y+=1\n",
        "        elif axis==4:\n",
        "            axis=3\n",
        "            x+=1\n",
        "for i in s:\n",
        "    print(\"\".join(i))"
      ],
      "execution_count": null,
      "outputs": []
    },
    {
      "cell_type": "code",
      "metadata": {
        "id": "uE472qCU6Tqs",
        "colab_type": "code",
        "colab": {}
      },
      "source": [
        "h,w=map(int,input().split())\n",
        "x,y=map(int,input().split())\n",
        "s=[list(input()) for i in range(h)]\n",
        "axis=1\n",
        "num=1\n",
        "x,y=x-1,y-1\n",
        "while num<=2000 and 0<=x<h and 0<=y<w:\n",
        "    num+=1\n",
        "    if s[x][y]=='.':\n",
        "        s[x][y]='*'\n",
        "        if axis==1:\n",
        "            y+=1\n",
        "        elif axis==2:\n",
        "            x+=1\n",
        "        elif axis==3:\n",
        "            y-=1\n",
        "        elif axis==4:\n",
        "            x-=1\n",
        "        axis=axis%4+1\n",
        "    else:\n",
        "        s[x][y]='.'\n",
        "        if axis==1:\n",
        "            y-=1\n",
        "        elif axis==2:\n",
        "            x-=1\n",
        "        elif axis==3:\n",
        "            y+=1\n",
        "        elif axis==4:\n",
        "            x+=1\n",
        "        axis=(axis+2)%4+1\n",
        "for i in s:\n",
        "    print(\"\".join(i))"
      ],
      "execution_count": null,
      "outputs": []
    }
  ]
}