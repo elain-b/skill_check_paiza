{
  "nbformat": 4,
  "nbformat_minor": 0,
  "metadata": {
    "colab": {
      "name": "C065:【ぱいじょ！コラボ問題】数字あてゲーム.ipynb",
      "provenance": [],
      "collapsed_sections": [],
      "authorship_tag": "ABX9TyNf+eNsAUZ2HIS+fai2OoPY",
      "include_colab_link": true
    },
    "kernelspec": {
      "name": "python3",
      "display_name": "Python 3"
    }
  },
  "cells": [
    {
      "cell_type": "markdown",
      "metadata": {
        "id": "view-in-github",
        "colab_type": "text"
      },
      "source": [
        "<a href=\"https://colab.research.google.com/github/elain-b/skill_check_paiza/blob/master/C065_%E3%80%90%E3%81%B1%E3%81%84%E3%81%98%E3%82%87%EF%BC%81%E3%82%B3%E3%83%A9%E3%83%9C%E5%95%8F%E9%A1%8C%E3%80%91%E6%95%B0%E5%AD%97%E3%81%82%E3%81%A6%E3%82%B2%E3%83%BC%E3%83%A0.ipynb\" target=\"_parent\"><img src=\"https://colab.research.google.com/assets/colab-badge.svg\" alt=\"Open In Colab\"/></a>"
      ]
    },
    {
      "cell_type": "code",
      "metadata": {
        "id": "yXO9R7DaVNCA",
        "colab_type": "code",
        "colab": {}
      },
      "source": [
        "import math\n",
        "n=int(input())\n",
        "a,b,c=0,99999999999,1\n",
        "for i in range(n):\n",
        "    o,x=input().split()\n",
        "    if o=='>':\n",
        "        if int(x)>a:\n",
        "            a=int(x)\n",
        "    elif o=='<':\n",
        "        if int(x)<b:\n",
        "            b=int(x)\n",
        "    else:\n",
        "        if c==1:\n",
        "            c=int(x)\n",
        "        else:\n",
        "            c=c*int(x)//math.gcd(c,int(x))\n",
        "for i in range((a//c)+1,math.ceil(b/c)):\n",
        "    print(c*i)"
      ],
      "execution_count": null,
      "outputs": []
    }
  ]
}