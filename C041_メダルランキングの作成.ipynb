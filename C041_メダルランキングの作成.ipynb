{
  "nbformat": 4,
  "nbformat_minor": 0,
  "metadata": {
    "colab": {
      "name": "C041:メダルランキングの作成.ipynb",
      "provenance": [],
      "authorship_tag": "ABX9TyMDCS/ocwPR09E1LguzklN/",
      "include_colab_link": true
    },
    "kernelspec": {
      "name": "python3",
      "display_name": "Python 3"
    }
  },
  "cells": [
    {
      "cell_type": "markdown",
      "metadata": {
        "id": "view-in-github",
        "colab_type": "text"
      },
      "source": [
        "<a href=\"https://colab.research.google.com/github/elain-b/skill_check_paiza/blob/master/C041_%E3%83%A1%E3%83%80%E3%83%AB%E3%83%A9%E3%83%B3%E3%82%AD%E3%83%B3%E3%82%B0%E3%81%AE%E4%BD%9C%E6%88%90.ipynb\" target=\"_parent\"><img src=\"https://colab.research.google.com/assets/colab-badge.svg\" alt=\"Open In Colab\"/></a>"
      ]
    },
    {
      "cell_type": "code",
      "metadata": {
        "id": "qiLBS-L-fSXT",
        "colab_type": "code",
        "colab": {}
      },
      "source": [
        "n=int(input())\n",
        "a=[list(map(int, input().split())) for _ in range(n)]\n",
        "rg= sorted(a, key=lambda x:(x[0], x[1], x[2]), reverse=True)\n",
        "for i in rg:\n",
        "    rs = [str(n) for n in i]\n",
        "    print(\" \".join(rs))"
      ],
      "execution_count": null,
      "outputs": []
    }
  ]
}