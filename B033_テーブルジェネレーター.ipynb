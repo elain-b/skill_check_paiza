{
  "nbformat": 4,
  "nbformat_minor": 0,
  "metadata": {
    "colab": {
      "name": "B033:テーブルジェネレーター.ipynb",
      "provenance": [],
      "authorship_tag": "ABX9TyOsmdy6ozom7g37mQgVCiCL",
      "include_colab_link": true
    },
    "kernelspec": {
      "name": "python3",
      "display_name": "Python 3"
    }
  },
  "cells": [
    {
      "cell_type": "markdown",
      "metadata": {
        "id": "view-in-github",
        "colab_type": "text"
      },
      "source": [
        "<a href=\"https://colab.research.google.com/github/elain-b/skill_check_paiza/blob/master/B033_%E3%83%86%E3%83%BC%E3%83%96%E3%83%AB%E3%82%B8%E3%82%A7%E3%83%8D%E3%83%AC%E3%83%BC%E3%82%BF%E3%83%BC.ipynb\" target=\"_parent\"><img src=\"https://colab.research.google.com/assets/colab-badge.svg\" alt=\"Open In Colab\"/></a>"
      ]
    },
    {
      "cell_type": "code",
      "metadata": {
        "id": "kqoJkx7G6TeS",
        "colab_type": "code",
        "colab": {}
      },
      "source": [
        "w=int(input())\n",
        "c=input().split()\n",
        "h=int(input())\n",
        "r=[input().split() for i in range(h)]\n",
        "\n",
        "max_space=[len(c[i]) for i in range(w)]\n",
        "\n",
        "for j in range(w):\n",
        "    for i in range(h):\n",
        "        if len(r[i][j])>max_space[j]:\n",
        "            max_space[j]=len(r[i][j])\n",
        " \n",
        "f='|'\n",
        "for i in range(w):\n",
        "    f=f + ' ' + c[i] + ' ' * (max_space[i]-len(c[i])) + ' |'\n",
        "print(f)\n",
        "f1='|'\n",
        "for i in range(w):\n",
        "    f1=f1+ '-'*(max_space[i]+2) + '|'\n",
        "print(f1)\n",
        "\n",
        "for i in range(h):\n",
        "    for j in range(w):\n",
        "        r[i][j]=r[i][j] + ' '*(max_space[j]-len(r[i][j])) + ' '\n",
        "\n",
        "for i in range(h):\n",
        "    r[i]='| '.join(r[i])\n",
        "    print('| ' + r[i] + '|')"
      ],
      "execution_count": null,
      "outputs": []
    }
  ]
}