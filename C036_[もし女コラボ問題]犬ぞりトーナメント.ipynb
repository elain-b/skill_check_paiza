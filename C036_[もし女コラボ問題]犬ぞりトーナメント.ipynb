{
  "nbformat": 4,
  "nbformat_minor": 0,
  "metadata": {
    "colab": {
      "name": "C036:[もし女コラボ問題]犬ぞりトーナメント.ipynb",
      "provenance": [],
      "collapsed_sections": [],
      "authorship_tag": "ABX9TyNzU1t8U4LxBn1qxFvpy+aQ",
      "include_colab_link": true
    },
    "kernelspec": {
      "name": "python3",
      "display_name": "Python 3"
    }
  },
  "cells": [
    {
      "cell_type": "markdown",
      "metadata": {
        "id": "view-in-github",
        "colab_type": "text"
      },
      "source": [
        "<a href=\"https://colab.research.google.com/github/elain-b/skill_check_paiza/blob/master/C036_%5B%E3%82%82%E3%81%97%E5%A5%B3%E3%82%B3%E3%83%A9%E3%83%9C%E5%95%8F%E9%A1%8C%5D%E7%8A%AC%E3%81%9E%E3%82%8A%E3%83%88%E3%83%BC%E3%83%8A%E3%83%A1%E3%83%B3%E3%83%88.ipynb\" target=\"_parent\"><img src=\"https://colab.research.google.com/assets/colab-badge.svg\" alt=\"Open In Colab\"/></a>"
      ]
    },
    {
      "cell_type": "code",
      "metadata": {
        "id": "G6FEAaWBZQrc",
        "colab_type": "code",
        "colab": {}
      },
      "source": [
        "e = [1,2,3,4]\n",
        "k = []\n",
        "for i in range(2):\n",
        "    k = k + input().split()\n",
        "j = []\n",
        "for i in range(2):\n",
        "    j = j + input().split()\n",
        "o = dict(zip(j,e))\n",
        "l = [o[str(min(j[int(k[0])-1],j[int(k[1])-1]))], o[str(min(j[int(k[2])-1],j[int(k[3])-1]))]]\n",
        "l.sort()\n",
        "o = dict(zip(j[4:6],l))\n",
        "print(o[str(min(j[4],j[5]))])\n",
        "print(o[str(max(j[4],j[5]))])"
      ],
      "execution_count": 0,
      "outputs": []
    }
  ]
}