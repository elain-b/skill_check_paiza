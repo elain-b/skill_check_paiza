{
  "nbformat": 4,
  "nbformat_minor": 0,
  "metadata": {
    "colab": {
      "name": "C076:給与の計算.ipynb",
      "provenance": [],
      "collapsed_sections": [],
      "authorship_tag": "ABX9TyP5kUyLtVmz9GiKr0yEjD75",
      "include_colab_link": true
    },
    "kernelspec": {
      "name": "python3",
      "display_name": "Python 3"
    }
  },
  "cells": [
    {
      "cell_type": "markdown",
      "metadata": {
        "id": "view-in-github",
        "colab_type": "text"
      },
      "source": [
        "<a href=\"https://colab.research.google.com/github/elain-b/skill_check_paiza/blob/master/C076_%E7%B5%A6%E4%B8%8E%E3%81%AE%E8%A8%88%E7%AE%97.ipynb\" target=\"_parent\"><img src=\"https://colab.research.google.com/assets/colab-badge.svg\" alt=\"Open In Colab\"/></a>"
      ]
    },
    {
      "cell_type": "code",
      "metadata": {
        "id": "4ayuAd0jd_oa",
        "colab_type": "code",
        "colab": {}
      },
      "source": [
        "# https://paiza.jp/challenges/365/show"
      ],
      "execution_count": null,
      "outputs": []
    },
    {
      "cell_type": "code",
      "metadata": {
        "id": "QXuF65dWd7mo",
        "colab_type": "code",
        "colab": {}
      },
      "source": [
        "x,y,z = map(int, input().split())\n",
        "n=int(input())\n",
        "ans=0\n",
        "for i in range(n):\n",
        "    s,e=map(int, input().split())\n",
        "    t=e-s\n",
        "    s1,e1=0,0\n",
        "    if 9<=s<17:\n",
        "        s1=s\n",
        "    elif s<9 and e>9:\n",
        "        s1=9\n",
        "    if 9<e<=17 and e>s:\n",
        "        e1=e\n",
        "    elif e>17 and s<17:\n",
        "        e1=17\n",
        "    t1=e1-s1\n",
        "    s1,e1=0,0\n",
        "    if 17<=s<22:\n",
        "        s1=s\n",
        "    elif s<17 and e>17:\n",
        "        s1=17\n",
        "    if 17<e<=22 and e>s:\n",
        "        e1=e\n",
        "    elif e>22 and s<22:\n",
        "        e1=22\n",
        "    t2=e1-s1\n",
        "    ans=ans+(t1)*x + (t2)*y + (t-t1-t2)*z\n",
        "print(ans)"
      ],
      "execution_count": null,
      "outputs": []
    }
  ]
}