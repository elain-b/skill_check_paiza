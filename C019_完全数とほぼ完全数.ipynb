{
  "nbformat": 4,
  "nbformat_minor": 0,
  "metadata": {
    "colab": {
      "name": "C019:完全数とほぼ完全数.ipynb",
      "provenance": [],
      "collapsed_sections": [],
      "include_colab_link": true
    },
    "kernelspec": {
      "name": "python3",
      "display_name": "Python 3"
    }
  },
  "cells": [
    {
      "cell_type": "markdown",
      "metadata": {
        "id": "view-in-github",
        "colab_type": "text"
      },
      "source": [
        "<a href=\"https://colab.research.google.com/github/elain-b/skill_check_paiza/blob/master/C019_%E5%AE%8C%E5%85%A8%E6%95%B0%E3%81%A8%E3%81%BB%E3%81%BC%E5%AE%8C%E5%85%A8%E6%95%B0.ipynb\" target=\"_parent\"><img src=\"https://colab.research.google.com/assets/colab-badge.svg\" alt=\"Open In Colab\"/></a>"
      ]
    },
    {
      "cell_type": "code",
      "metadata": {
        "id": "BAMHbw08yDQJ",
        "colab_type": "code",
        "colab": {
          "base_uri": "https://localhost:8080/",
          "height": 136
        },
        "outputId": "84949f51-5ce5-4187-eed9-629ed7d18b46"
      },
      "source": [
        "Q = int(input())\n",
        "N = [list(map(int, input().split())) for _ in range(Q)]\n",
        "for j in range(Q):\n",
        "    sum = 0\n",
        "    for i in range(1,N[j][0]):\n",
        "        sum += i if N[j][0] % i == 0 else 0\n",
        "    if sum == N[j][0]:\n",
        "        print('perfect')\n",
        "    elif abs(sum - N[j][0]) == 1:\n",
        "        print('nearly')\n",
        "    else:\n",
        "        print('neither')"
      ],
      "execution_count": 1,
      "outputs": [
        {
          "output_type": "stream",
          "text": [
            "3\n",
            "28\n",
            "16\n",
            "777\n",
            "perfect\n",
            "nearly\n",
            "neither\n"
          ],
          "name": "stdout"
        }
      ]
    }
  ]
}