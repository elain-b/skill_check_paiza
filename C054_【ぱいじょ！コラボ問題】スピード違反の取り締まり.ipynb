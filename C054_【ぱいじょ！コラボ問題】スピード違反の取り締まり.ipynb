{
  "nbformat": 4,
  "nbformat_minor": 0,
  "metadata": {
    "colab": {
      "name": "C054:【ぱいじょ！コラボ問題】スピード違反の取り締まり.ipynb",
      "provenance": [],
      "collapsed_sections": [],
      "authorship_tag": "ABX9TyPVHZ/nsCIAbIqEk/qmG7yv",
      "include_colab_link": true
    },
    "kernelspec": {
      "name": "python3",
      "display_name": "Python 3"
    }
  },
  "cells": [
    {
      "cell_type": "markdown",
      "metadata": {
        "id": "view-in-github",
        "colab_type": "text"
      },
      "source": [
        "<a href=\"https://colab.research.google.com/github/elain-b/skill_check_paiza/blob/master/C054_%E3%80%90%E3%81%B1%E3%81%84%E3%81%98%E3%82%87%EF%BC%81%E3%82%B3%E3%83%A9%E3%83%9C%E5%95%8F%E9%A1%8C%E3%80%91%E3%82%B9%E3%83%94%E3%83%BC%E3%83%89%E9%81%95%E5%8F%8D%E3%81%AE%E5%8F%96%E3%82%8A%E7%B7%A0%E3%81%BE%E3%82%8A.ipynb\" target=\"_parent\"><img src=\"https://colab.research.google.com/assets/colab-badge.svg\" alt=\"Open In Colab\"/></a>"
      ]
    },
    {
      "cell_type": "code",
      "metadata": {
        "id": "RldncRuEgN4Y",
        "colab_type": "code",
        "colab": {}
      },
      "source": [
        "n,v=map(int,input().split())\n",
        "a,b=0,0\n",
        "d,e=map(int,input().split())\n",
        "for i in range(n-1):\n",
        "    t,p=map(int,input().split())\n",
        "    if (p-e)/(t-d)>v:\n",
        "        print('YES')\n",
        "        exit()\n",
        "    d,e=t,p\n",
        "print('NO')"
      ],
      "execution_count": null,
      "outputs": []
    }
  ]
}