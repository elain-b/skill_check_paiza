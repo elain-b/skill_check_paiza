{
  "nbformat": 4,
  "nbformat_minor": 0,
  "metadata": {
    "colab": {
      "name": "C079:カードを集める.ipynb",
      "provenance": [],
      "collapsed_sections": [],
      "authorship_tag": "ABX9TyMKevv9xFFVrq9JSW46d7vI",
      "include_colab_link": true
    },
    "kernelspec": {
      "name": "python3",
      "display_name": "Python 3"
    }
  },
  "cells": [
    {
      "cell_type": "markdown",
      "metadata": {
        "id": "view-in-github",
        "colab_type": "text"
      },
      "source": [
        "<a href=\"https://colab.research.google.com/github/elain-b/skill_check_paiza/blob/master/C079_%E3%82%AB%E3%83%BC%E3%83%89%E3%82%92%E9%9B%86%E3%82%81%E3%82%8B.ipynb\" target=\"_parent\"><img src=\"https://colab.research.google.com/assets/colab-badge.svg\" alt=\"Open In Colab\"/></a>"
      ]
    },
    {
      "cell_type": "code",
      "metadata": {
        "id": "Qu7_uxfhFN5F",
        "colab_type": "code",
        "colab": {}
      },
      "source": [
        "n,m=map(int, input().split())\n",
        "b=[0 for _ in range(m)]\n",
        "d=1\n",
        "for i in range(n):\n",
        "    c=int(input())\n",
        "    for j in range(1,m+1):\n",
        "        if c==j:\n",
        "            b[j-1]=1\n",
        "    if b.count(1)==m:\n",
        "        print(i+1)\n",
        "        exit()\n",
        "print('unlucy')"
      ],
      "execution_count": null,
      "outputs": []
    }
  ]
}