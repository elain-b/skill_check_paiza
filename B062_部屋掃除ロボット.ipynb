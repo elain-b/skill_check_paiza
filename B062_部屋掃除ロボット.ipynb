{
  "nbformat": 4,
  "nbformat_minor": 0,
  "metadata": {
    "colab": {
      "name": "B062:部屋掃除ロボット.ipynb",
      "provenance": [],
      "authorship_tag": "ABX9TyMBd3iqJNwXKtYCWmhj0gfb",
      "include_colab_link": true
    },
    "kernelspec": {
      "name": "python3",
      "display_name": "Python 3"
    }
  },
  "cells": [
    {
      "cell_type": "markdown",
      "metadata": {
        "id": "view-in-github",
        "colab_type": "text"
      },
      "source": [
        "<a href=\"https://colab.research.google.com/github/elain-b/skill_check_paiza/blob/master/B062_%E9%83%A8%E5%B1%8B%E6%8E%83%E9%99%A4%E3%83%AD%E3%83%9C%E3%83%83%E3%83%88.ipynb\" target=\"_parent\"><img src=\"https://colab.research.google.com/assets/colab-badge.svg\" alt=\"Open In Colab\"/></a>"
      ]
    },
    {
      "cell_type": "code",
      "metadata": {
        "id": "Mqpv_Ebcma4L"
      },
      "source": [
        "N=int(input())\n",
        "H,W=list(map(int,input().split()))\n",
        "h,w=0,0\n",
        "s=[]\n",
        "n=0\n",
        "d=0\n",
        "c='right'\n",
        "for i in range(H):\n",
        "    s.append(list(input()))\n",
        "for i in range(N):\n",
        "    if c=='right':\n",
        "        if s[h][w]=='#':\n",
        "            d+=1\n",
        "        s[h][w]='*'\n",
        "        if w<W-1 and s[h][w+1]!='*':\n",
        "            w+=1\n",
        "        else:\n",
        "            c='down'\n",
        "            h+=1\n",
        "    elif c=='down':\n",
        "        if s[h][w]=='#':\n",
        "            d+=1\n",
        "        s[h][w]='*'\n",
        "        if h<H-1 and s[h+1][w]!='*':\n",
        "            h+=1\n",
        "        else:\n",
        "            c='left'\n",
        "            w-=1\n",
        "    elif c=='left':\n",
        "        if s[h][w]=='#':\n",
        "            d+=1\n",
        "        s[h][w]='*'\n",
        "        if 0<w and s[h][w-1]!='*':\n",
        "            w-=1\n",
        "        else:\n",
        "            c='up'\n",
        "            h-=1\n",
        "    elif c=='up':\n",
        "        if s[h][w]=='#':\n",
        "            d+=1\n",
        "        s[h][w]='*'\n",
        "        if 0<h and s[h-1][w]!='*':\n",
        "            h-=1\n",
        "        else:\n",
        "            c='right'\n",
        "            w+=1\n",
        "print(d)"
      ],
      "execution_count": null,
      "outputs": []
    }
  ]
}