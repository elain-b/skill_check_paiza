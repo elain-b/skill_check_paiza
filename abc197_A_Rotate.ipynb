{
  "nbformat": 4,
  "nbformat_minor": 0,
  "metadata": {
    "colab": {
      "name": "abc197-A - Rotate.ipynb",
      "provenance": [],
      "collapsed_sections": [],
      "authorship_tag": "ABX9TyMBWjOhjxznPrVYbcl/gEr4",
      "include_colab_link": true
    },
    "kernelspec": {
      "name": "python3",
      "display_name": "Python 3"
    },
    "language_info": {
      "name": "python"
    }
  },
  "cells": [
    {
      "cell_type": "markdown",
      "metadata": {
        "id": "view-in-github",
        "colab_type": "text"
      },
      "source": [
        "<a href=\"https://colab.research.google.com/github/elain-b/skill_check_paiza/blob/master/abc197_A_Rotate.ipynb\" target=\"_parent\"><img src=\"https://colab.research.google.com/assets/colab-badge.svg\" alt=\"Open In Colab\"/></a>"
      ]
    },
    {
      "cell_type": "code",
      "metadata": {
        "id": "feYY5miylZPA"
      },
      "source": [
        "S=list(input())\n",
        "S.append(S[0])\n",
        "S.remove(S[0])\n",
        "l=map(str,S)\n",
        "s=''.join(l)\n",
        "print(s)"
      ],
      "execution_count": null,
      "outputs": []
    }
  ]
}