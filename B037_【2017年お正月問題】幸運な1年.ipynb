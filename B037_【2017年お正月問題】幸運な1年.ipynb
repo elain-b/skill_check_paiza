{
  "nbformat": 4,
  "nbformat_minor": 0,
  "metadata": {
    "colab": {
      "name": "B037:【2017年お正月問題】幸運な1年.ipynb",
      "provenance": [],
      "authorship_tag": "ABX9TyPWD+TgGl0Poz08a5H5oqiN",
      "include_colab_link": true
    },
    "kernelspec": {
      "name": "python3",
      "display_name": "Python 3"
    },
    "language_info": {
      "name": "python"
    }
  },
  "cells": [
    {
      "cell_type": "markdown",
      "metadata": {
        "id": "view-in-github",
        "colab_type": "text"
      },
      "source": [
        "<a href=\"https://colab.research.google.com/github/elain-b/skill_check_paiza/blob/master/B037_%E3%80%902017%E5%B9%B4%E3%81%8A%E6%AD%A3%E6%9C%88%E5%95%8F%E9%A1%8C%E3%80%91%E5%B9%B8%E9%81%8B%E3%81%AA1%E5%B9%B4.ipynb\" target=\"_parent\"><img src=\"https://colab.research.google.com/assets/colab-badge.svg\" alt=\"Open In Colab\"/></a>"
      ]
    },
    {
      "cell_type": "code",
      "metadata": {
        "id": "jXDh_2WPzwN3"
      },
      "source": [
        "M,D=map(int,input().split())\n",
        "w,x,y,z=0,0,0,0\n",
        "d={}\n",
        "date='{:0=2}'.format(M)+'{:0=2}'.format(D)\n",
        "datenum=set('{:0=2}'.format(M)+'{:0=2}'.format(D))\n",
        "for i in datenum:\n",
        "    d[i]=date.count(i)\n",
        "a=list(map(int, input().split()))\n",
        "b=list(map(int, input().split()))\n",
        "m=list(map(int, input().split()))\n",
        "for i in range(10000):\n",
        "    flag=True\n",
        "    w=(a[0]*w+b[0]) % m[0]\n",
        "    x=((a[1]*x+b[1]) % m[1])\n",
        "    y=((a[2]*y+b[2]) % m[2])\n",
        "    z=((a[3]*z+b[3]) % m[3])\n",
        "    date2=str(w%10)+str(x%10)+str(y%10)+str(z%10)\n",
        "    for key in d:\n",
        "        if not key in date2:\n",
        "            flag=False\n",
        "            break\n",
        "        if date2.count(key)!=d[key]:\n",
        "            flag=False\n",
        "            break\n",
        "    if not flag:\n",
        "        continue\n",
        "    print(i+1)\n",
        "    break"
      ],
      "execution_count": null,
      "outputs": []
    },
    {
      "cell_type": "code",
      "metadata": {
        "id": "D7TiEJt3z025"
      },
      "source": [
        "M,D=map(int,input().split())\n",
        "w,x,y,z=0,0,0,0\n",
        "d={}\n",
        "date='{:0=2}'.format(M)+'{:0=2}'.format(D)\n",
        "datenum=set('{:0=2}'.format(M)+'{:0=2}'.format(D))\n",
        "print(M,D)\n",
        "print(date)\n",
        "print(datenum)\n",
        "for i in datenum:\n",
        "    d[i]=date.count(i)\n",
        "print(d)\n",
        "a=list(map(int, input().split()))\n",
        "b=list(map(int, input().split()))\n",
        "m=list(map(int, input().split()))\n",
        "print(a)\n",
        "print(b)\n",
        "print(m)\n",
        "for i in range(10000):\n",
        "    flag=True\n",
        "    w=(a[0]*w+b[0]) % m[0]\n",
        "    x=((a[1]*x+b[1]) % m[1])\n",
        "    y=((a[2]*y+b[2]) % m[2])\n",
        "    z=((a[3]*z+b[3]) % m[3])\n",
        "    date2=str(w%10)+str(x%10)+str(y%10)+str(z%10)\n",
        "    # print(w,x,y,z,date2)\n",
        "    for key in d:\n",
        "        if not key in date2:\n",
        "            flag=False\n",
        "            break\n",
        "        if date2.count(key)!=d[key]:\n",
        "            flag=False\n",
        "            break\n",
        "    if not flag:\n",
        "        continue\n",
        "    print(i+1)\n",
        "    break"
      ],
      "execution_count": null,
      "outputs": []
    }
  ]
}