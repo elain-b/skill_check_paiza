{
  "nbformat": 4,
  "nbformat_minor": 0,
  "metadata": {
    "colab": {
      "name": "C043:使用回数の調査.ipynb",
      "provenance": [],
      "collapsed_sections": [],
      "authorship_tag": "ABX9TyPgK68Qn/5I8FmlOCEQ4Bns",
      "include_colab_link": true
    },
    "kernelspec": {
      "name": "python3",
      "display_name": "Python 3"
    }
  },
  "cells": [
    {
      "cell_type": "markdown",
      "metadata": {
        "id": "view-in-github",
        "colab_type": "text"
      },
      "source": [
        "<a href=\"https://colab.research.google.com/github/elain-b/skill_check_paiza/blob/master/C043_%E4%BD%BF%E7%94%A8%E5%9B%9E%E6%95%B0%E3%81%AE%E8%AA%BF%E6%9F%BB.ipynb\" target=\"_parent\"><img src=\"https://colab.research.google.com/assets/colab-badge.svg\" alt=\"Open In Colab\"/></a>"
      ]
    },
    {
      "cell_type": "code",
      "metadata": {
        "id": "EtDMk88pbriz",
        "colab_type": "code",
        "colab": {}
      },
      "source": [
        "import collections\n",
        "n=int(input())\n",
        "a=collections.Counter(input().split())\n",
        "c=[]\n",
        "b=a.most_common()[0][1]\n",
        "for i in a.most_common():\n",
        "    if b==i[1]:\n",
        "        c.append(i[0])\n",
        "print(' '.join(sorted(c)))"
      ],
      "execution_count": null,
      "outputs": []
    }
  ]
}