{
  "nbformat": 4,
  "nbformat_minor": 0,
  "metadata": {
    "colab": {
      "name": "C053:カードの合計 再チャレンジ採点結果.ipynb",
      "provenance": [],
      "collapsed_sections": [],
      "authorship_tag": "ABX9TyNEIS6JGVObGJwqJzj0qYek",
      "include_colab_link": true
    },
    "kernelspec": {
      "name": "python3",
      "display_name": "Python 3"
    }
  },
  "cells": [
    {
      "cell_type": "markdown",
      "metadata": {
        "id": "view-in-github",
        "colab_type": "text"
      },
      "source": [
        "<a href=\"https://colab.research.google.com/github/elain-b/skill_check_paiza/blob/master/C053_%E3%82%AB%E3%83%BC%E3%83%89%E3%81%AE%E5%90%88%E8%A8%88_%E5%86%8D%E3%83%81%E3%83%A3%E3%83%AC%E3%83%B3%E3%82%B8%E6%8E%A1%E7%82%B9%E7%B5%90%E6%9E%9C.ipynb\" target=\"_parent\"><img src=\"https://colab.research.google.com/assets/colab-badge.svg\" alt=\"Open In Colab\"/></a>"
      ]
    },
    {
      "cell_type": "code",
      "metadata": {
        "id": "QVmMMtkjhPj1",
        "colab_type": "code",
        "colab": {}
      },
      "source": [
        "N = int,input()\n",
        "c = input().split()\n",
        "x = 1\n",
        "if \"x10\" in c:\n",
        "    c.remove(\"x10\")\n",
        "    x = 10\n",
        "p = [int(s) for s in c]\n",
        "if 0 in p:\n",
        "    p[p.index(max(p))] = 0\n",
        "print(sum(p)*x)"
      ],
      "execution_count": 0,
      "outputs": []
    }
  ]
}