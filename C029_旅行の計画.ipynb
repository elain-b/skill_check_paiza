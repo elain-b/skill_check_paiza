{
  "nbformat": 4,
  "nbformat_minor": 0,
  "metadata": {
    "colab": {
      "name": "C029:旅行の計画.ipynb",
      "provenance": [],
      "collapsed_sections": [],
      "authorship_tag": "ABX9TyP8289Lf1sbJR5i7jXW5wZS",
      "include_colab_link": true
    },
    "kernelspec": {
      "name": "python3",
      "display_name": "Python 3"
    }
  },
  "cells": [
    {
      "cell_type": "markdown",
      "metadata": {
        "id": "view-in-github",
        "colab_type": "text"
      },
      "source": [
        "<a href=\"https://colab.research.google.com/github/elain-b/skill_check_paiza/blob/master/C029_%E6%97%85%E8%A1%8C%E3%81%AE%E8%A8%88%E7%94%BB.ipynb\" target=\"_parent\"><img src=\"https://colab.research.google.com/assets/colab-badge.svg\" alt=\"Open In Colab\"/></a>"
      ]
    },
    {
      "cell_type": "code",
      "metadata": {
        "id": "aa3vMgjgvrpq",
        "colab_type": "code",
        "colab": {}
      },
      "source": [
        "m,n=map(int, input().split())\n",
        "a=[list(map(int, input().split())) for _ in range(m)]\n",
        "l=[]\n",
        "for i in range(m-n+1):\n",
        "    b=0\n",
        "    for j in range(n):\n",
        "        b=b+a[i+j][1]\n",
        "    l.append(b/n)\n",
        "c=l.index(min(l))\n",
        "print(a[c][0],a[c+n-1][0])"
      ],
      "execution_count": null,
      "outputs": []
    }
  ]
}