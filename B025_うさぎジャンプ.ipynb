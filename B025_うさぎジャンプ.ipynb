{
  "nbformat": 4,
  "nbformat_minor": 0,
  "metadata": {
    "colab": {
      "name": "B025:うさぎジャンプ.ipynb",
      "provenance": [],
      "authorship_tag": "ABX9TyOIxUWQRrzBSr1rGQ5RAVOl",
      "include_colab_link": true
    },
    "kernelspec": {
      "name": "python3",
      "display_name": "Python 3"
    }
  },
  "cells": [
    {
      "cell_type": "markdown",
      "metadata": {
        "id": "view-in-github",
        "colab_type": "text"
      },
      "source": [
        "<a href=\"https://colab.research.google.com/github/elain-b/skill_check_paiza/blob/master/B025_%E3%81%86%E3%81%95%E3%81%8E%E3%82%B8%E3%83%A3%E3%83%B3%E3%83%97.ipynb\" target=\"_parent\"><img src=\"https://colab.research.google.com/assets/colab-badge.svg\" alt=\"Open In Colab\"/></a>"
      ]
    },
    {
      "cell_type": "code",
      "metadata": {
        "id": "Sx851bolBwu6",
        "colab_type": "code",
        "colab": {}
      },
      "source": [
        "n,m,k=map(int,input().split())\n",
        "s=[int(input()) for i in range(m)]\n",
        "sigemi=[0 for i in range(n)]\n",
        "for i in s:\n",
        "    sigemi[i-1]=i\n",
        "for i in range(k):\n",
        "    for j in range(m):\n",
        "        no_sigemi=s[j]%n\n",
        "        while not sigemi[no_sigemi]==0:\n",
        "            no_sigemi=(no_sigemi+1)%n\n",
        "        sigemi[no_sigemi]=sigemi[s[j]-1]\n",
        "        sigemi[s[j]-1]=0\n",
        "        s[j]=(no_sigemi)+1\n",
        "for i in s:\n",
        "    print(i)"
      ],
      "execution_count": null,
      "outputs": []
    }
  ]
}