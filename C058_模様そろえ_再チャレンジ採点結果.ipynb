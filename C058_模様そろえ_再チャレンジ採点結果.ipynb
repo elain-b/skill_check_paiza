{
  "nbformat": 4,
  "nbformat_minor": 0,
  "metadata": {
    "colab": {
      "name": "C058:模様そろえ 再チャレンジ採点結果.ipynb",
      "provenance": [],
      "collapsed_sections": [],
      "authorship_tag": "ABX9TyOdSFh33x+Py7ArbWqmFI6y",
      "include_colab_link": true
    },
    "kernelspec": {
      "name": "python3",
      "display_name": "Python 3"
    }
  },
  "cells": [
    {
      "cell_type": "markdown",
      "metadata": {
        "id": "view-in-github",
        "colab_type": "text"
      },
      "source": [
        "<a href=\"https://colab.research.google.com/github/elain-b/skill_check_paiza/blob/master/C058_%E6%A8%A1%E6%A7%98%E3%81%9D%E3%82%8D%E3%81%88_%E5%86%8D%E3%83%81%E3%83%A3%E3%83%AC%E3%83%B3%E3%82%B8%E6%8E%A1%E7%82%B9%E7%B5%90%E6%9E%9C.ipynb\" target=\"_parent\"><img src=\"https://colab.research.google.com/assets/colab-badge.svg\" alt=\"Open In Colab\"/></a>"
      ]
    },
    {
      "cell_type": "code",
      "metadata": {
        "id": "95nPRbJCvoLj",
        "colab_type": "code",
        "colab": {}
      },
      "source": [
        "N, t, s = map(str,input().split())\n",
        "if t == s:\n",
        "    print('0')\n",
        "elif t != s:\n",
        "    t = t[::-1]\n",
        "    print(t.find(s[0]) + 1)"
      ],
      "execution_count": 0,
      "outputs": []
    },
    {
      "cell_type": "code",
      "metadata": {
        "id": "oZCbaxp62JEg",
        "colab_type": "code",
        "colab": {}
      },
      "source": [
        "N, t, s = map(str,input().split())\n",
        "\n",
        "flag = 0\n",
        "for i in range(int(N)):\n",
        "    if t != s:\n",
        "        t = t[-1] + t[0:int(N)-1]\n",
        "        flag += 1\n",
        "    else:\n",
        "        print(flag)\n",
        "        break"
      ],
      "execution_count": 0,
      "outputs": []
    }
  ]
}