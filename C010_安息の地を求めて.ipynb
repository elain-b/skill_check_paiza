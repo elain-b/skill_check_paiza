{
  "nbformat": 4,
  "nbformat_minor": 0,
  "metadata": {
    "colab": {
      "name": "C010:安息の地を求めて.ipynb",
      "provenance": [],
      "collapsed_sections": [],
      "authorship_tag": "ABX9TyNVkHTl4YIYD4rjKVW5FAVO",
      "include_colab_link": true
    },
    "kernelspec": {
      "name": "python3",
      "display_name": "Python 3"
    }
  },
  "cells": [
    {
      "cell_type": "markdown",
      "metadata": {
        "id": "view-in-github",
        "colab_type": "text"
      },
      "source": [
        "<a href=\"https://colab.research.google.com/github/elain-b/skill_check_paiza/blob/master/C010_%E5%AE%89%E6%81%AF%E3%81%AE%E5%9C%B0%E3%82%92%E6%B1%82%E3%82%81%E3%81%A6.ipynb\" target=\"_parent\"><img src=\"https://colab.research.google.com/assets/colab-badge.svg\" alt=\"Open In Colab\"/></a>"
      ]
    },
    {
      "cell_type": "code",
      "metadata": {
        "id": "FezcTKRFNdsB",
        "colab_type": "code",
        "colab": {}
      },
      "source": [
        "a,b,r=map(int, input().split())\n",
        "n=int(input())\n",
        "for i in range(n):\n",
        "    x,y=map(int, input().split())\n",
        "    if r**2 <=(x-a)**2+(y-b)**2:\n",
        "        print('silent')\n",
        "    else:\n",
        "        print('noisy')"
      ],
      "execution_count": null,
      "outputs": []
    }
  ]
}