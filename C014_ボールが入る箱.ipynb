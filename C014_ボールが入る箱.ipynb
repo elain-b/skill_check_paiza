{
  "nbformat": 4,
  "nbformat_minor": 0,
  "metadata": {
    "colab": {
      "name": "C014:ボールが入る箱.ipynb",
      "provenance": [],
      "collapsed_sections": [],
      "authorship_tag": "ABX9TyPqdybZUNM5oyNhjb6YbE8a",
      "include_colab_link": true
    },
    "kernelspec": {
      "name": "python3",
      "display_name": "Python 3"
    }
  },
  "cells": [
    {
      "cell_type": "markdown",
      "metadata": {
        "id": "view-in-github",
        "colab_type": "text"
      },
      "source": [
        "<a href=\"https://colab.research.google.com/github/elain-b/skill_check_paiza/blob/master/C014_%E3%83%9C%E3%83%BC%E3%83%AB%E3%81%8C%E5%85%A5%E3%82%8B%E7%AE%B1.ipynb\" target=\"_parent\"><img src=\"https://colab.research.google.com/assets/colab-badge.svg\" alt=\"Open In Colab\"/></a>"
      ]
    },
    {
      "cell_type": "code",
      "metadata": {
        "id": "NYuHUr5u-AyV",
        "colab_type": "code",
        "colab": {}
      },
      "source": [
        "n,r=map(int, input().split())\n",
        "for i in range(n):\n",
        "    h,w,d=map(int, input().split())\n",
        "    if r*2<=h and r*2<=w and r*2<=d:\n",
        "        print(i+1)"
      ],
      "execution_count": null,
      "outputs": []
    }
  ]
}