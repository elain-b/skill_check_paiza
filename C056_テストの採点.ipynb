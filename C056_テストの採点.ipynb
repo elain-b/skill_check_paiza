{
  "nbformat": 4,
  "nbformat_minor": 0,
  "metadata": {
    "colab": {
      "name": "C056:テストの採点.ipynb",
      "provenance": [],
      "include_colab_link": true
    },
    "kernelspec": {
      "name": "python3",
      "display_name": "Python 3"
    }
  },
  "cells": [
    {
      "cell_type": "markdown",
      "metadata": {
        "id": "view-in-github",
        "colab_type": "text"
      },
      "source": [
        "<a href=\"https://colab.research.google.com/github/elain-b/skill_check_paiza/blob/master/C056_%E3%83%86%E3%82%B9%E3%83%88%E3%81%AE%E6%8E%A1%E7%82%B9.ipynb\" target=\"_parent\"><img src=\"https://colab.research.google.com/assets/colab-badge.svg\" alt=\"Open In Colab\"/></a>"
      ]
    },
    {
      "cell_type": "code",
      "metadata": {
        "id": "87T1N5MOwISD",
        "colab_type": "code",
        "colab": {
          "base_uri": "https://localhost:8080/",
          "height": 170
        },
        "outputId": "77bc54af-d220-418d-dd99-d66ff330f595"
      },
      "source": [
        "N, M=map(int,input().split())\n",
        "a = [list(map(int, input().split())) for _ in range(N)]\n",
        "for i in range(N):\n",
        "    if (a[i][0] - 5 * a[i][1]) >= M:\n",
        "        print(a.index(a[i]) + 1)"
      ],
      "execution_count": 1,
      "outputs": [
        {
          "output_type": "stream",
          "text": [
            "5 25\n",
            "80 11\n",
            "20 1\n",
            "50 2\n",
            "70 0\n",
            "25 1\n",
            "1\n",
            "3\n",
            "4\n"
          ],
          "name": "stdout"
        }
      ]
    }
  ]
}