{
  "nbformat": 4,
  "nbformat_minor": 0,
  "metadata": {
    "colab": {
      "name": "C050:オークションの結果.ipynb",
      "provenance": [],
      "collapsed_sections": [],
      "authorship_tag": "ABX9TyPXYvHE/2rgf2Kc9HogUMo8",
      "include_colab_link": true
    },
    "kernelspec": {
      "name": "python3",
      "display_name": "Python 3"
    }
  },
  "cells": [
    {
      "cell_type": "markdown",
      "metadata": {
        "id": "view-in-github",
        "colab_type": "text"
      },
      "source": [
        "<a href=\"https://colab.research.google.com/github/elain-b/skill_check_paiza/blob/master/C050_%E3%82%AA%E3%83%BC%E3%82%AF%E3%82%B7%E3%83%A7%E3%83%B3%E3%81%AE%E7%B5%90%E6%9E%9C.ipynb\" target=\"_parent\"><img src=\"https://colab.research.google.com/assets/colab-badge.svg\" alt=\"Open In Colab\"/></a>"
      ]
    },
    {
      "cell_type": "code",
      "metadata": {
        "id": "GtucKDh1pbXr",
        "colab_type": "code",
        "colab": {}
      },
      "source": [
        "S,a,b=map(int,input().split())\n",
        "while True:\n",
        "    if a>=S+10:\n",
        "        S=S+10\n",
        "    else:\n",
        "        print(\"B\",S)\n",
        "        break\n",
        "    if b>=S+1000:\n",
        "        S=S+1000\n",
        "    else:\n",
        "        print(\"A\",S)\n",
        "        break"
      ],
      "execution_count": null,
      "outputs": []
    }
  ]
}