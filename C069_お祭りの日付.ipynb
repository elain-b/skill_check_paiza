{
  "nbformat": 4,
  "nbformat_minor": 0,
  "metadata": {
    "colab": {
      "name": "C069:お祭りの日付.ipynb",
      "provenance": [],
      "collapsed_sections": [],
      "authorship_tag": "ABX9TyMJHiZlg6a7SNG0ohmW8G3c",
      "include_colab_link": true
    },
    "kernelspec": {
      "name": "python3",
      "display_name": "Python 3"
    }
  },
  "cells": [
    {
      "cell_type": "markdown",
      "metadata": {
        "id": "view-in-github",
        "colab_type": "text"
      },
      "source": [
        "<a href=\"https://colab.research.google.com/github/elain-b/skill_check_paiza/blob/master/C069_%E3%81%8A%E7%A5%AD%E3%82%8A%E3%81%AE%E6%97%A5%E4%BB%98.ipynb\" target=\"_parent\"><img src=\"https://colab.research.google.com/assets/colab-badge.svg\" alt=\"Open In Colab\"/></a>"
      ]
    },
    {
      "cell_type": "code",
      "metadata": {
        "id": "yM6DNtuO2WXD",
        "colab_type": "code",
        "colab": {}
      },
      "source": [
        "y,m,d=map(int,input().split())\n",
        "a,b=map(int,input().split())\n",
        "yy=[]\n",
        "for i in range(1,4):\n",
        "    if (y+i)%4 == 1:\n",
        "        yy.append(y+i)\n",
        "dd=15*(m%2==0)+13*(m%2==1)-d+b\n",
        "for j in range(m,13):\n",
        "    dd=dd+((j+1)%2==1)*13+((j+1)%2==0)*15\n",
        "for j in range(1,a):\n",
        "    dd=dd+((j+1)%2==1)*13+((j+1)%2==0)*15\n",
        "print(dd+(min(yy)-y-1)*(7*13+6*15))"
      ],
      "execution_count": null,
      "outputs": []
    },
    {
      "cell_type": "code",
      "metadata": {
        "id": "SkqaHsi0sHD4",
        "colab_type": "code",
        "colab": {}
      },
      "source": [
        "2001 1 10\n",
        "12 10"
      ],
      "execution_count": null,
      "outputs": []
    },
    {
      "cell_type": "code",
      "metadata": {
        "id": "bBmGtKtGyuIu",
        "colab_type": "code",
        "colab": {}
      },
      "source": [
        "y,m,d=map(int,input().split())\n",
        "a,b=map(int,input().split())\n",
        "yy=[]\n",
        "for i in range(1,5):\n",
        "    if (y+i)%4 == 1:\n",
        "        yy.append(y+i)\n",
        "dd=15*(m%2==0)+13*(m%2==1)-d+b\n",
        "print(dd)\n",
        "for j in range(m,13):\n",
        "    dd=dd+((j+1)%2==1)*13+((j+1)%2==0)*15\n",
        "    print(j+1,dd)\n",
        "for j in range(1,a):\n",
        "    dd=dd+((j+1)%2==1)*13+((j+1)%2==0)*15\n",
        "print(dd+(min(yy)-y-1)*(7*13+6*15))\n",
        "print(7*13+6*15)\n",
        "print(min(yy))"
      ],
      "execution_count": null,
      "outputs": []
    }
  ]
}