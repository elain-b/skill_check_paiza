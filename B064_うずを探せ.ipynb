{
  "nbformat": 4,
  "nbformat_minor": 0,
  "metadata": {
    "colab": {
      "name": "B064:うずを探せ.ipynb",
      "provenance": [],
      "collapsed_sections": [],
      "authorship_tag": "ABX9TyOGeN+Y4uL90wVGsV00tl2D",
      "include_colab_link": true
    },
    "kernelspec": {
      "name": "python3",
      "display_name": "Python 3"
    },
    "language_info": {
      "name": "python"
    }
  },
  "cells": [
    {
      "cell_type": "markdown",
      "metadata": {
        "id": "view-in-github",
        "colab_type": "text"
      },
      "source": [
        "<a href=\"https://colab.research.google.com/github/elain-b/skill_check_paiza/blob/master/B064_%E3%81%86%E3%81%9A%E3%82%92%E6%8E%A2%E3%81%9B.ipynb\" target=\"_parent\"><img src=\"https://colab.research.google.com/assets/colab-badge.svg\" alt=\"Open In Colab\"/></a>"
      ]
    },
    {
      "cell_type": "code",
      "metadata": {
        "id": "ws8Yms2kD2t1"
      },
      "source": [
        "import copy\n",
        "H,W=map(int,input().split())\n",
        "s1=[list(input()) for _ in range(H)]\n",
        "# print(s1)\n",
        "x,y,ans=0,0,0\n",
        "s=copy.deepcopy(s1)\n",
        "for h in range(H):\n",
        "    for w in range(W):\n",
        "        # print(s[h][w])\n",
        "        # s=copy.deepcopy(s1)\n",
        "        # 今いるマス目に書かれた方向\n",
        "        ss=s[h][w]\n",
        "        # 最初のスタート位置を決める処理\n",
        "        # マス目が*だったら次のマス目にスキップする\n",
        "        if ss=='*':\n",
        "            continue\n",
        "        # 今いるマス目を*にしている\n",
        "        s[h][w]='*'\n",
        "        # 表よりはみ出てたら抜ける\n",
        "        if (h==0 and ss=='U') or (w==0 and ss=='L') or (h==H-1 and ss=='D') or (w==W-1 and ss=='R'):\n",
        "            continue\n",
        "        # スタート地点を決めている\n",
        "        x=h\n",
        "        y=w\n",
        "        # 全マス目文回している。渦があるかどうか探している\n",
        "        for i in range(H*W):\n",
        "            # 渦を辿っている\n",
        "            if ss=='U':\n",
        "                x-=1\n",
        "            elif ss=='L':\n",
        "                y-=1\n",
        "            elif ss=='D':\n",
        "                x+=1\n",
        "            elif ss=='R':\n",
        "                y+=1\n",
        "            # １マス先の文字を代入している\n",
        "            ss=s[x][y]\n",
        "            # 辿ったマス目を*にしている\n",
        "            s[x][y]='*'\n",
        "            # 一周したかどうか確認している\n",
        "            if x==h and y==w:\n",
        "                ans+=1\n",
        "                s1=copy.deepcopy(s)\n",
        "                # print(s)\n",
        "                break\n",
        "            # 一周していないけど*があったら抜ける\n",
        "            if ss=='*':\n",
        "                s=copy.deepcopy(s1)\n",
        "                break\n",
        "# print(s)\n",
        "print(ans)"
      ],
      "execution_count": null,
      "outputs": []
    }
  ]
}