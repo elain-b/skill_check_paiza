{
  "nbformat": 4,
  "nbformat_minor": 0,
  "metadata": {
    "colab": {
      "name": "C020:残り物の量.ipynb",
      "provenance": [],
      "collapsed_sections": [],
      "authorship_tag": "ABX9TyPqQzlRtqnOQEv4vVUT3QwA",
      "include_colab_link": true
    },
    "kernelspec": {
      "name": "python3",
      "display_name": "Python 3"
    }
  },
  "cells": [
    {
      "cell_type": "markdown",
      "metadata": {
        "id": "view-in-github",
        "colab_type": "text"
      },
      "source": [
        "<a href=\"https://colab.research.google.com/github/elain-b/skill_check_paiza/blob/master/C020_%E6%AE%8B%E3%82%8A%E7%89%A9%E3%81%AE%E9%87%8F.ipynb\" target=\"_parent\"><img src=\"https://colab.research.google.com/assets/colab-badge.svg\" alt=\"Open In Colab\"/></a>"
      ]
    },
    {
      "cell_type": "code",
      "metadata": {
        "id": "DiflqqeNPDIW",
        "colab_type": "code",
        "colab": {}
      },
      "source": [
        "m,p,q=map(int,input().split())\n",
        "print(round(m*(1-(p*0.01))*(1-(q*0.01)),4))"
      ],
      "execution_count": null,
      "outputs": []
    }
  ]
}