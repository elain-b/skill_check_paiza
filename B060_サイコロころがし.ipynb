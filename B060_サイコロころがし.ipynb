{
  "nbformat": 4,
  "nbformat_minor": 0,
  "metadata": {
    "colab": {
      "name": "B060:サイコロころがし.ipynb",
      "provenance": [],
      "collapsed_sections": [],
      "authorship_tag": "ABX9TyO2v3BO/RXKUR6ZLiINK0Fs",
      "include_colab_link": true
    },
    "kernelspec": {
      "name": "python3",
      "display_name": "Python 3"
    }
  },
  "cells": [
    {
      "cell_type": "markdown",
      "metadata": {
        "id": "view-in-github",
        "colab_type": "text"
      },
      "source": [
        "<a href=\"https://colab.research.google.com/github/elain-b/skill_check_paiza/blob/master/B060_%E3%82%B5%E3%82%A4%E3%82%B3%E3%83%AD%E3%81%93%E3%82%8D%E3%81%8C%E3%81%97.ipynb\" target=\"_parent\"><img src=\"https://colab.research.google.com/assets/colab-badge.svg\" alt=\"Open In Colab\"/></a>"
      ]
    },
    {
      "cell_type": "code",
      "metadata": {
        "id": "LDRVZkq1IIT5"
      },
      "source": [
        "https://3dwarehouse.sketchup.com/model/d3c82cb7f84970cf8b7b86bf9d205c5a/%E3%82%B5%E3%82%A4%E3%82%B3%E3%83%AD?hl=ja"
      ],
      "execution_count": null,
      "outputs": []
    },
    {
      "cell_type": "code",
      "metadata": {
        "id": "WDKtHRILHyAs"
      },
      "source": [
        "N,H,W=list(map(int,input().split()))\n",
        "sy,sx=list(map(int,input().split()))\n",
        "s=input()\n",
        "ij=[[0 for i in range(W)] for j in range(H)]\n",
        "\n",
        "class saikoro:\n",
        "    def __init__(self,sx,sy):\n",
        "        self.sx,self.sy,self.stamp, self.u,self.d,self.l,self.r,self.t=sx,sy,6,2,5,3,4,1\n",
        "    def up(self):\n",
        "        self.sy-=1\n",
        "        tmp=self.t\n",
        "        self.t=self.d\n",
        "        self.d=self.stamp\n",
        "        self.stamp=self.u\n",
        "        self.u=tmp\n",
        "        return self.stamp\n",
        "    def down(self):\n",
        "        self.sy+=1\n",
        "        tmp=self.t\n",
        "        self.t=self.u\n",
        "        self.u=self.stamp\n",
        "        self.stamp=self.d\n",
        "        self.d=tmp\n",
        "        return self.stamp\n",
        "    def left(self):\n",
        "        self.sx-=1\n",
        "        tmp=self.t\n",
        "        self.t=self.r\n",
        "        self.r=self.stamp\n",
        "        self.stamp=self.l\n",
        "        self.l=tmp\n",
        "        return self.stamp\n",
        "    def right(self):\n",
        "        self.sx+=1\n",
        "        tmp=self.t\n",
        "        self.t=self.l\n",
        "        self.l=self.stamp\n",
        "        self.stamp=self.r\n",
        "        self.r=tmp\n",
        "        return self.stamp\n",
        "\n",
        "saikoro=saikoro(sx,sy)\n",
        "ij[sy-1][sx-1]=saikoro.stamp\n",
        "for i in s:\n",
        "    if i=='U':\n",
        "        ij[saikoro.sy-1][saikoro.sx-1]=saikoro.up()\n",
        "    if i=='D':\n",
        "        ij[saikoro.sy-1][saikoro.sx-1]=saikoro.down()\n",
        "    if i=='L':\n",
        "        ij[saikoro.sy-1][saikoro.sx-1]=saikoro.left()\n",
        "    if i=='R':\n",
        "        ij[saikoro.sy-1][saikoro.sx-1]=saikoro.right()\n",
        "    \n",
        "for i in ij:\n",
        "    rs = [str(n) for n in i]\n",
        "    print(\" \".join(rs))"
      ],
      "execution_count": null,
      "outputs": []
    }
  ]
}