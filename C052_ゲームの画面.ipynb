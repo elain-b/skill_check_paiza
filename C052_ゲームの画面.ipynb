{
  "nbformat": 4,
  "nbformat_minor": 0,
  "metadata": {
    "colab": {
      "name": "C052:ゲームの画面.ipynb",
      "provenance": [],
      "collapsed_sections": [],
      "authorship_tag": "ABX9TyMioqwPRXh8bRNc0G8MzWMx",
      "include_colab_link": true
    },
    "kernelspec": {
      "name": "python3",
      "display_name": "Python 3"
    }
  },
  "cells": [
    {
      "cell_type": "markdown",
      "metadata": {
        "id": "view-in-github",
        "colab_type": "text"
      },
      "source": [
        "<a href=\"https://colab.research.google.com/github/elain-b/skill_check_paiza/blob/master/C052_%E3%82%B2%E3%83%BC%E3%83%A0%E3%81%AE%E7%94%BB%E9%9D%A2.ipynb\" target=\"_parent\"><img src=\"https://colab.research.google.com/assets/colab-badge.svg\" alt=\"Open In Colab\"/></a>"
      ]
    },
    {
      "cell_type": "code",
      "metadata": {
        "id": "v0spzAyFWF2n",
        "colab_type": "code",
        "colab": {}
      },
      "source": [
        "h,w=map(int, input().split())\n",
        "dy,dx=map(int, input().split())\n",
        "print((abs(dy)*w) + (abs(dx)*h) - (abs(dy)*abs(dx)))"
      ],
      "execution_count": null,
      "outputs": []
    }
  ]
}