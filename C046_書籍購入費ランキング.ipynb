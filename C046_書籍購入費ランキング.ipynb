{
  "nbformat": 4,
  "nbformat_minor": 0,
  "metadata": {
    "colab": {
      "name": "C046:書籍購入費ランキング.ipynb",
      "provenance": [],
      "collapsed_sections": [],
      "authorship_tag": "ABX9TyOuUeRuFvQDIDpdyf5UGlOO",
      "include_colab_link": true
    },
    "kernelspec": {
      "name": "python3",
      "display_name": "Python 3"
    }
  },
  "cells": [
    {
      "cell_type": "markdown",
      "metadata": {
        "id": "view-in-github",
        "colab_type": "text"
      },
      "source": [
        "<a href=\"https://colab.research.google.com/github/elain-b/skill_check_paiza/blob/master/C046_%E6%9B%B8%E7%B1%8D%E8%B3%BC%E5%85%A5%E8%B2%BB%E3%83%A9%E3%83%B3%E3%82%AD%E3%83%B3%E3%82%B0.ipynb\" target=\"_parent\"><img src=\"https://colab.research.google.com/assets/colab-badge.svg\" alt=\"Open In Colab\"/></a>"
      ]
    },
    {
      "cell_type": "code",
      "metadata": {
        "id": "7d68kGmKc9kp",
        "colab_type": "code",
        "colab": {}
      },
      "source": [
        "n=int(input())\n",
        "s = input().split()\n",
        "o={}\n",
        "m=int(input())\n",
        "for i in range(n):\n",
        "    o[s[i]] = 0\n",
        "for i in range(m):\n",
        "    k,v = input().split()\n",
        "    o[k] = o[k]+int(v)\n",
        "dec=sorted(o.items(), key=lambda x:x[1],reverse=True)\n",
        "for i in range(n):\n",
        "    print(dec[i][0])"
      ],
      "execution_count": null,
      "outputs": []
    }
  ]
}