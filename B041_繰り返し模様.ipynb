{
  "nbformat": 4,
  "nbformat_minor": 0,
  "metadata": {
    "colab": {
      "name": "B041:繰り返し模様.ipynb",
      "provenance": [],
      "authorship_tag": "ABX9TyOCQG7+OO8LB6w+Dyw27Y6h",
      "include_colab_link": true
    },
    "kernelspec": {
      "name": "python3",
      "display_name": "Python 3"
    }
  },
  "cells": [
    {
      "cell_type": "markdown",
      "metadata": {
        "id": "view-in-github",
        "colab_type": "text"
      },
      "source": [
        "<a href=\"https://colab.research.google.com/github/elain-b/skill_check_paiza/blob/master/B041_%E7%B9%B0%E3%82%8A%E8%BF%94%E3%81%97%E6%A8%A1%E6%A7%98.ipynb\" target=\"_parent\"><img src=\"https://colab.research.google.com/assets/colab-badge.svg\" alt=\"Open In Colab\"/></a>"
      ]
    },
    {
      "cell_type": "code",
      "metadata": {
        "id": "mODEFK22rNF8",
        "colab_type": "code",
        "colab": {}
      },
      "source": [
        "K=int(input())\n",
        "N=int(input())\n",
        "s=[list(input()) for i in range(N)]\n",
        "for m in range(K):\n",
        "    s1=[]\n",
        "    for i in range(N):\n",
        "        for j in range(N):\n",
        "            if s[i][j]=='.':\n",
        "                if j==0:\n",
        "                    for k in range(N):\n",
        "                        s1.append(['.']*N)\n",
        "                elif j>0:\n",
        "                    for k in range(N):\n",
        "                        s1[i*N+k][len(s1[i*N+k]):len(s1[i*N+k])]=['.']*N\n",
        "            else:\n",
        "                if j==0:\n",
        "                    for k in range(N):\n",
        "                        s1.append(s[k][:])\n",
        "                elif j>0:\n",
        "                    for k in range(N):\n",
        "                        s1[i*N+k][len(s1[i*N+k]):len(s1[i*N+k])]=s[k]\n",
        "    N*=N\n",
        "    s=s1[:][:]\n",
        "\n",
        "for i in s1:\n",
        "    print(\"\".join(i))"
      ],
      "execution_count": null,
      "outputs": []
    },
    {
      "cell_type": "code",
      "metadata": {
        "id": "5NU2mbIoA18p",
        "colab_type": "code",
        "colab": {}
      },
      "source": [
        "import copy\n",
        "K=int(input())\n",
        "N=int(input())\n",
        "s=[list(input()) for i in range(N)]\n",
        "for m in range(K):\n",
        "    s1=[]\n",
        "    for i in range(N):\n",
        "        for j in range(N):\n",
        "            if s[i][j]=='.':\n",
        "                if j==0:\n",
        "                    for k in range(N):\n",
        "                        s1.append(copy.copy(list('.')*N))\n",
        "                elif j>0:\n",
        "                    for k in range(N):\n",
        "                        s1[i*N+k][len(s1[i*N+k]):len(s1[i*N+k])]=['.']*N\n",
        "            else:\n",
        "                if j==0:\n",
        "                    for k in range(N):\n",
        "                        s1.append(copy.copy(s[k]))\n",
        "                elif j>0:\n",
        "                    for k in range(N):\n",
        "                        s1[i*N+k][len(s1[i*N+k]):len(s1[i*N+k])]=s[k]\n",
        "    N*=N\n",
        "    s=copy.deepcopy(s1)\n",
        "\n",
        "for i in s1:\n",
        "    print(\"\".join(i))"
      ],
      "execution_count": null,
      "outputs": []
    }
  ]
}