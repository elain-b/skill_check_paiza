{
  "nbformat": 4,
  "nbformat_minor": 0,
  "metadata": {
    "colab": {
      "name": "C071:直角三角形.ipynb",
      "provenance": [],
      "collapsed_sections": [],
      "authorship_tag": "ABX9TyMhyLJdzlWvc+JKzb8HeLTW",
      "include_colab_link": true
    },
    "kernelspec": {
      "name": "python3",
      "display_name": "Python 3"
    }
  },
  "cells": [
    {
      "cell_type": "markdown",
      "metadata": {
        "id": "view-in-github",
        "colab_type": "text"
      },
      "source": [
        "<a href=\"https://colab.research.google.com/github/elain-b/skill_check_paiza/blob/master/C071_%E7%9B%B4%E8%A7%92%E4%B8%89%E8%A7%92%E5%BD%A2.ipynb\" target=\"_parent\"><img src=\"https://colab.research.google.com/assets/colab-badge.svg\" alt=\"Open In Colab\"/></a>"
      ]
    },
    {
      "cell_type": "code",
      "metadata": {
        "id": "MUQ9HvXCg_TR",
        "colab_type": "code",
        "colab": {}
      },
      "source": [
        "N, M= map(int,input().split())\n",
        "cnt=0\n",
        "for n in range(1,N):\n",
        "    for m in range(1,M):\n",
        "        c = (n**2 + m**2) ** 0.5\n",
        "        if int(c) == c:\n",
        "            cnt += 1\n",
        "print(cnt)"
      ],
      "execution_count": 0,
      "outputs": []
    }
  ]
}