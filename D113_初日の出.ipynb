{
  "nbformat": 4,
  "nbformat_minor": 0,
  "metadata": {
    "colab": {
      "name": "D113:初日の出.ipynb",
      "provenance": [],
      "collapsed_sections": [],
      "authorship_tag": "ABX9TyMk1mcaJP/5N+ZDy67dL01y",
      "include_colab_link": true
    },
    "kernelspec": {
      "name": "python3",
      "display_name": "Python 3"
    }
  },
  "cells": [
    {
      "cell_type": "markdown",
      "metadata": {
        "id": "view-in-github",
        "colab_type": "text"
      },
      "source": [
        "<a href=\"https://colab.research.google.com/github/elain-b/skill_check_paiza/blob/master/D113_%E5%88%9D%E6%97%A5%E3%81%AE%E5%87%BA.ipynb\" target=\"_parent\"><img src=\"https://colab.research.google.com/assets/colab-badge.svg\" alt=\"Open In Colab\"/></a>"
      ]
    },
    {
      "cell_type": "code",
      "metadata": {
        "id": "zOQEXmUGuftR",
        "colab_type": "code",
        "colab": {}
      },
      "source": [
        "a = input().split(':')\n",
        "print(str((int(a[0]) - 8 + 24) % 24) + \":\" + a[1])"
      ],
      "execution_count": 0,
      "outputs": []
    }
  ]
}