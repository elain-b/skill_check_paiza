{
  "nbformat": 4,
  "nbformat_minor": 0,
  "metadata": {
    "colab": {
      "name": "B048:理想のビンゴ.ipynb",
      "provenance": [],
      "authorship_tag": "ABX9TyPWFp39202D6j7lLXtnDPP0",
      "include_colab_link": true
    },
    "kernelspec": {
      "name": "python3",
      "display_name": "Python 3"
    },
    "language_info": {
      "name": "python"
    }
  },
  "cells": [
    {
      "cell_type": "markdown",
      "metadata": {
        "id": "view-in-github",
        "colab_type": "text"
      },
      "source": [
        "<a href=\"https://colab.research.google.com/github/elain-b/skill_check_paiza/blob/master/B048_%E7%90%86%E6%83%B3%E3%81%AE%E3%83%93%E3%83%B3%E3%82%B4.ipynb\" target=\"_parent\"><img src=\"https://colab.research.google.com/assets/colab-badge.svg\" alt=\"Open In Colab\"/></a>"
      ]
    },
    {
      "cell_type": "code",
      "metadata": {
        "id": "4kzXAFJzeJNB"
      },
      "source": [
        "N,M=map(int,input().split())\n",
        "B,cnt=[],0\n",
        "for i in range(N):\n",
        "    b=list(map(int, input().split()))\n",
        "    B.append(b)\n",
        "for i in range(M-1):\n",
        "    a=int(input())\n",
        "    for j in range(N):\n",
        "        for k in range(N):\n",
        "            if a==B[j][k]:\n",
        "                B[j][k]=0\n",
        "for i in range(N):\n",
        "    if B[i].count(0)==N:\n",
        "        cnt+=1\n",
        "L=[]\n",
        "for i in range(N):\n",
        "    M=[]\n",
        "    for j in range(N):\n",
        "        M.append(B[j][i])\n",
        "    L.append(M)\n",
        "    if M.count(0)==N:\n",
        "        cnt+=1\n",
        "I=[]\n",
        "O=[]\n",
        "for i in range(N):\n",
        "    I.append(B[i][i])\n",
        "O.append(I)\n",
        "I=[]\n",
        "for i in range(1,N+1):\n",
        "    I.append(B[-i][i-1])\n",
        "O.append(I)\n",
        "for i in O:\n",
        "    if i.count(0)==N:\n",
        "        cnt+=1\n",
        "E=[]\n",
        "for i in range(N):\n",
        "    if B[i].count(0)==N-1:\n",
        "        for j in range(N):\n",
        "            if not B[i][j]==0:\n",
        "                E.append(B[i][j])\n",
        "for i in range(N):\n",
        "    if L[i].count(0)==N-1:\n",
        "        for j in range(N):\n",
        "            if not L[i][j]==0:\n",
        "                E.append(B[i][j])\n",
        "for i in range(2):\n",
        "    if O[i].count(0)==N-1:\n",
        "        for j in range(N):\n",
        "            if not O[i][j]==0:\n",
        "                E.append(O[i][j])\n",
        "Q=[]\n",
        "for i in range(len(E)):\n",
        "    Q.append(E.count(E[i]))\n",
        "cnt+=max(Q)\n",
        "print(cnt)"
      ],
      "execution_count": null,
      "outputs": []
    }
  ]
}