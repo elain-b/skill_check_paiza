{
  "nbformat": 4,
  "nbformat_minor": 0,
  "metadata": {
    "colab": {
      "name": "C048:タダ飲みコーヒー.ipynb",
      "provenance": [],
      "collapsed_sections": [],
      "authorship_tag": "ABX9TyOd0z/olvQIKsaIqlT0ZUTK",
      "include_colab_link": true
    },
    "kernelspec": {
      "name": "python3",
      "display_name": "Python 3"
    }
  },
  "cells": [
    {
      "cell_type": "markdown",
      "metadata": {
        "id": "view-in-github",
        "colab_type": "text"
      },
      "source": [
        "<a href=\"https://colab.research.google.com/github/elain-b/skill_check_paiza/blob/master/C048_%E3%82%BF%E3%83%80%E9%A3%B2%E3%81%BF%E3%82%B3%E3%83%BC%E3%83%92%E3%83%BC.ipynb\" target=\"_parent\"><img src=\"https://colab.research.google.com/assets/colab-badge.svg\" alt=\"Open In Colab\"/></a>"
      ]
    },
    {
      "cell_type": "code",
      "metadata": {
        "id": "IVCv_NJaeUK1",
        "colab_type": "code",
        "colab": {}
      },
      "source": [
        "X, P = map(int,input().split())\n",
        "j = X\n",
        "while X > 1:\n",
        "    X = int(X - (X * P / 100))\n",
        "    j += X\n",
        "print(int(j))"
      ],
      "execution_count": 0,
      "outputs": []
    }
  ]
}