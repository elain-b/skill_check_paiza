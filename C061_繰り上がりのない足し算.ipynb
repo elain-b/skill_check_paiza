{
  "nbformat": 4,
  "nbformat_minor": 0,
  "metadata": {
    "colab": {
      "name": "C061:繰り上がりのない足し算.ipynb",
      "provenance": [],
      "collapsed_sections": [],
      "authorship_tag": "ABX9TyO30vFD+KNCRAiSjvHAwpZZ",
      "include_colab_link": true
    },
    "kernelspec": {
      "name": "python3",
      "display_name": "Python 3"
    }
  },
  "cells": [
    {
      "cell_type": "markdown",
      "metadata": {
        "id": "view-in-github",
        "colab_type": "text"
      },
      "source": [
        "<a href=\"https://colab.research.google.com/github/elain-b/skill_check_paiza/blob/master/C061_%E7%B9%B0%E3%82%8A%E4%B8%8A%E3%81%8C%E3%82%8A%E3%81%AE%E3%81%AA%E3%81%84%E8%B6%B3%E3%81%97%E7%AE%97.ipynb\" target=\"_parent\"><img src=\"https://colab.research.google.com/assets/colab-badge.svg\" alt=\"Open In Colab\"/></a>"
      ]
    },
    {
      "cell_type": "code",
      "metadata": {
        "id": "jAkB0PgPsUh3",
        "colab_type": "code",
        "colab": {}
      },
      "source": [
        "A, B = map(str,input().split())\n",
        "s = \"\"\n",
        "if max(len(A), len(B)) == 3:\n",
        "    s += str((int(A) // 100 + int(B) // 100) % 10)\n",
        "if max(len(A), len(B)) >= 2:\n",
        "    s += str((int(A) // 10 + int(B) // 10) % 10)\n",
        "s += str((int(A) + int(B)) % 10)\n",
        "print(s)"
      ],
      "execution_count": 0,
      "outputs": []
    }
  ]
}