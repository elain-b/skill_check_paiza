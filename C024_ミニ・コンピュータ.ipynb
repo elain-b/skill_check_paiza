{
  "nbformat": 4,
  "nbformat_minor": 0,
  "metadata": {
    "colab": {
      "name": "C024:ミニ・コンピュータ.ipynb",
      "provenance": [],
      "collapsed_sections": [],
      "include_colab_link": true
    },
    "kernelspec": {
      "name": "python3",
      "display_name": "Python 3"
    }
  },
  "cells": [
    {
      "cell_type": "markdown",
      "metadata": {
        "id": "view-in-github",
        "colab_type": "text"
      },
      "source": [
        "<a href=\"https://colab.research.google.com/github/elain-b/skill_check_paiza/blob/master/C024_%E3%83%9F%E3%83%8B%E3%83%BB%E3%82%B3%E3%83%B3%E3%83%94%E3%83%A5%E3%83%BC%E3%82%BF.ipynb\" target=\"_parent\"><img src=\"https://colab.research.google.com/assets/colab-badge.svg\" alt=\"Open In Colab\"/></a>"
      ]
    },
    {
      "cell_type": "code",
      "metadata": {
        "id": "bgrSZr1CAVHu",
        "colab_type": "code",
        "colab": {}
      },
      "source": [
        "n = int(input())\n",
        "f = [input().split() for _ in range(n)]\n",
        "v = [0,0]\n",
        "for i in range(n):\n",
        "    if f[i][0] == 'SET':\n",
        "        v[int(f[i][1]) - 1] = int(f[i][2])\n",
        "    elif f[i][0] == 'ADD':\n",
        "        v[1] = v[0] + int(f[i][1])\n",
        "    else:\n",
        "        v[1] = v[0] - int(f[i][1])\n",
        "print(v[0],v[1])"
      ],
      "execution_count": 0,
      "outputs": []
    }
  ]
}