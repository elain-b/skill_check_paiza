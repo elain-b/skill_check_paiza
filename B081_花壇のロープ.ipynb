{
  "nbformat": 4,
  "nbformat_minor": 0,
  "metadata": {
    "colab": {
      "name": "B081:花壇のロープ.ipynb",
      "provenance": [],
      "authorship_tag": "ABX9TyMbLMOuyjN6/72iIPnKmddZ",
      "include_colab_link": true
    },
    "kernelspec": {
      "name": "python3",
      "display_name": "Python 3"
    }
  },
  "cells": [
    {
      "cell_type": "markdown",
      "metadata": {
        "id": "view-in-github",
        "colab_type": "text"
      },
      "source": [
        "<a href=\"https://colab.research.google.com/github/elain-b/skill_check_paiza/blob/master/B081_%E8%8A%B1%E5%A3%87%E3%81%AE%E3%83%AD%E3%83%BC%E3%83%97.ipynb\" target=\"_parent\"><img src=\"https://colab.research.google.com/assets/colab-badge.svg\" alt=\"Open In Colab\"/></a>"
      ]
    },
    {
      "cell_type": "code",
      "metadata": {
        "id": "YHfy-JcJXWcc",
        "colab_type": "code",
        "colab": {}
      },
      "source": [
        "h,w=map(int,input().split())\n",
        "s=[input() for i in range(h)]\n",
        "ans=0\n",
        "same=0\n",
        "for i in range(h):\n",
        "    ans=ans+s[i].count('#')*4\n",
        "for i in range(h):\n",
        "    for j in range(w-1):\n",
        "        if s[i][j] == '#' and s[i][j+1]==\"#\":\n",
        "            same+=2\n",
        "for j in range(w):\n",
        "    for i in range(h-1):\n",
        "        if s[i][j] == '#' and s[i+1][j]==\"#\":\n",
        "            same+=2\n",
        "print(ans-same)"
      ],
      "execution_count": null,
      "outputs": []
    }
  ]
}