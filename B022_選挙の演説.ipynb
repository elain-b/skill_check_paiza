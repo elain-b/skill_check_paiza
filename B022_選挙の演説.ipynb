{
  "nbformat": 4,
  "nbformat_minor": 0,
  "metadata": {
    "colab": {
      "name": "B022:選挙の演説.ipynb",
      "provenance": [],
      "include_colab_link": true
    },
    "kernelspec": {
      "name": "python3",
      "display_name": "Python 3"
    }
  },
  "cells": [
    {
      "cell_type": "markdown",
      "metadata": {
        "id": "view-in-github",
        "colab_type": "text"
      },
      "source": [
        "<a href=\"https://colab.research.google.com/github/elain-b/skill_check_paiza/blob/master/B022_%E9%81%B8%E6%8C%99%E3%81%AE%E6%BC%94%E8%AA%AC.ipynb\" target=\"_parent\"><img src=\"https://colab.research.google.com/assets/colab-badge.svg\" alt=\"Open In Colab\"/></a>"
      ]
    },
    {
      "cell_type": "code",
      "metadata": {
        "id": "Ctf7gEODBFC2",
        "colab_type": "code",
        "outputId": "c237cec2-42dc-4dd4-f059-1dbfcd7b087a",
        "colab": {
          "base_uri": "https://localhost:8080/",
          "height": 119
        }
      },
      "source": [
        "m, n, k=map(int,input().split())\n",
        "s = [int(input()) for i in range(k)]\n",
        "# a=1\n",
        "# print(a)\n",
        "rikkoho = [0]*(m+1)\n",
        "rikkoho[0]=n\n",
        "for a in s:\n",
        "    for i in range(m+1):\n",
        "        if a!=i and rikkoho[i]>0:\n",
        "            # print('-1')\n",
        "            # print(rikkoho)\n",
        "            rikkoho[i]-=1\n",
        "            rikkoho[a]+=1\n",
        "            # print(rikkoho)\n",
        "print(rikkoho.index(max(rikkoho)))"
      ],
      "execution_count": 0,
      "outputs": [
        {
          "output_type": "stream",
          "text": [
            "3 3 4\n",
            "1\n",
            "1\n",
            "2\n",
            "3\n",
            "3\n"
          ],
          "name": "stdout"
        }
      ]
    },
    {
      "cell_type": "markdown",
      "metadata": {
        "id": "pC6WyekSnR5P",
        "colab_type": "text"
      },
      "source": [
        "https://paiza.jp/challenges/82/show"
      ]
    }
  ]
}