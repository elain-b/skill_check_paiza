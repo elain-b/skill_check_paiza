{
  "nbformat": 4,
  "nbformat_minor": 0,
  "metadata": {
    "colab": {
      "name": "C084:【キャンペーン問題】枠で囲む.ipynb",
      "provenance": [],
      "authorship_tag": "ABX9TyOFx05brCkGPhuf8wIv/xxe",
      "include_colab_link": true
    },
    "kernelspec": {
      "name": "python3",
      "display_name": "Python 3"
    },
    "language_info": {
      "name": "python"
    }
  },
  "cells": [
    {
      "cell_type": "markdown",
      "metadata": {
        "id": "view-in-github",
        "colab_type": "text"
      },
      "source": [
        "<a href=\"https://colab.research.google.com/github/elain-b/skill_check_paiza/blob/master/C084_%E3%80%90%E3%82%AD%E3%83%A3%E3%83%B3%E3%83%9A%E3%83%BC%E3%83%B3%E5%95%8F%E9%A1%8C%E3%80%91%E6%9E%A0%E3%81%A7%E5%9B%B2%E3%82%80.ipynb\" target=\"_parent\"><img src=\"https://colab.research.google.com/assets/colab-badge.svg\" alt=\"Open In Colab\"/></a>"
      ]
    },
    {
      "cell_type": "code",
      "metadata": {
        "id": "DXWszCshZ9GR"
      },
      "source": [
        "S=list(input())\n",
        "S.insert(0,'+')\n",
        "S.append('+')\n",
        "a=['+' for i in range(len(S))]\n",
        "print(''.join(a))\n",
        "print(''.join(S))\n",
        "print(''.join(a))"
      ],
      "execution_count": null,
      "outputs": []
    }
  ]
}