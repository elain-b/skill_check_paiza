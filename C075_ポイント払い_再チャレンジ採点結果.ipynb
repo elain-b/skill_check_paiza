{
  "nbformat": 4,
  "nbformat_minor": 0,
  "metadata": {
    "colab": {
      "name": "C075:ポイント払い 再チャレンジ採点結果.ipynb",
      "provenance": [],
      "collapsed_sections": [],
      "authorship_tag": "ABX9TyNrH/GLUKUthdwg5kmHCUy1",
      "include_colab_link": true
    },
    "kernelspec": {
      "name": "python3",
      "display_name": "Python 3"
    }
  },
  "cells": [
    {
      "cell_type": "markdown",
      "metadata": {
        "id": "view-in-github",
        "colab_type": "text"
      },
      "source": [
        "<a href=\"https://colab.research.google.com/github/elain-b/skill_check_paiza/blob/master/C075_%E3%83%9D%E3%82%A4%E3%83%B3%E3%83%88%E6%89%95%E3%81%84_%E5%86%8D%E3%83%81%E3%83%A3%E3%83%AC%E3%83%B3%E3%82%B8%E6%8E%A1%E7%82%B9%E7%B5%90%E6%9E%9C.ipynb\" target=\"_parent\"><img src=\"https://colab.research.google.com/assets/colab-badge.svg\" alt=\"Open In Colab\"/></a>"
      ]
    },
    {
      "cell_type": "code",
      "metadata": {
        "id": "3a-q-P94WAeb",
        "colab_type": "code",
        "colab": {}
      },
      "source": [
        "import sys\n",
        "N, M= map(int,input().split())\n",
        "f=[int(line) for line in sys.stdin]\n",
        "p=0\n",
        "m=N\n",
        "for i in range(M):\n",
        "    if f[i] > p:\n",
        "        p = int(p + f[i] * 0.1)\n",
        "        m = m - f[i]\n",
        "        print(m, p)\n",
        "    elif f[i] <= p:\n",
        "        p = p - f[i]\n",
        "        print(m, p)"
      ],
      "execution_count": 0,
      "outputs": []
    }
  ]
}