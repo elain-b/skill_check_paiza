{
  "nbformat": 4,
  "nbformat_minor": 0,
  "metadata": {
    "colab": {
      "name": "B011:名刺バインダー管理.ipynb",
      "provenance": [],
      "collapsed_sections": [],
      "authorship_tag": "ABX9TyMyESy4hOEyu/OAHHGDdHgY",
      "include_colab_link": true
    },
    "kernelspec": {
      "name": "python3",
      "display_name": "Python 3"
    }
  },
  "cells": [
    {
      "cell_type": "markdown",
      "metadata": {
        "id": "view-in-github",
        "colab_type": "text"
      },
      "source": [
        "<a href=\"https://colab.research.google.com/github/elain-b/skill_check_paiza/blob/master/B011_%E5%90%8D%E5%88%BA%E3%83%90%E3%82%A4%E3%83%B3%E3%83%80%E3%83%BC%E7%AE%A1%E7%90%86.ipynb\" target=\"_parent\"><img src=\"https://colab.research.google.com/assets/colab-badge.svg\" alt=\"Open In Colab\"/></a>"
      ]
    },
    {
      "cell_type": "code",
      "metadata": {
        "id": "9tPzutEI1ERd"
      },
      "source": [
        "n,m=list(map(int,input().split()))\n",
        "page=(m-1)//(n*2)+1\n",
        "pmax=page*n*2\n",
        "pmin=pmax-(n*2-1)\n",
        "print(pmax+pmin-m)"
      ],
      "execution_count": null,
      "outputs": []
    }
  ]
}