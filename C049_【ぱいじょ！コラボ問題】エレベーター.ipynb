{
  "nbformat": 4,
  "nbformat_minor": 0,
  "metadata": {
    "colab": {
      "name": "C049:【ぱいじょ！コラボ問題】エレベーター.ipynb",
      "provenance": [],
      "collapsed_sections": [],
      "include_colab_link": true
    },
    "kernelspec": {
      "name": "python3",
      "display_name": "Python 3"
    }
  },
  "cells": [
    {
      "cell_type": "markdown",
      "metadata": {
        "id": "view-in-github",
        "colab_type": "text"
      },
      "source": [
        "<a href=\"https://colab.research.google.com/github/elain-b/skill_check_paiza/blob/master/C049_%E3%80%90%E3%81%B1%E3%81%84%E3%81%98%E3%82%87%EF%BC%81%E3%82%B3%E3%83%A9%E3%83%9C%E5%95%8F%E9%A1%8C%E3%80%91%E3%82%A8%E3%83%AC%E3%83%99%E3%83%BC%E3%82%BF%E3%83%BC.ipynb\" target=\"_parent\"><img src=\"https://colab.research.google.com/assets/colab-badge.svg\" alt=\"Open In Colab\"/></a>"
      ]
    },
    {
      "cell_type": "code",
      "metadata": {
        "id": "i5TOdnadJBoP",
        "colab_type": "code",
        "outputId": "f7bfe0c7-bffd-44df-caf5-63a1b3dd7371",
        "colab": {
          "base_uri": "https://localhost:8080/",
          "height": 102
        }
      },
      "source": [
        "N = int(input())\n",
        "f = [int(input()) for _ in range(N)]\n",
        "flour = 1\n",
        "steps = 0\n",
        "for i in range(N):\n",
        "    steps = steps + abs(f[i] - flour)\n",
        "    flour = f[i]\n",
        "print(steps)"
      ],
      "execution_count": 0,
      "outputs": [
        {
          "output_type": "stream",
          "text": [
            "3\n",
            "3\n",
            "1\n",
            "4\n",
            "7\n"
          ],
          "name": "stdout"
        }
      ]
    }
  ]
}