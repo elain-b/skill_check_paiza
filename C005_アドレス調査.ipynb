{
  "nbformat": 4,
  "nbformat_minor": 0,
  "metadata": {
    "colab": {
      "name": "C005:アドレス調査.ipynb",
      "provenance": [],
      "collapsed_sections": [],
      "authorship_tag": "ABX9TyNdE/z/w/z23Oq+ADu+bUVq",
      "include_colab_link": true
    },
    "kernelspec": {
      "name": "python3",
      "display_name": "Python 3"
    }
  },
  "cells": [
    {
      "cell_type": "markdown",
      "metadata": {
        "id": "view-in-github",
        "colab_type": "text"
      },
      "source": [
        "<a href=\"https://colab.research.google.com/github/elain-b/skill_check_paiza/blob/master/C005_%E3%82%A2%E3%83%89%E3%83%AC%E3%82%B9%E8%AA%BF%E6%9F%BB.ipynb\" target=\"_parent\"><img src=\"https://colab.research.google.com/assets/colab-badge.svg\" alt=\"Open In Colab\"/></a>"
      ]
    },
    {
      "cell_type": "code",
      "metadata": {
        "id": "hwZqx_BWnBEx",
        "colab_type": "code",
        "colab": {}
      },
      "source": [
        "n=int(input())\n",
        "a=0\n",
        "for i in range(n):\n",
        "    m=input().split('.')\n",
        "    if '' in m or len(m)!=4:\n",
        "        print('False')\n",
        "        continue\n",
        "    for j in m:\n",
        "        if int(j)>255 or int(j)<0:\n",
        "            # print('False')\n",
        "            a+=1\n",
        "            break\n",
        "    if a>0:\n",
        "        print('False')\n",
        "    else:\n",
        "        print('True')"
      ],
      "execution_count": null,
      "outputs": []
    }
  ]
}