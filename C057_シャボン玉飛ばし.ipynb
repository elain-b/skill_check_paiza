{
  "nbformat": 4,
  "nbformat_minor": 0,
  "metadata": {
    "colab": {
      "name": "C057:シャボン玉飛ばし.ipynb",
      "provenance": [],
      "collapsed_sections": [],
      "authorship_tag": "ABX9TyMmNC5OeWlLtpfJqsuHe8C9",
      "include_colab_link": true
    },
    "kernelspec": {
      "name": "python3",
      "display_name": "Python 3"
    }
  },
  "cells": [
    {
      "cell_type": "markdown",
      "metadata": {
        "id": "view-in-github",
        "colab_type": "text"
      },
      "source": [
        "<a href=\"https://colab.research.google.com/github/elain-b/skill_check_paiza/blob/master/C057_%E3%82%B7%E3%83%A3%E3%83%9C%E3%83%B3%E7%8E%89%E9%A3%9B%E3%81%B0%E3%81%97.ipynb\" target=\"_parent\"><img src=\"https://colab.research.google.com/assets/colab-badge.svg\" alt=\"Open In Colab\"/></a>"
      ]
    },
    {
      "cell_type": "code",
      "metadata": {
        "id": "wk9DGU_9TpEr",
        "colab_type": "code",
        "colab": {}
      },
      "source": [
        "t,x,y=map(int, input().split())\n",
        "h=x\n",
        "for i in range(t):\n",
        "    a,b=map(int, input().split())\n",
        "    x=x+a\n",
        "    y=y+b\n",
        "    if y<=0:\n",
        "        print(h)\n",
        "        exit()\n",
        "    if x>h:\n",
        "        h=x\n",
        "print(h)"
      ],
      "execution_count": null,
      "outputs": []
    }
  ]
}