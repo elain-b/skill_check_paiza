{
  "nbformat": 4,
  "nbformat_minor": 0,
  "metadata": {
    "colab": {
      "name": "C074:【クロニクルコラボ問題】文章サイズ変更.ipynb",
      "provenance": [],
      "collapsed_sections": [],
      "authorship_tag": "ABX9TyM6wK48Q38KgajsnHdsa9aS",
      "include_colab_link": true
    },
    "kernelspec": {
      "name": "python3",
      "display_name": "Python 3"
    }
  },
  "cells": [
    {
      "cell_type": "markdown",
      "metadata": {
        "id": "view-in-github",
        "colab_type": "text"
      },
      "source": [
        "<a href=\"https://colab.research.google.com/github/elain-b/skill_check_paiza/blob/master/C074_%E3%80%90%E3%82%AF%E3%83%AD%E3%83%8B%E3%82%AF%E3%83%AB%E3%82%B3%E3%83%A9%E3%83%9C%E5%95%8F%E9%A1%8C%E3%80%91%E6%96%87%E7%AB%A0%E3%82%B5%E3%82%A4%E3%82%BA%E5%A4%89%E6%9B%B4.ipynb\" target=\"_parent\"><img src=\"https://colab.research.google.com/assets/colab-badge.svg\" alt=\"Open In Colab\"/></a>"
      ]
    },
    {
      "cell_type": "code",
      "metadata": {
        "id": "3_DFa_OnW4CP",
        "colab_type": "code",
        "colab": {}
      },
      "source": [
        "H, W, X = map(int,input().split())\n",
        "a = \"\"\n",
        "for i in range(H):\n",
        "    a += input()\n",
        "for j in range(0, len(a), X):\n",
        "    print(a[j:j+X])"
      ],
      "execution_count": 0,
      "outputs": []
    }
  ]
}