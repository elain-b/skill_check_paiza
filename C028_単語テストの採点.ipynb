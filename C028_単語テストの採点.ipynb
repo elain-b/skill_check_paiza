{
  "nbformat": 4,
  "nbformat_minor": 0,
  "metadata": {
    "colab": {
      "name": "C028:単語テストの採点.ipynb",
      "provenance": [],
      "collapsed_sections": [],
      "authorship_tag": "ABX9TyPKitCz0GBU3Tnt0BSSBJTx",
      "include_colab_link": true
    },
    "kernelspec": {
      "name": "python3",
      "display_name": "Python 3"
    }
  },
  "cells": [
    {
      "cell_type": "markdown",
      "metadata": {
        "id": "view-in-github",
        "colab_type": "text"
      },
      "source": [
        "<a href=\"https://colab.research.google.com/github/elain-b/skill_check_paiza/blob/master/C028_%E5%8D%98%E8%AA%9E%E3%83%86%E3%82%B9%E3%83%88%E3%81%AE%E6%8E%A1%E7%82%B9.ipynb\" target=\"_parent\"><img src=\"https://colab.research.google.com/assets/colab-badge.svg\" alt=\"Open In Colab\"/></a>"
      ]
    },
    {
      "cell_type": "code",
      "metadata": {
        "id": "L0zRY9B34ANJ",
        "colab_type": "code",
        "colab": {}
      },
      "source": [
        "N = int(input())\n",
        "s = 0\n",
        "for i in range(N):\n",
        "    c, k = input().split()\n",
        "    if c == k:\n",
        "        s += 2\n",
        "    elif len(c) == len(k):\n",
        "        ng = 0\n",
        "        for j in range(len(c)):\n",
        "            if c[j] != k[j]:\n",
        "                ng += 1\n",
        "        if ng == 1:\n",
        "            s += 1\n",
        "print(s)"
      ],
      "execution_count": 0,
      "outputs": []
    }
  ]
}