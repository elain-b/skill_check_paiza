{
  "nbformat": 4,
  "nbformat_minor": 0,
  "metadata": {
    "colab": {
      "name": "C073:うさぎとかめ.ipynb",
      "provenance": [],
      "collapsed_sections": [],
      "authorship_tag": "ABX9TyN0QSmhf1X275YigPWX5TYb",
      "include_colab_link": true
    },
    "kernelspec": {
      "name": "python3",
      "display_name": "Python 3"
    }
  },
  "cells": [
    {
      "cell_type": "markdown",
      "metadata": {
        "id": "view-in-github",
        "colab_type": "text"
      },
      "source": [
        "<a href=\"https://colab.research.google.com/github/elain-b/skill_check_paiza/blob/master/C073_%E3%81%86%E3%81%95%E3%81%8E%E3%81%A8%E3%81%8B%E3%82%81.ipynb\" target=\"_parent\"><img src=\"https://colab.research.google.com/assets/colab-badge.svg\" alt=\"Open In Colab\"/></a>"
      ]
    },
    {
      "cell_type": "code",
      "metadata": {
        "id": "_IzbiZsGO2M5",
        "colab_type": "code",
        "colab": {}
      },
      "source": [
        "L=int(input())\n",
        "u,a,b=map(int,input().split())\n",
        "v=int(input())\n",
        "c=(L*u)+(((L//a)-((L%a)==0))*b)\n",
        "d=L*v\n",
        "if c<d:\n",
        "    print('USAGI')\n",
        "elif c>d:\n",
        "    print('KAME')\n",
        "else:\n",
        "    print('DRAW')"
      ],
      "execution_count": null,
      "outputs": []
    }
  ]
}