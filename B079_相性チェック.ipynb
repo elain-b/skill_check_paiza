{
  "nbformat": 4,
  "nbformat_minor": 0,
  "metadata": {
    "colab": {
      "name": "B079:相性チェック.ipynb",
      "provenance": [],
      "authorship_tag": "ABX9TyOuy9LpQcG68F/GRXfRJLA4",
      "include_colab_link": true
    },
    "kernelspec": {
      "name": "python3",
      "display_name": "Python 3"
    }
  },
  "cells": [
    {
      "cell_type": "markdown",
      "metadata": {
        "id": "view-in-github",
        "colab_type": "text"
      },
      "source": [
        "<a href=\"https://colab.research.google.com/github/elain-b/skill_check_paiza/blob/master/B079_%E7%9B%B8%E6%80%A7%E3%83%81%E3%82%A7%E3%83%83%E3%82%AF.ipynb\" target=\"_parent\"><img src=\"https://colab.research.google.com/assets/colab-badge.svg\" alt=\"Open In Colab\"/></a>"
      ]
    },
    {
      "cell_type": "code",
      "metadata": {
        "id": "Mvh8_s19iPpV",
        "colab_type": "code",
        "colab": {}
      },
      "source": [
        "def tasu(o):\n",
        "    j=[]\n",
        "    for i in range(len(o)-1):\n",
        "        g=sum(o[i:i+2])\n",
        "        if g>=101:\n",
        "            j.append(g-101)\n",
        "        else:\n",
        "            j.append(g)\n",
        "    return j\n",
        "def aishou(o):\n",
        "    al='abcdefghijklmnopqrstuvwxyz'\n",
        "    l=[]\n",
        "    for i in o:\n",
        "        l.append(al.find(i)+1)\n",
        "    for j in range(len(o)-1):\n",
        "        l=tasu(l)\n",
        "    return l[0]\n",
        "n,m=input().split()\n",
        "n,m=list(n),list(m)\n",
        "x=list(n+m)\n",
        "y=list(m+n)\n",
        "o=x\n",
        "print(max(aishou(x),aishou(y)))"
      ],
      "execution_count": null,
      "outputs": []
    }
  ]
}