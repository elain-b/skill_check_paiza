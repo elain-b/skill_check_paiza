{
  "nbformat": 4,
  "nbformat_minor": 0,
  "metadata": {
    "colab": {
      "name": "C078:株の売買.ipynb",
      "provenance": [],
      "collapsed_sections": [],
      "authorship_tag": "ABX9TyMP8m2s58TrOdqt74B+4ucI",
      "include_colab_link": true
    },
    "kernelspec": {
      "name": "python3",
      "display_name": "Python 3"
    }
  },
  "cells": [
    {
      "cell_type": "markdown",
      "metadata": {
        "id": "view-in-github",
        "colab_type": "text"
      },
      "source": [
        "<a href=\"https://colab.research.google.com/github/elain-b/skill_check_paiza/blob/master/C078_%E6%A0%AA%E3%81%AE%E5%A3%B2%E8%B2%B7.ipynb\" target=\"_parent\"><img src=\"https://colab.research.google.com/assets/colab-badge.svg\" alt=\"Open In Colab\"/></a>"
      ]
    },
    {
      "cell_type": "code",
      "metadata": {
        "id": "JVu3l-vjoLJi",
        "colab_type": "code",
        "colab": {}
      },
      "source": [
        "n,c1,c2 = map(int, input().split())\n",
        "r=0\n",
        "k=0\n",
        "for i in range(n):\n",
        "    p=int(input())\n",
        "    if c1>=p:\n",
        "        r=r-p\n",
        "        k+=1\n",
        "    elif c2<=p:\n",
        "        r=r+(p*k)\n",
        "        k=0\n",
        "    if i==n-1:\n",
        "        r=r+(p*k)\n",
        "print(r)"
      ],
      "execution_count": null,
      "outputs": []
    }
  ]
}