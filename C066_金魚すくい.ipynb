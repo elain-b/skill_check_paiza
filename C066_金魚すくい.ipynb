{
  "nbformat": 4,
  "nbformat_minor": 0,
  "metadata": {
    "colab": {
      "name": "C066:金魚すくい.ipynb",
      "provenance": [],
      "collapsed_sections": [],
      "authorship_tag": "ABX9TyPZR6cyyTjySUkfOou5H1BX",
      "include_colab_link": true
    },
    "kernelspec": {
      "name": "python3",
      "display_name": "Python 3"
    }
  },
  "cells": [
    {
      "cell_type": "markdown",
      "metadata": {
        "id": "view-in-github",
        "colab_type": "text"
      },
      "source": [
        "<a href=\"https://colab.research.google.com/github/elain-b/skill_check_paiza/blob/master/C066_%E9%87%91%E9%AD%9A%E3%81%99%E3%81%8F%E3%81%84.ipynb\" target=\"_parent\"><img src=\"https://colab.research.google.com/assets/colab-badge.svg\" alt=\"Open In Colab\"/></a>"
      ]
    },
    {
      "cell_type": "code",
      "metadata": {
        "id": "ri3h-xhtdM2c",
        "colab_type": "code",
        "colab": {}
      },
      "source": [
        "M,N,x=map(int,input().split())\n",
        "p=[x]*N\n",
        "idx,get=0,0\n",
        "for i in range(M):\n",
        "    f=int(input())\n",
        "    p[idx]=p[idx]-f\n",
        "    if p[idx]>0:\n",
        "        get=get+1\n",
        "    else:\n",
        "        idx=idx+(p[idx]<=0)*(idx<N-1)\n",
        "        p[idx]=p[idx]-f\n",
        "        if p[idx]>0:\n",
        "            get=get+1\n",
        "print(get)"
      ],
      "execution_count": null,
      "outputs": []
    }
  ]
}