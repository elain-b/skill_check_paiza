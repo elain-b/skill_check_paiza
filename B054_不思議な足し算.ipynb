{
  "nbformat": 4,
  "nbformat_minor": 0,
  "metadata": {
    "colab": {
      "name": "B054:不思議な足し算.ipynb",
      "provenance": [],
      "authorship_tag": "ABX9TyOl88quRc84aMe5EgofU7Fd",
      "include_colab_link": true
    },
    "kernelspec": {
      "name": "python3",
      "display_name": "Python 3"
    },
    "language_info": {
      "name": "python"
    }
  },
  "cells": [
    {
      "cell_type": "markdown",
      "metadata": {
        "id": "view-in-github",
        "colab_type": "text"
      },
      "source": [
        "<a href=\"https://colab.research.google.com/github/elain-b/skill_check_paiza/blob/master/B054_%E4%B8%8D%E6%80%9D%E8%AD%B0%E3%81%AA%E8%B6%B3%E3%81%97%E7%AE%97.ipynb\" target=\"_parent\"><img src=\"https://colab.research.google.com/assets/colab-badge.svg\" alt=\"Open In Colab\"/></a>"
      ]
    },
    {
      "cell_type": "code",
      "metadata": {
        "id": "qQc4BIO4SWIr"
      },
      "source": [
        "s1,s2=input().split()\n",
        "s1,s2=list(s1),list(s2)\n",
        "# print(s1,s2)\n",
        "for i in range(len(s1)):\n",
        "    if s1[i]==\"A\":\n",
        "        s1[i]='0'\n",
        "    elif s1[i]==\"B\":\n",
        "        s1[i]='1'\n",
        "    elif s1[i]==\"C\":\n",
        "        s1[i]=\"2\"\n",
        "    elif s1[i]==\"D\":\n",
        "        s1[i]=\"3\"\n",
        "    else:\n",
        "        s1[i]=\"4\"\n",
        "# print(s1)\n",
        "for i in range(len(s2)):\n",
        "    if s2[i]==\"A\":\n",
        "        s2[i]='0'\n",
        "    elif s2[i]==\"B\":\n",
        "        s2[i]=str(1)\n",
        "    elif s2[i]==\"C\":\n",
        "        s2[i]=\"2\"\n",
        "    elif s2[i]==\"D\":\n",
        "        s2[i]=\"3\"\n",
        "    else:\n",
        "        s2[i]=\"4\"\n",
        "# print(s2)\n",
        "s1=int(''.join(map(str,s1)))\n",
        "# print(s1)\n",
        "s2=int(''.join(map(str,s2)))\n",
        "# print(s2)\n",
        "# a=s1+s2\n",
        "# print(a)\n",
        "ss1=int(str(s1),5)\n",
        "# print(ss1)\n",
        "ss2=int(str(s2),5)\n",
        "# print(ss2)\n",
        "b=ss1+ss2\n",
        "# print(b)\n",
        "# c=format(62,'d')\n",
        "# print(format(62,'d'))\n",
        "def base10int(value, base):\n",
        "    if (int(value / base)):\n",
        "        return base10int(int(value / base), base) + str(value % base)\n",
        "    return str(value % base)\n",
        "\n",
        "d=base10int(b, 5)\n",
        "d=list(d)\n",
        "# print(d)\n",
        "for i in range(len(d)):\n",
        "    if d[i]==\"0\":\n",
        "        d[i]='A'\n",
        "    elif d[i]==\"1\":\n",
        "        d[i]='B'\n",
        "    elif d[i]==\"2\":\n",
        "        d[i]=\"C\"\n",
        "    elif d[i]==\"3\":\n",
        "        d[i]=\"D\"\n",
        "    else:\n",
        "        d[i]=\"E\"\n",
        "# print(d)\n",
        "print(''.join(map(str,d)))"
      ],
      "execution_count": null,
      "outputs": []
    }
  ]
}