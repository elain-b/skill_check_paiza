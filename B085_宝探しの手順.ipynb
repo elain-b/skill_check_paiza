{
  "nbformat": 4,
  "nbformat_minor": 0,
  "metadata": {
    "colab": {
      "name": "B085:宝探しの手順.ipynb",
      "provenance": [],
      "collapsed_sections": [],
      "authorship_tag": "ABX9TyM5aAtxxkKBnFmAfVHnMjX/",
      "include_colab_link": true
    },
    "kernelspec": {
      "name": "python3",
      "display_name": "Python 3"
    }
  },
  "cells": [
    {
      "cell_type": "markdown",
      "metadata": {
        "id": "view-in-github",
        "colab_type": "text"
      },
      "source": [
        "<a href=\"https://colab.research.google.com/github/elain-b/skill_check_paiza/blob/master/B085_%E5%AE%9D%E6%8E%A2%E3%81%97%E3%81%AE%E6%89%8B%E9%A0%86.ipynb\" target=\"_parent\"><img src=\"https://colab.research.google.com/assets/colab-badge.svg\" alt=\"Open In Colab\"/></a>"
      ]
    },
    {
      "cell_type": "code",
      "metadata": {
        "id": "KsjMRp6gc6CG"
      },
      "source": [
        "P=int(input())\n",
        "num=0\n",
        "num2=0\n",
        "x,y=0,0\n",
        "while x!=P:\n",
        "    y+=1\n",
        "    num+=y\n",
        "    x+=y\n",
        "    if x==P:\n",
        "        break\n",
        "    y+=1\n",
        "    x-=y\n",
        "    num+=y\n",
        "x,y,i,j=0,0,1,0\n",
        "while not(x<=P and P<=0):\n",
        "    num2+=y\n",
        "    y=i-x\n",
        "    x=i\n",
        "    if x>=P and P>=0:\n",
        "        break\n",
        "    num2+=y\n",
        "    y=i+x\n",
        "    x=-i\n",
        "    j=i\n",
        "    i*=2\n",
        "y=abs(P)+j\n",
        "num2+=y\n",
        "print(num,num2)"
      ],
      "execution_count": null,
      "outputs": []
    }
  ]
}