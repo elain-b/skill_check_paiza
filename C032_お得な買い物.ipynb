{
  "nbformat": 4,
  "nbformat_minor": 0,
  "metadata": {
    "colab": {
      "name": "C032:お得な買い物.ipynb",
      "provenance": [],
      "collapsed_sections": [],
      "authorship_tag": "ABX9TyMN8CY5U97+87bsBzawU1Jh",
      "include_colab_link": true
    },
    "kernelspec": {
      "name": "python3",
      "display_name": "Python 3"
    }
  },
  "cells": [
    {
      "cell_type": "markdown",
      "metadata": {
        "id": "view-in-github",
        "colab_type": "text"
      },
      "source": [
        "<a href=\"https://colab.research.google.com/github/elain-b/skill_check_paiza/blob/master/C032_%E3%81%8A%E5%BE%97%E3%81%AA%E8%B2%B7%E3%81%84%E7%89%A9.ipynb\" target=\"_parent\"><img src=\"https://colab.research.google.com/assets/colab-badge.svg\" alt=\"Open In Colab\"/></a>"
      ]
    },
    {
      "cell_type": "code",
      "metadata": {
        "id": "sXYFItMBYNuG",
        "colab_type": "code",
        "colab": {}
      },
      "source": [
        "n=int(input())\n",
        "a=[0]*4\n",
        "for i in range(n):\n",
        "    v,p=map(int, input().split())\n",
        "    a[v]=a[v]+p\n",
        "print(a[0]//100*5+a[1]//100*3+a[2]//100*2+a[3]//100*1)"
      ],
      "execution_count": null,
      "outputs": []
    }
  ]
}