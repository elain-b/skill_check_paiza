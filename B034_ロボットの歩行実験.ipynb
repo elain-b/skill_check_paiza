{
  "nbformat": 4,
  "nbformat_minor": 0,
  "metadata": {
    "colab": {
      "name": "B034:ロボットの歩行実験.ipynb",
      "provenance": [],
      "collapsed_sections": [],
      "authorship_tag": "ABX9TyM6yrSdtJQOIf37Xyw4bDkm",
      "include_colab_link": true
    },
    "kernelspec": {
      "name": "python3",
      "display_name": "Python 3"
    },
    "language_info": {
      "name": "python"
    }
  },
  "cells": [
    {
      "cell_type": "markdown",
      "metadata": {
        "id": "view-in-github",
        "colab_type": "text"
      },
      "source": [
        "<a href=\"https://colab.research.google.com/github/elain-b/skill_check_paiza/blob/master/B034_%E3%83%AD%E3%83%9C%E3%83%83%E3%83%88%E3%81%AE%E6%AD%A9%E8%A1%8C%E5%AE%9F%E9%A8%93.ipynb\" target=\"_parent\"><img src=\"https://colab.research.google.com/assets/colab-badge.svg\" alt=\"Open In Colab\"/></a>"
      ]
    },
    {
      "cell_type": "code",
      "metadata": {
        "id": "FE1VmMxoSczu"
      },
      "source": [
        "s_x,s_y=map(int,input().split())\n",
        "d_f,d_r,d_b,d_l=map(int,input().split())\n",
        "N=int(input())\n",
        "muki='F'\n",
        "for i in range(N):\n",
        "    e=input().split()\n",
        "    if e[0]=='m':\n",
        "        if e[1]=='F':\n",
        "            if muki=='F':\n",
        "                s_y+=d_f\n",
        "            elif muki=='R':\n",
        "                s_x+=d_f\n",
        "            elif muki=='B':\n",
        "                s_y-=d_f\n",
        "            elif muki=='L':\n",
        "                s_x-=d_f\n",
        "        elif e[1]=='R':\n",
        "            if muki=='F':\n",
        "                s_x+=d_r\n",
        "            elif muki=='R':\n",
        "                s_y-=d_r\n",
        "            elif muki=='B':\n",
        "                s_x-=d_r\n",
        "            elif muki=='L':\n",
        "                s_y+=d_r\n",
        "        elif e[1]=='B':\n",
        "            if muki=='F':\n",
        "                s_y-=d_b\n",
        "            elif muki=='R':\n",
        "                s_x-=d_b\n",
        "            elif muki=='B':\n",
        "                s_y+=d_b\n",
        "            elif muki=='L':\n",
        "                s_x+=d_b\n",
        "        elif e[1]=='L':\n",
        "            if muki=='F':\n",
        "                s_x-=d_l\n",
        "            elif muki=='R':\n",
        "                s_y+=d_l\n",
        "            elif muki=='B':\n",
        "                s_x+=d_l\n",
        "            elif muki=='L':\n",
        "                s_y-=d_l\n",
        "    if e[0]=='t':\n",
        "        if e[1]=='F':\n",
        "            muki='F'\n",
        "        elif e[1]=='R':\n",
        "            if muki=='F':\n",
        "                muki='R'\n",
        "            elif muki=='R':\n",
        "                muki='B'\n",
        "            elif muki=='B':\n",
        "                muki='L'\n",
        "            elif muki=='L':\n",
        "                muki='F'\n",
        "        elif e[1]=='B':\n",
        "            if muki=='F':\n",
        "                muki='B'\n",
        "            elif muki=='R':\n",
        "                muki='L'\n",
        "            elif muki=='B':\n",
        "                muki='F'\n",
        "            elif muki=='L':\n",
        "                muki='R'\n",
        "        elif e[1]=='L':\n",
        "            if muki=='F':\n",
        "                muki='L'\n",
        "            elif muki=='R':\n",
        "                muki='F'\n",
        "            elif muki=='B':\n",
        "                muki='R'\n",
        "            elif muki=='L':\n",
        "                muki='B'\n",
        "print(s_x,s_y)"
      ],
      "execution_count": null,
      "outputs": []
    }
  ]
}