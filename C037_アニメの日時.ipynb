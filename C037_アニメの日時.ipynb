{
  "nbformat": 4,
  "nbformat_minor": 0,
  "metadata": {
    "colab": {
      "name": "C037:アニメの日時.ipynb",
      "provenance": [],
      "collapsed_sections": [],
      "authorship_tag": "ABX9TyOPXKyxFl4jEZYaumxCziGB",
      "include_colab_link": true
    },
    "kernelspec": {
      "name": "python3",
      "display_name": "Python 3"
    }
  },
  "cells": [
    {
      "cell_type": "markdown",
      "metadata": {
        "id": "view-in-github",
        "colab_type": "text"
      },
      "source": [
        "<a href=\"https://colab.research.google.com/github/elain-b/skill_check_paiza/blob/master/C037_%E3%82%A2%E3%83%8B%E3%83%A1%E3%81%AE%E6%97%A5%E6%99%82.ipynb\" target=\"_parent\"><img src=\"https://colab.research.google.com/assets/colab-badge.svg\" alt=\"Open In Colab\"/></a>"
      ]
    },
    {
      "cell_type": "code",
      "metadata": {
        "id": "vFwz5XdMtD-4",
        "colab_type": "code",
        "colab": {}
      },
      "source": [
        "import re\n",
        "t=input()\n",
        "t=list(map(int, re.split('[/ :]', t)))\n",
        "while t[2] >= 24:\n",
        "    t[2] -= 24\n",
        "    t[1] += 1\n",
        "print('{month:02}/{day:02} {hour:02}:{minute:02}'.format(month=t[0], day=t[1], hour=t[2], minute=t[3]))"
      ],
      "execution_count": 0,
      "outputs": []
    }
  ]
}