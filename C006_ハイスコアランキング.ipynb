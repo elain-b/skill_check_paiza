{
  "nbformat": 4,
  "nbformat_minor": 0,
  "metadata": {
    "colab": {
      "name": "C006:ハイスコアランキング.ipynb",
      "provenance": [],
      "collapsed_sections": [],
      "authorship_tag": "ABX9TyP6YQaCpd4HHBxrmlBgWTcc",
      "include_colab_link": true
    },
    "kernelspec": {
      "name": "python3",
      "display_name": "Python 3"
    }
  },
  "cells": [
    {
      "cell_type": "markdown",
      "metadata": {
        "id": "view-in-github",
        "colab_type": "text"
      },
      "source": [
        "<a href=\"https://colab.research.google.com/github/elain-b/skill_check_paiza/blob/master/C006_%E3%83%8F%E3%82%A4%E3%82%B9%E3%82%B3%E3%82%A2%E3%83%A9%E3%83%B3%E3%82%AD%E3%83%B3%E3%82%B0.ipynb\" target=\"_parent\"><img src=\"https://colab.research.google.com/assets/colab-badge.svg\" alt=\"Open In Colab\"/></a>"
      ]
    },
    {
      "cell_type": "code",
      "metadata": {
        "id": "VVUT6IyDDC64",
        "colab_type": "code",
        "colab": {}
      },
      "source": [
        "n,m,k=map(int, input().split())\n",
        "c=list(map(float,input().split()))\n",
        "a=[0 for _ in range(m)]\n",
        "for i in range(m):\n",
        "    x=list(map(int,input().split()))\n",
        "    for j in range(n):\n",
        "        a[i]=a[i]+x[j]*c[j]\n",
        "    a[i]=round(a[i])\n",
        "a=sorted(a,reverse=True)\n",
        "a=a[:k]\n",
        "for i in a:\n",
        "    print(i)"
      ],
      "execution_count": null,
      "outputs": []
    }
  ]
}