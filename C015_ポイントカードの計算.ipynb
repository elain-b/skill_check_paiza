{
  "nbformat": 4,
  "nbformat_minor": 0,
  "metadata": {
    "colab": {
      "name": "C015:ポイントカードの計算.ipynb",
      "provenance": [],
      "collapsed_sections": [],
      "authorship_tag": "ABX9TyOAk3VackX2q1djik1zbNT/",
      "include_colab_link": true
    },
    "kernelspec": {
      "name": "python3",
      "display_name": "Python 3"
    }
  },
  "cells": [
    {
      "cell_type": "markdown",
      "metadata": {
        "id": "view-in-github",
        "colab_type": "text"
      },
      "source": [
        "<a href=\"https://colab.research.google.com/github/elain-b/skill_check_paiza/blob/master/C015_%E3%83%9D%E3%82%A4%E3%83%B3%E3%83%88%E3%82%AB%E3%83%BC%E3%83%89%E3%81%AE%E8%A8%88%E7%AE%97.ipynb\" target=\"_parent\"><img src=\"https://colab.research.google.com/assets/colab-badge.svg\" alt=\"Open In Colab\"/></a>"
      ]
    },
    {
      "cell_type": "code",
      "metadata": {
        "id": "OTl9HPtkABb3",
        "colab_type": "code",
        "colab": {}
      },
      "source": [
        "import sys\n",
        "N=int(input())\n",
        "d=[[str(s) for s in line.split()] for line in sys.stdin]\n",
        "dd=0\n",
        "for i in range(N):\n",
        "    if  \"5\" in d[i][0]:\n",
        "        dd += int(int(d[i][1]) * 0.05)\n",
        "    elif \"3\" in d[i][0] :\n",
        "        dd += int(int(d[i][1]) * 0.03)\n",
        "    else:\n",
        "        dd += int(int(d[i][1]) * 0.01)\n",
        "print(dd)"
      ],
      "execution_count": 0,
      "outputs": []
    }
  ]
}