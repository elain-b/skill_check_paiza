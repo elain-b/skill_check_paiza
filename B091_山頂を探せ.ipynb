{
  "nbformat": 4,
  "nbformat_minor": 0,
  "metadata": {
    "colab": {
      "name": "B091:山頂を探せ.ipynb",
      "provenance": [],
      "authorship_tag": "ABX9TyNe0bYT3HbxzpRJ0jCFsU9z",
      "include_colab_link": true
    },
    "kernelspec": {
      "name": "python3",
      "display_name": "Python 3"
    },
    "language_info": {
      "name": "python"
    }
  },
  "cells": [
    {
      "cell_type": "markdown",
      "metadata": {
        "id": "view-in-github",
        "colab_type": "text"
      },
      "source": [
        "<a href=\"https://colab.research.google.com/github/elain-b/skill_check_paiza/blob/master/B091_%E5%B1%B1%E9%A0%82%E3%82%92%E6%8E%A2%E3%81%9B.ipynb\" target=\"_parent\"><img src=\"https://colab.research.google.com/assets/colab-badge.svg\" alt=\"Open In Colab\"/></a>"
      ]
    },
    {
      "cell_type": "code",
      "metadata": {
        "id": "DWc01v892x-5"
      },
      "source": [
        "n=int(input())\n",
        "h=[]\n",
        "y=[]\n",
        "for i in range(n):\n",
        "    H=list(map(int, input().split()))\n",
        "    h.append(H)\n",
        "    h[i].insert(0,0)\n",
        "    h[i].append(0)\n",
        "h0=[0 for i in range(n+2)]\n",
        "h.insert(0,h0)\n",
        "h.append(h0)\n",
        "for k in range(1,n+1):\n",
        "    for j in range(1,n+1):\n",
        "        x=h[k][j]\n",
        "        if x>h[k-1][j] and x>h[k+1][j] and x>h[k][j-1] and x>h[k][j+1]:\n",
        "            y.append(x)\n",
        "y.sort(reverse=True)\n",
        "for i in y:\n",
        "    print(i)"
      ],
      "execution_count": null,
      "outputs": []
    }
  ]
}