{
  "nbformat": 4,
  "nbformat_minor": 0,
  "metadata": {
    "colab": {
      "name": "C021:暴風域にいますか？.ipynb",
      "provenance": [],
      "collapsed_sections": [],
      "authorship_tag": "ABX9TyMjKlkoxHqT62ymCK+CAAGN",
      "include_colab_link": true
    },
    "kernelspec": {
      "name": "python3",
      "display_name": "Python 3"
    }
  },
  "cells": [
    {
      "cell_type": "markdown",
      "metadata": {
        "id": "view-in-github",
        "colab_type": "text"
      },
      "source": [
        "<a href=\"https://colab.research.google.com/github/elain-b/skill_check_paiza/blob/master/C021_%E6%9A%B4%E9%A2%A8%E5%9F%9F%E3%81%AB%E3%81%84%E3%81%BE%E3%81%99%E3%81%8B%EF%BC%9F.ipynb\" target=\"_parent\"><img src=\"https://colab.research.google.com/assets/colab-badge.svg\" alt=\"Open In Colab\"/></a>"
      ]
    },
    {
      "cell_type": "code",
      "metadata": {
        "id": "qNkkKWYgtZy8",
        "colab_type": "code",
        "colab": {}
      },
      "source": [
        "import sys\n",
        "xc, yc, r_1, r_2= map(int,input().split())\n",
        "n=int(input())\n",
        "x=[[s for s in line.split()] for line in sys.stdin]\n",
        "for i in range(n):\n",
        "    if r_1 ** 2 <= (int(x[i][0])-xc) ** 2 + (int(x[i][1])-yc) ** 2 <= r_2 ** 2:\n",
        "        print('yes')\n",
        "    else:\n",
        "        print('no')"
      ],
      "execution_count": null,
      "outputs": []
    }
  ]
}