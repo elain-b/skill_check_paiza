{
  "nbformat": 4,
  "nbformat_minor": 0,
  "metadata": {
    "colab": {
      "name": "C039:古代の数式.ipynb",
      "provenance": [],
      "collapsed_sections": [],
      "authorship_tag": "ABX9TyMgaYeMhYF510t8MNHCEJc3",
      "include_colab_link": true
    },
    "kernelspec": {
      "name": "python3",
      "display_name": "Python 3"
    }
  },
  "cells": [
    {
      "cell_type": "markdown",
      "metadata": {
        "id": "view-in-github",
        "colab_type": "text"
      },
      "source": [
        "<a href=\"https://colab.research.google.com/github/elain-b/skill_check_paiza/blob/master/C039_%E5%8F%A4%E4%BB%A3%E3%81%AE%E6%95%B0%E5%BC%8F.ipynb\" target=\"_parent\"><img src=\"https://colab.research.google.com/assets/colab-badge.svg\" alt=\"Open In Colab\"/></a>"
      ]
    },
    {
      "cell_type": "code",
      "metadata": {
        "id": "_rRzOtK4LU7-",
        "colab_type": "code",
        "colab": {}
      },
      "source": [
        "e=input().split('+')\n",
        "a=0\n",
        "for i in e:\n",
        "    a=a+i.count('<')*10\n",
        "    a=a+i.count('/')\n",
        "print(a)"
      ],
      "execution_count": null,
      "outputs": []
    }
  ]
}