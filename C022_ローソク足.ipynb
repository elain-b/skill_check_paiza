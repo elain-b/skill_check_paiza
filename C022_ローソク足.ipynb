{
  "nbformat": 4,
  "nbformat_minor": 0,
  "metadata": {
    "colab": {
      "name": "C022:ローソク足.ipynb",
      "provenance": [],
      "collapsed_sections": [],
      "authorship_tag": "ABX9TyNvvLp/Y6QJHNSnj69a3BUf",
      "include_colab_link": true
    },
    "kernelspec": {
      "name": "python3",
      "display_name": "Python 3"
    }
  },
  "cells": [
    {
      "cell_type": "markdown",
      "metadata": {
        "id": "view-in-github",
        "colab_type": "text"
      },
      "source": [
        "<a href=\"https://colab.research.google.com/github/elain-b/skill_check_paiza/blob/master/C022_%E3%83%AD%E3%83%BC%E3%82%BD%E3%82%AF%E8%B6%B3.ipynb\" target=\"_parent\"><img src=\"https://colab.research.google.com/assets/colab-badge.svg\" alt=\"Open In Colab\"/></a>"
      ]
    },
    {
      "cell_type": "code",
      "metadata": {
        "id": "dXuK3lKPNgry",
        "colab_type": "code",
        "colab": {}
      },
      "source": [
        "import numpy as np\n",
        "n = int(input())\n",
        "s = []\n",
        "u = \"\"\n",
        "for i in range(n):\n",
        "    s.append(list(map(int, input().split())))\n",
        "m = np.amax(s, axis=0)\n",
        "k = np.amin(s, axis=0)\n",
        "u += str(s[0][0]) + \" \"\n",
        "u += str(s[-1][1]) + \" \"\n",
        "u += str(m[2]) + \" \"\n",
        "u += str(k[3])\n",
        "print(u)"
      ],
      "execution_count": 0,
      "outputs": []
    }
  ]
}