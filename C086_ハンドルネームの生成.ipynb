{
  "nbformat": 4,
  "nbformat_minor": 0,
  "metadata": {
    "colab": {
      "name": "C086:ハンドルネームの生成.ipynb",
      "provenance": [],
      "collapsed_sections": [],
      "authorship_tag": "ABX9TyPxv5czKhSWHAEtxFwEjOtY",
      "include_colab_link": true
    },
    "kernelspec": {
      "name": "python3",
      "display_name": "Python 3"
    }
  },
  "cells": [
    {
      "cell_type": "markdown",
      "metadata": {
        "id": "view-in-github",
        "colab_type": "text"
      },
      "source": [
        "<a href=\"https://colab.research.google.com/github/elain-b/skill_check_paiza/blob/master/C086_%E3%83%8F%E3%83%B3%E3%83%89%E3%83%AB%E3%83%8D%E3%83%BC%E3%83%A0%E3%81%AE%E7%94%9F%E6%88%90.ipynb\" target=\"_parent\"><img src=\"https://colab.research.google.com/assets/colab-badge.svg\" alt=\"Open In Colab\"/></a>"
      ]
    },
    {
      "cell_type": "code",
      "metadata": {
        "id": "QVPuOPMTAxJq"
      },
      "source": [
        "print(input().replace(\"a\",\"\").replace(\"e\",\"\").replace(\"i\",\"\").replace(\"o\",\"\").replace(\"u\",\"\").replace(\"A\",\"\").replace(\"E\",\"\").replace(\"I\",\"\").replace(\"O\",\"\").replace(\"U\",\"\"))"
      ],
      "execution_count": null,
      "outputs": []
    }
  ]
}