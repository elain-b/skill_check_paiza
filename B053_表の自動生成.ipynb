{
  "nbformat": 4,
  "nbformat_minor": 0,
  "metadata": {
    "colab": {
      "name": "B053:表の自動生成.ipynb",
      "provenance": [],
      "collapsed_sections": [],
      "authorship_tag": "ABX9TyOhgeDk0dErJo9XfoMiY8Eq",
      "include_colab_link": true
    },
    "kernelspec": {
      "name": "python3",
      "display_name": "Python 3"
    }
  },
  "cells": [
    {
      "cell_type": "markdown",
      "metadata": {
        "id": "view-in-github",
        "colab_type": "text"
      },
      "source": [
        "<a href=\"https://colab.research.google.com/github/elain-b/skill_check_paiza/blob/master/B053_%E8%A1%A8%E3%81%AE%E8%87%AA%E5%8B%95%E7%94%9F%E6%88%90.ipynb\" target=\"_parent\"><img src=\"https://colab.research.google.com/assets/colab-badge.svg\" alt=\"Open In Colab\"/></a>"
      ]
    },
    {
      "cell_type": "code",
      "metadata": {
        "id": "1dvOzvgowC8B",
        "colab_type": "code",
        "colab": {}
      },
      "source": [
        "h,w=map(int, input().split())\n",
        "df=[[[] for _ in range(w)] for _ in range(h)]\n",
        "df[0][0],df[0][1]=map(int, input().split())\n",
        "df[1][0],df[1][1]=map(int, input().split())\n",
        "for i in range(2):\n",
        "    for j in range(2,w):\n",
        "        df[i][j]=df[i][j-1]+(df[i][1]-df[i][0])\n",
        "for i in range(2,h):\n",
        "    for j in range(w):\n",
        "        df[i][j]=df[i-1][j]+(df[i-1][j]-df[i-2][j])\n",
        "for i in df:\n",
        "    rs = [str(n) for n in i]\n",
        "    print(\" \".join(rs))"
      ],
      "execution_count": null,
      "outputs": []
    }
  ]
}