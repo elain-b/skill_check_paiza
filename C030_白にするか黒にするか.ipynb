{
  "nbformat": 4,
  "nbformat_minor": 0,
  "metadata": {
    "colab": {
      "name": "C030:白にするか黒にするか.ipynb",
      "provenance": [],
      "collapsed_sections": [],
      "authorship_tag": "ABX9TyMbs4Ig8QCXBdYxjhM+Jbo8",
      "include_colab_link": true
    },
    "kernelspec": {
      "name": "python3",
      "display_name": "Python 3"
    }
  },
  "cells": [
    {
      "cell_type": "markdown",
      "metadata": {
        "id": "view-in-github",
        "colab_type": "text"
      },
      "source": [
        "<a href=\"https://colab.research.google.com/github/elain-b/skill_check_paiza/blob/master/C030_%E7%99%BD%E3%81%AB%E3%81%99%E3%82%8B%E3%81%8B%E9%BB%92%E3%81%AB%E3%81%99%E3%82%8B%E3%81%8B.ipynb\" target=\"_parent\"><img src=\"https://colab.research.google.com/assets/colab-badge.svg\" alt=\"Open In Colab\"/></a>"
      ]
    },
    {
      "cell_type": "code",
      "metadata": {
        "id": "y2jxBkYbwVMX",
        "colab_type": "code",
        "colab": {}
      },
      "source": [
        "h,w=map(int,input().split())\n",
        "for i in range(h):\n",
        "    b=list(map(int,input().split()))\n",
        "    for j in range(w):\n",
        "        if b[j]>=128:\n",
        "            b[j]=1\n",
        "        else:\n",
        "            b[j]=0\n",
        "    l=map(str,b)\n",
        "    s=' '.join(l)\n",
        "    print(s)"
      ],
      "execution_count": null,
      "outputs": []
    }
  ]
}