{
  "nbformat": 4,
  "nbformat_minor": 0,
  "metadata": {
    "colab": {
      "name": "C034:先生の宿題.ipynb",
      "provenance": [],
      "collapsed_sections": [],
      "include_colab_link": true
    },
    "kernelspec": {
      "name": "python3",
      "display_name": "Python 3"
    }
  },
  "cells": [
    {
      "cell_type": "markdown",
      "metadata": {
        "id": "view-in-github",
        "colab_type": "text"
      },
      "source": [
        "<a href=\"https://colab.research.google.com/github/elain-b/skill_check_paiza/blob/master/C034_%E5%85%88%E7%94%9F%E3%81%AE%E5%AE%BF%E9%A1%8C.ipynb\" target=\"_parent\"><img src=\"https://colab.research.google.com/assets/colab-badge.svg\" alt=\"Open In Colab\"/></a>"
      ]
    },
    {
      "cell_type": "code",
      "metadata": {
        "id": "Mktw_LVTio-x",
        "colab_type": "code",
        "colab": {}
      },
      "source": [
        "s=input()\n",
        "s = s.split()\n",
        "if s[0] == 'x':\n",
        "    if s[1] == '+':\n",
        "        print(int(s[4]) - int(s[2]))\n",
        "    else:\n",
        "        print(int(s[4]) + int(s[2]))\n",
        "elif s[2] == 'x':\n",
        "    if s[1] == '+':\n",
        "        print(int(s[4]) - int(s[0]))\n",
        "    else:\n",
        "        print(int(s[0]) - int(s[4]))\n",
        "elif s[4] == 'x':\n",
        "    if s[1] == '+':\n",
        "        print(int(s[0]) + int(s[2]))\n",
        "    else:\n",
        "        print(int(s[0]) - int(s[2]))"
      ],
      "execution_count": 0,
      "outputs": []
    }
  ]
}